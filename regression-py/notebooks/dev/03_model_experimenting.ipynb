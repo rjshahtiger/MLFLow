{
 "cells": [
  {
   "cell_type": "markdown",
   "metadata": {},
   "source": [
    "# Purpose"
   ]
  },
  {
   "cell_type": "markdown",
   "metadata": {},
   "source": [
    "This notebook demonstrates the model experimentation and finalization. It covers EDA, outlier treatment, transformation, training, model evaluation and comparison across models."
   ]
  },
  {
   "cell_type": "markdown",
   "metadata": {},
   "source": [
    "## Imports"
   ]
  },
  {
   "cell_type": "code",
   "execution_count": 11,
   "metadata": {},
   "outputs": [],
   "source": [
    "import os\n",
    "import os.path as op\n",
    "import shutil\n",
    "\n",
    "# standard third party imports\n",
    "import numpy as np\n",
    "import pandas as pd\n",
    "from matplotlib import pyplot as plt\n",
    "from sklearn.pipeline import Pipeline\n",
    "from sklearn.feature_selection import SelectFromModel\n",
    "from sklearn.model_selection import GridSearchCV\n",
    "from sklearn.preprocessing import FunctionTransformer\n",
    "from sklearn.compose import ColumnTransformer\n",
    "\n",
    "# impute missing values\n",
    "from sklearn.experimental import enable_iterative_imputer  # noqa\n",
    "from sklearn.impute import KNNImputer, IterativeImputer, SimpleImputer\n",
    "from sklearn.tree import DecisionTreeRegressor\n",
    "from category_encoders import TargetEncoder\n",
    "from sklearn.preprocessing import OneHotEncoder\n",
    "import json"
   ]
  },
  {
   "cell_type": "code",
   "execution_count": 12,
   "metadata": {},
   "outputs": [
    {
     "name": "stdout",
     "output_type": "stream",
     "text": [
      "The autoreload extension is already loaded. To reload it, use:\n",
      "  %reload_ext autoreload\n"
     ]
    }
   ],
   "source": [
    "%load_ext autoreload\n",
    "%autoreload 2"
   ]
  },
  {
   "cell_type": "code",
   "execution_count": 13,
   "metadata": {},
   "outputs": [],
   "source": [
    "import warnings\n",
    "\n",
    "warnings.filterwarnings('ignore', message=\"pandas.Int64Index is deprecated and will be removed from pandas in a future version. Use pandas.Index with the appropriate dtype instead.\", \n",
    "                        category=FutureWarning)\n",
    "warnings.filterwarnings('ignore', message=\"pandas.Float64Index is deprecated and will be removed from pandas in a future version. Use pandas.Index with the appropriate dtype instead.\",\n",
    "                        category=FutureWarning)"
   ]
  },
  {
   "cell_type": "code",
   "execution_count": 14,
   "metadata": {},
   "outputs": [],
   "source": [
    "# standard code-template imports\n",
    "from ta_lib.core.api import (\n",
    "    create_context, get_dataframe, get_feature_names_from_column_transformer, string_cleaning,\n",
    "    get_package_path, display_as_tabs, save_pipeline, load_pipeline, initialize_environment,\n",
    "    load_dataset, save_dataset, DEFAULT_ARTIFACTS_PATH\n",
    ")\n",
    "\n",
    "import ta_lib.eda.api as eda\n",
    "from xgboost import XGBRegressor\n",
    "from ta_lib.regression.api import SKLStatsmodelOLS\n",
    "from ta_lib.regression.api import RegressionComparison, RegressionReport\n",
    "import ta_lib.reports.api as reports\n",
    "from ta_lib.data_processing.api import Outlier\n",
    "\n",
    "initialize_environment(debug=False, hide_warnings=True)"
   ]
  },
  {
   "cell_type": "markdown",
   "metadata": {},
   "source": [
    "# Initialization"
   ]
  },
  {
   "cell_type": "code",
   "execution_count": 15,
   "metadata": {},
   "outputs": [],
   "source": [
    "artifacts_folder = DEFAULT_ARTIFACTS_PATH"
   ]
  },
  {
   "cell_type": "code",
   "execution_count": 16,
   "metadata": {},
   "outputs": [],
   "source": [
    "config_path = op.join('conf', 'config.yml')\n",
    "context = create_context(config_path)"
   ]
  },
  {
   "cell_type": "markdown",
   "metadata": {},
   "source": [
    "# 3 Feature Engineering\n",
    "\n",
    "The focus here is the `Pipeline` and not the model. Though the model would inform the pipeline that is needed to train the model, our focus is to set it up in such a way that it can be saved/loaded, tweaked for different model choices and so on."
   ]
  },
  {
   "cell_type": "markdown",
   "metadata": {},
   "source": [
    "## 3.1 Read the Train and Test Data"
   ]
  },
  {
   "cell_type": "code",
   "execution_count": 17,
   "metadata": {},
   "outputs": [
    {
     "name": "stdout",
     "output_type": "stream",
     "text": [
      "(16512, 12) (16512, 1)\n",
      "(4128, 12) (4128, 1)\n"
     ]
    }
   ],
   "source": [
    "train_X = load_dataset(context, 'train/housing/features')\n",
    "train_y = load_dataset(context, 'train/housing/target')\n",
    "print(train_X.shape, train_y.shape)\n",
    "\n",
    "test_X = load_dataset(context, 'test/housing/features')\n",
    "test_y = load_dataset(context, 'test/housing/target')\n",
    "print(test_X.shape, test_y.shape)"
   ]
  },
  {
   "cell_type": "code",
   "execution_count": 18,
   "metadata": {},
   "outputs": [
    {
     "data": {
      "text/html": [
       "<div>\n",
       "<style scoped>\n",
       "    .dataframe tbody tr th:only-of-type {\n",
       "        vertical-align: middle;\n",
       "    }\n",
       "\n",
       "    .dataframe tbody tr th {\n",
       "        vertical-align: top;\n",
       "    }\n",
       "\n",
       "    .dataframe thead th {\n",
       "        text-align: right;\n",
       "    }\n",
       "</style>\n",
       "<table border=\"1\" class=\"dataframe\">\n",
       "  <thead>\n",
       "    <tr style=\"text-align: right;\">\n",
       "      <th></th>\n",
       "      <th>longitude</th>\n",
       "      <th>latitude</th>\n",
       "      <th>housing_median_age</th>\n",
       "      <th>total_rooms</th>\n",
       "      <th>total_bedrooms</th>\n",
       "      <th>population</th>\n",
       "      <th>households</th>\n",
       "      <th>median_income</th>\n",
       "      <th>ocean_proximity</th>\n",
       "      <th>rooms_per_household</th>\n",
       "      <th>population_per_household</th>\n",
       "      <th>bedrooms_per_room</th>\n",
       "    </tr>\n",
       "  </thead>\n",
       "  <tbody>\n",
       "    <tr>\n",
       "      <th>0</th>\n",
       "      <td>-117.85</td>\n",
       "      <td>33.88</td>\n",
       "      <td>14.0</td>\n",
       "      <td>4753.0</td>\n",
       "      <td>681.0</td>\n",
       "      <td>2138.0</td>\n",
       "      <td>678.0</td>\n",
       "      <td>7.3658</td>\n",
       "      <td>&lt;1H OCEAN</td>\n",
       "      <td>7.010324</td>\n",
       "      <td>3.153392</td>\n",
       "      <td>0.143278</td>\n",
       "    </tr>\n",
       "    <tr>\n",
       "      <th>1</th>\n",
       "      <td>-121.92</td>\n",
       "      <td>37.32</td>\n",
       "      <td>28.0</td>\n",
       "      <td>2089.0</td>\n",
       "      <td>641.0</td>\n",
       "      <td>1666.0</td>\n",
       "      <td>587.0</td>\n",
       "      <td>2.3633</td>\n",
       "      <td>&lt;1H OCEAN</td>\n",
       "      <td>3.558773</td>\n",
       "      <td>2.838160</td>\n",
       "      <td>0.306845</td>\n",
       "    </tr>\n",
       "    <tr>\n",
       "      <th>2</th>\n",
       "      <td>-122.12</td>\n",
       "      <td>37.41</td>\n",
       "      <td>33.0</td>\n",
       "      <td>2892.0</td>\n",
       "      <td>617.0</td>\n",
       "      <td>1250.0</td>\n",
       "      <td>581.0</td>\n",
       "      <td>5.3727</td>\n",
       "      <td>NEAR BAY</td>\n",
       "      <td>4.977625</td>\n",
       "      <td>2.151463</td>\n",
       "      <td>0.213347</td>\n",
       "    </tr>\n",
       "    <tr>\n",
       "      <th>3</th>\n",
       "      <td>-118.37</td>\n",
       "      <td>33.99</td>\n",
       "      <td>32.0</td>\n",
       "      <td>4018.0</td>\n",
       "      <td>564.0</td>\n",
       "      <td>1400.0</td>\n",
       "      <td>568.0</td>\n",
       "      <td>8.6718</td>\n",
       "      <td>&lt;1H OCEAN</td>\n",
       "      <td>7.073944</td>\n",
       "      <td>2.464789</td>\n",
       "      <td>0.140368</td>\n",
       "    </tr>\n",
       "    <tr>\n",
       "      <th>4</th>\n",
       "      <td>-118.49</td>\n",
       "      <td>34.24</td>\n",
       "      <td>34.0</td>\n",
       "      <td>1971.0</td>\n",
       "      <td>316.0</td>\n",
       "      <td>917.0</td>\n",
       "      <td>307.0</td>\n",
       "      <td>6.0965</td>\n",
       "      <td>&lt;1H OCEAN</td>\n",
       "      <td>6.420195</td>\n",
       "      <td>2.986971</td>\n",
       "      <td>0.160325</td>\n",
       "    </tr>\n",
       "    <tr>\n",
       "      <th>...</th>\n",
       "      <td>...</td>\n",
       "      <td>...</td>\n",
       "      <td>...</td>\n",
       "      <td>...</td>\n",
       "      <td>...</td>\n",
       "      <td>...</td>\n",
       "      <td>...</td>\n",
       "      <td>...</td>\n",
       "      <td>...</td>\n",
       "      <td>...</td>\n",
       "      <td>...</td>\n",
       "      <td>...</td>\n",
       "    </tr>\n",
       "    <tr>\n",
       "      <th>16507</th>\n",
       "      <td>-118.22</td>\n",
       "      <td>33.95</td>\n",
       "      <td>36.0</td>\n",
       "      <td>1679.0</td>\n",
       "      <td>483.0</td>\n",
       "      <td>2249.0</td>\n",
       "      <td>487.0</td>\n",
       "      <td>2.8167</td>\n",
       "      <td>&lt;1H OCEAN</td>\n",
       "      <td>3.447639</td>\n",
       "      <td>4.618070</td>\n",
       "      <td>0.287671</td>\n",
       "    </tr>\n",
       "    <tr>\n",
       "      <th>16508</th>\n",
       "      <td>-121.37</td>\n",
       "      <td>38.61</td>\n",
       "      <td>39.0</td>\n",
       "      <td>823.0</td>\n",
       "      <td>146.0</td>\n",
       "      <td>329.0</td>\n",
       "      <td>144.0</td>\n",
       "      <td>3.0833</td>\n",
       "      <td>INLAND</td>\n",
       "      <td>5.715278</td>\n",
       "      <td>2.284722</td>\n",
       "      <td>0.177400</td>\n",
       "    </tr>\n",
       "    <tr>\n",
       "      <th>16509</th>\n",
       "      <td>-118.36</td>\n",
       "      <td>34.26</td>\n",
       "      <td>34.0</td>\n",
       "      <td>3677.0</td>\n",
       "      <td>573.0</td>\n",
       "      <td>1598.0</td>\n",
       "      <td>568.0</td>\n",
       "      <td>6.8380</td>\n",
       "      <td>&lt;1H OCEAN</td>\n",
       "      <td>6.473592</td>\n",
       "      <td>2.813380</td>\n",
       "      <td>0.155834</td>\n",
       "    </tr>\n",
       "    <tr>\n",
       "      <th>16510</th>\n",
       "      <td>-117.13</td>\n",
       "      <td>32.72</td>\n",
       "      <td>52.0</td>\n",
       "      <td>1560.0</td>\n",
       "      <td>307.0</td>\n",
       "      <td>757.0</td>\n",
       "      <td>315.0</td>\n",
       "      <td>2.7083</td>\n",
       "      <td>NEAR OCEAN</td>\n",
       "      <td>4.952381</td>\n",
       "      <td>2.403175</td>\n",
       "      <td>0.196795</td>\n",
       "    </tr>\n",
       "    <tr>\n",
       "      <th>16511</th>\n",
       "      <td>-117.92</td>\n",
       "      <td>33.74</td>\n",
       "      <td>18.0</td>\n",
       "      <td>1639.0</td>\n",
       "      <td>491.0</td>\n",
       "      <td>2513.0</td>\n",
       "      <td>458.0</td>\n",
       "      <td>2.1838</td>\n",
       "      <td>&lt;1H OCEAN</td>\n",
       "      <td>3.578603</td>\n",
       "      <td>5.486900</td>\n",
       "      <td>0.299573</td>\n",
       "    </tr>\n",
       "  </tbody>\n",
       "</table>\n",
       "<p>16512 rows × 12 columns</p>\n",
       "</div>"
      ],
      "text/plain": [
       "       longitude  latitude  housing_median_age  total_rooms  total_bedrooms  \\\n",
       "0        -117.85     33.88                14.0       4753.0           681.0   \n",
       "1        -121.92     37.32                28.0       2089.0           641.0   \n",
       "2        -122.12     37.41                33.0       2892.0           617.0   \n",
       "3        -118.37     33.99                32.0       4018.0           564.0   \n",
       "4        -118.49     34.24                34.0       1971.0           316.0   \n",
       "...          ...       ...                 ...          ...             ...   \n",
       "16507    -118.22     33.95                36.0       1679.0           483.0   \n",
       "16508    -121.37     38.61                39.0        823.0           146.0   \n",
       "16509    -118.36     34.26                34.0       3677.0           573.0   \n",
       "16510    -117.13     32.72                52.0       1560.0           307.0   \n",
       "16511    -117.92     33.74                18.0       1639.0           491.0   \n",
       "\n",
       "       population  households  median_income ocean_proximity  \\\n",
       "0          2138.0       678.0         7.3658       <1H OCEAN   \n",
       "1          1666.0       587.0         2.3633       <1H OCEAN   \n",
       "2          1250.0       581.0         5.3727        NEAR BAY   \n",
       "3          1400.0       568.0         8.6718       <1H OCEAN   \n",
       "4           917.0       307.0         6.0965       <1H OCEAN   \n",
       "...           ...         ...            ...             ...   \n",
       "16507      2249.0       487.0         2.8167       <1H OCEAN   \n",
       "16508       329.0       144.0         3.0833          INLAND   \n",
       "16509      1598.0       568.0         6.8380       <1H OCEAN   \n",
       "16510       757.0       315.0         2.7083      NEAR OCEAN   \n",
       "16511      2513.0       458.0         2.1838       <1H OCEAN   \n",
       "\n",
       "       rooms_per_household  population_per_household  bedrooms_per_room  \n",
       "0                 7.010324                  3.153392           0.143278  \n",
       "1                 3.558773                  2.838160           0.306845  \n",
       "2                 4.977625                  2.151463           0.213347  \n",
       "3                 7.073944                  2.464789           0.140368  \n",
       "4                 6.420195                  2.986971           0.160325  \n",
       "...                    ...                       ...                ...  \n",
       "16507             3.447639                  4.618070           0.287671  \n",
       "16508             5.715278                  2.284722           0.177400  \n",
       "16509             6.473592                  2.813380           0.155834  \n",
       "16510             4.952381                  2.403175           0.196795  \n",
       "16511             3.578603                  5.486900           0.299573  \n",
       "\n",
       "[16512 rows x 12 columns]"
      ]
     },
     "execution_count": 18,
     "metadata": {},
     "output_type": "execute_result"
    }
   ],
   "source": [
    "train_X"
   ]
  },
  {
   "cell_type": "markdown",
   "metadata": {},
   "source": [
    "## 3.2 Feature Engineering Pipelines\n"
   ]
  },
  {
   "cell_type": "markdown",
   "metadata": {},
   "source": [
    "**Dev NOTES**\n",
    "\n",
    "For Feature Engineering and Model Building sklearn.pipeline.Pipeline are leveraged because of the following advantages\n",
    "<details>\n",
    "    \n",
    "1. It helps in automating workflows and are easier to read and comprehend.\n",
    "2. Right Sequence can be ensured and (for example always encodes before imputing)\n",
    "3. Reproducibility is very convenient with pipelines\n",
    "4. Pipelines help you prevent data leakage in your test data\n",
    "5. Code is near implementation ready"
   ]
  },
  {
   "cell_type": "markdown",
   "metadata": {},
   "source": [
    "#### General Steps in the Feature Transformation are as follows\n",
    " - Outlier Treatment\n",
    " - Encoding of Categorical Columns\n",
    " - Missing Values Imputation"
   ]
  },
  {
   "cell_type": "code",
   "execution_count": 19,
   "metadata": {},
   "outputs": [],
   "source": [
    "# collecting different types of columns for transformations\n",
    "cat_columns = train_X.select_dtypes('object').columns\n",
    "num_columns = train_X.select_dtypes('number').columns"
   ]
  },
  {
   "cell_type": "markdown",
   "metadata": {},
   "source": [
    "#### Outlier Handling\n",
    "- A Custom Transformer is used to handle outliers. It is not included as part of the pipeline as outliers handling are optional for test data\n",
    "- An option to either drop or cap the outliers can be passed during the transform call\n",
    "- If we want to treat outliers for some columns them we can pass cols argument to the Transformer\n",
    "- This will go into production code"
   ]
  },
  {
   "cell_type": "code",
   "execution_count": 20,
   "metadata": {},
   "outputs": [
    {
     "name": "stdout",
     "output_type": "stream",
     "text": [
      "(16512, 12)\n",
      "(16512, 12)\n"
     ]
    }
   ],
   "source": [
    "outlier_transformer = Outlier(method='mean')\n",
    "print(train_X.shape)\n",
    "train_X = outlier_transformer.fit_transform(train_X)\n",
    "print(train_X.shape)"
   ]
  },
  {
   "cell_type": "markdown",
   "metadata": {},
   "source": [
    "#### Encoding\n"
   ]
  },
  {
   "cell_type": "markdown",
   "metadata": {},
   "source": [
    "Some sample pipelines showcasing how to create column specific pipelines and integrating them overall is presented below\n",
    "\n",
    "- Commonly target encoding is done for categorical variables with too many levels.\n",
    "- We also group sparse levels. For fewer levels one hot encoding/label encoding is preferred.\n",
    "- If there is one dominant level, we can use binary encoding.\n",
    "- This will go into production code"
   ]
  },
  {
   "cell_type": "code",
   "execution_count": 21,
   "metadata": {},
   "outputs": [],
   "source": [
    "# NOTE: the list of transformations here are not sequential but weighted \n",
    "# (if multiple transforms are specified for a particular column)\n",
    "# for sequential transforms use a pipeline as shown above.\n",
    "features_transformer = ColumnTransformer([\n",
    "    \n",
    "    ## categorical columns\n",
    "    #('tgt_enc', TargetEncoder(return_df=False),\n",
    "     #list(set(cat_columns))),\n",
    "    \n",
    "    # NOTE: if the same column gets repeated, then they are weighed in the final output\n",
    "    # If we want a sequence of operations, then we use a pipeline but that doesen't YET support\n",
    "    # get_feature_names. \n",
    "    ('tgt_enc_sim_impt', OneHotEncoder(), list(set(cat_columns))),\n",
    "        \n",
    "    ## numeric columns\n",
    "    ('med_enc', SimpleImputer(strategy='median'), num_columns),\n",
    "    \n",
    "])\n"
   ]
  },
  {
   "cell_type": "code",
   "execution_count": null,
   "metadata": {},
   "outputs": [],
   "source": []
  },
  {
   "cell_type": "markdown",
   "metadata": {},
   "source": [
    "**Dev notes(Encoding):**\n",
    "<details>\n",
    "\n",
    "    Some common practices followed in Categorical Feature Encoding are\n",
    "    * For categorical variables with too many levels, target encoding can be done.\n",
    "    * For fewer levels, one hot encoding can be done.\n",
    "    * If one very dominant level is observed, binary encoding can be used.\n",
    "    \n",
    "    \n",
    "</details>"
   ]
  },
  {
   "cell_type": "markdown",
   "metadata": {},
   "source": [
    "## 3.2 Feature analysis\n",
    "\n",
    "Using the pipeline above analyze the features and decide on additional features to add/remove from the pipeline. This section will not be part of the production code, unless input data drifts etc. are explicitly demanded in the project.\n",
    "\n",
    "Here we are primarily focused on feature selection/elimination based on business rules, prior knowledge, data analysis.\n",
    "\n",
    "**We are not building any models at this point.**\n"
   ]
  },
  {
   "cell_type": "markdown",
   "metadata": {},
   "source": [
    "- we create some sample data to analyze that we assume represent the population\n",
    "- train the features transformer and do the analysis as below"
   ]
  },
  {
   "cell_type": "code",
   "execution_count": 22,
   "metadata": {},
   "outputs": [],
   "source": [
    "sample_X = train_X.sample(frac=0.1, random_state=context.random_seed)\n",
    "sample_y = train_y.loc[sample_X.index]\n",
    "\n",
    "sample_train_X = get_dataframe(\n",
    "    features_transformer.fit_transform(sample_X, sample_y), \n",
    "    get_feature_names_from_column_transformer(features_transformer)\n",
    ")\n",
    "\n",
    "# nothing to do for target\n",
    "sample_train_y = sample_y"
   ]
  },
  {
   "cell_type": "code",
   "execution_count": 23,
   "metadata": {},
   "outputs": [
    {
     "data": {
      "text/html": [
       "<div>\n",
       "<style scoped>\n",
       "    .dataframe tbody tr th:only-of-type {\n",
       "        vertical-align: middle;\n",
       "    }\n",
       "\n",
       "    .dataframe tbody tr th {\n",
       "        vertical-align: top;\n",
       "    }\n",
       "\n",
       "    .dataframe thead th {\n",
       "        text-align: right;\n",
       "    }\n",
       "</style>\n",
       "<table border=\"1\" class=\"dataframe\">\n",
       "  <thead>\n",
       "    <tr style=\"text-align: right;\">\n",
       "      <th></th>\n",
       "      <th>ocean_proximity_&lt;1H OCEAN</th>\n",
       "      <th>ocean_proximity_INLAND</th>\n",
       "      <th>ocean_proximity_NEAR BAY</th>\n",
       "      <th>ocean_proximity_NEAR OCEAN</th>\n",
       "      <th>longitude</th>\n",
       "      <th>latitude</th>\n",
       "      <th>housing_median_age</th>\n",
       "      <th>total_rooms</th>\n",
       "      <th>total_bedrooms</th>\n",
       "      <th>population</th>\n",
       "      <th>households</th>\n",
       "      <th>median_income</th>\n",
       "      <th>rooms_per_household</th>\n",
       "      <th>population_per_household</th>\n",
       "      <th>bedrooms_per_room</th>\n",
       "    </tr>\n",
       "  </thead>\n",
       "  <tbody>\n",
       "    <tr>\n",
       "      <th>0</th>\n",
       "      <td>0.0</td>\n",
       "      <td>0.0</td>\n",
       "      <td>0.0</td>\n",
       "      <td>1.0</td>\n",
       "      <td>-118.18</td>\n",
       "      <td>33.84</td>\n",
       "      <td>43.0</td>\n",
       "      <td>2561.0</td>\n",
       "      <td>544.0</td>\n",
       "      <td>1063.0</td>\n",
       "      <td>537.0</td>\n",
       "      <td>3.8350</td>\n",
       "      <td>4.769088</td>\n",
       "      <td>1.979516</td>\n",
       "      <td>0.212417</td>\n",
       "    </tr>\n",
       "    <tr>\n",
       "      <th>1</th>\n",
       "      <td>0.0</td>\n",
       "      <td>1.0</td>\n",
       "      <td>0.0</td>\n",
       "      <td>0.0</td>\n",
       "      <td>-122.25</td>\n",
       "      <td>40.17</td>\n",
       "      <td>47.0</td>\n",
       "      <td>1554.0</td>\n",
       "      <td>308.0</td>\n",
       "      <td>846.0</td>\n",
       "      <td>301.0</td>\n",
       "      <td>1.8077</td>\n",
       "      <td>5.162791</td>\n",
       "      <td>2.810631</td>\n",
       "      <td>0.198198</td>\n",
       "    </tr>\n",
       "    <tr>\n",
       "      <th>2</th>\n",
       "      <td>0.0</td>\n",
       "      <td>0.0</td>\n",
       "      <td>1.0</td>\n",
       "      <td>0.0</td>\n",
       "      <td>-122.43</td>\n",
       "      <td>37.76</td>\n",
       "      <td>52.0</td>\n",
       "      <td>3771.0</td>\n",
       "      <td>1017.0</td>\n",
       "      <td>1575.0</td>\n",
       "      <td>921.0</td>\n",
       "      <td>3.5655</td>\n",
       "      <td>4.094463</td>\n",
       "      <td>1.710098</td>\n",
       "      <td>0.269690</td>\n",
       "    </tr>\n",
       "    <tr>\n",
       "      <th>3</th>\n",
       "      <td>0.0</td>\n",
       "      <td>1.0</td>\n",
       "      <td>0.0</td>\n",
       "      <td>0.0</td>\n",
       "      <td>-121.47</td>\n",
       "      <td>38.55</td>\n",
       "      <td>52.0</td>\n",
       "      <td>1384.0</td>\n",
       "      <td>295.0</td>\n",
       "      <td>561.0</td>\n",
       "      <td>244.0</td>\n",
       "      <td>2.0242</td>\n",
       "      <td>5.672131</td>\n",
       "      <td>2.299180</td>\n",
       "      <td>0.213150</td>\n",
       "    </tr>\n",
       "    <tr>\n",
       "      <th>4</th>\n",
       "      <td>0.0</td>\n",
       "      <td>1.0</td>\n",
       "      <td>0.0</td>\n",
       "      <td>0.0</td>\n",
       "      <td>-119.63</td>\n",
       "      <td>36.64</td>\n",
       "      <td>33.0</td>\n",
       "      <td>1036.0</td>\n",
       "      <td>181.0</td>\n",
       "      <td>620.0</td>\n",
       "      <td>174.0</td>\n",
       "      <td>3.4107</td>\n",
       "      <td>5.954023</td>\n",
       "      <td>3.563218</td>\n",
       "      <td>0.174710</td>\n",
       "    </tr>\n",
       "    <tr>\n",
       "      <th>...</th>\n",
       "      <td>...</td>\n",
       "      <td>...</td>\n",
       "      <td>...</td>\n",
       "      <td>...</td>\n",
       "      <td>...</td>\n",
       "      <td>...</td>\n",
       "      <td>...</td>\n",
       "      <td>...</td>\n",
       "      <td>...</td>\n",
       "      <td>...</td>\n",
       "      <td>...</td>\n",
       "      <td>...</td>\n",
       "      <td>...</td>\n",
       "      <td>...</td>\n",
       "      <td>...</td>\n",
       "    </tr>\n",
       "    <tr>\n",
       "      <th>1646</th>\n",
       "      <td>1.0</td>\n",
       "      <td>0.0</td>\n",
       "      <td>0.0</td>\n",
       "      <td>0.0</td>\n",
       "      <td>-118.18</td>\n",
       "      <td>34.12</td>\n",
       "      <td>29.0</td>\n",
       "      <td>2640.0</td>\n",
       "      <td>737.0</td>\n",
       "      <td>1795.0</td>\n",
       "      <td>655.0</td>\n",
       "      <td>2.3690</td>\n",
       "      <td>4.030534</td>\n",
       "      <td>2.740458</td>\n",
       "      <td>0.279167</td>\n",
       "    </tr>\n",
       "    <tr>\n",
       "      <th>1647</th>\n",
       "      <td>0.0</td>\n",
       "      <td>0.0</td>\n",
       "      <td>1.0</td>\n",
       "      <td>0.0</td>\n",
       "      <td>-122.25</td>\n",
       "      <td>37.81</td>\n",
       "      <td>29.0</td>\n",
       "      <td>4656.0</td>\n",
       "      <td>1414.0</td>\n",
       "      <td>2304.0</td>\n",
       "      <td>1250.0</td>\n",
       "      <td>2.4912</td>\n",
       "      <td>3.724800</td>\n",
       "      <td>1.843200</td>\n",
       "      <td>0.303694</td>\n",
       "    </tr>\n",
       "    <tr>\n",
       "      <th>1648</th>\n",
       "      <td>1.0</td>\n",
       "      <td>0.0</td>\n",
       "      <td>0.0</td>\n",
       "      <td>0.0</td>\n",
       "      <td>-118.42</td>\n",
       "      <td>34.15</td>\n",
       "      <td>18.0</td>\n",
       "      <td>1880.0</td>\n",
       "      <td>420.0</td>\n",
       "      <td>681.0</td>\n",
       "      <td>333.0</td>\n",
       "      <td>4.3214</td>\n",
       "      <td>5.645646</td>\n",
       "      <td>2.045045</td>\n",
       "      <td>0.223404</td>\n",
       "    </tr>\n",
       "    <tr>\n",
       "      <th>1649</th>\n",
       "      <td>1.0</td>\n",
       "      <td>0.0</td>\n",
       "      <td>0.0</td>\n",
       "      <td>0.0</td>\n",
       "      <td>-117.98</td>\n",
       "      <td>33.65</td>\n",
       "      <td>22.0</td>\n",
       "      <td>3335.0</td>\n",
       "      <td>754.0</td>\n",
       "      <td>1500.0</td>\n",
       "      <td>719.0</td>\n",
       "      <td>3.7315</td>\n",
       "      <td>4.638387</td>\n",
       "      <td>2.086231</td>\n",
       "      <td>0.226087</td>\n",
       "    </tr>\n",
       "    <tr>\n",
       "      <th>1650</th>\n",
       "      <td>0.0</td>\n",
       "      <td>0.0</td>\n",
       "      <td>1.0</td>\n",
       "      <td>0.0</td>\n",
       "      <td>-122.09</td>\n",
       "      <td>37.38</td>\n",
       "      <td>36.0</td>\n",
       "      <td>2587.0</td>\n",
       "      <td>416.0</td>\n",
       "      <td>1055.0</td>\n",
       "      <td>410.0</td>\n",
       "      <td>6.1995</td>\n",
       "      <td>6.309756</td>\n",
       "      <td>2.573171</td>\n",
       "      <td>0.160804</td>\n",
       "    </tr>\n",
       "  </tbody>\n",
       "</table>\n",
       "<p>1651 rows × 15 columns</p>\n",
       "</div>"
      ],
      "text/plain": [
       "      ocean_proximity_<1H OCEAN  ocean_proximity_INLAND  \\\n",
       "0                           0.0                     0.0   \n",
       "1                           0.0                     1.0   \n",
       "2                           0.0                     0.0   \n",
       "3                           0.0                     1.0   \n",
       "4                           0.0                     1.0   \n",
       "...                         ...                     ...   \n",
       "1646                        1.0                     0.0   \n",
       "1647                        0.0                     0.0   \n",
       "1648                        1.0                     0.0   \n",
       "1649                        1.0                     0.0   \n",
       "1650                        0.0                     0.0   \n",
       "\n",
       "      ocean_proximity_NEAR BAY  ocean_proximity_NEAR OCEAN  longitude  \\\n",
       "0                          0.0                         1.0    -118.18   \n",
       "1                          0.0                         0.0    -122.25   \n",
       "2                          1.0                         0.0    -122.43   \n",
       "3                          0.0                         0.0    -121.47   \n",
       "4                          0.0                         0.0    -119.63   \n",
       "...                        ...                         ...        ...   \n",
       "1646                       0.0                         0.0    -118.18   \n",
       "1647                       1.0                         0.0    -122.25   \n",
       "1648                       0.0                         0.0    -118.42   \n",
       "1649                       0.0                         0.0    -117.98   \n",
       "1650                       1.0                         0.0    -122.09   \n",
       "\n",
       "      latitude  housing_median_age  total_rooms  total_bedrooms  population  \\\n",
       "0        33.84                43.0       2561.0           544.0      1063.0   \n",
       "1        40.17                47.0       1554.0           308.0       846.0   \n",
       "2        37.76                52.0       3771.0          1017.0      1575.0   \n",
       "3        38.55                52.0       1384.0           295.0       561.0   \n",
       "4        36.64                33.0       1036.0           181.0       620.0   \n",
       "...        ...                 ...          ...             ...         ...   \n",
       "1646     34.12                29.0       2640.0           737.0      1795.0   \n",
       "1647     37.81                29.0       4656.0          1414.0      2304.0   \n",
       "1648     34.15                18.0       1880.0           420.0       681.0   \n",
       "1649     33.65                22.0       3335.0           754.0      1500.0   \n",
       "1650     37.38                36.0       2587.0           416.0      1055.0   \n",
       "\n",
       "      households  median_income  rooms_per_household  \\\n",
       "0          537.0         3.8350             4.769088   \n",
       "1          301.0         1.8077             5.162791   \n",
       "2          921.0         3.5655             4.094463   \n",
       "3          244.0         2.0242             5.672131   \n",
       "4          174.0         3.4107             5.954023   \n",
       "...          ...            ...                  ...   \n",
       "1646       655.0         2.3690             4.030534   \n",
       "1647      1250.0         2.4912             3.724800   \n",
       "1648       333.0         4.3214             5.645646   \n",
       "1649       719.0         3.7315             4.638387   \n",
       "1650       410.0         6.1995             6.309756   \n",
       "\n",
       "      population_per_household  bedrooms_per_room  \n",
       "0                     1.979516           0.212417  \n",
       "1                     2.810631           0.198198  \n",
       "2                     1.710098           0.269690  \n",
       "3                     2.299180           0.213150  \n",
       "4                     3.563218           0.174710  \n",
       "...                        ...                ...  \n",
       "1646                  2.740458           0.279167  \n",
       "1647                  1.843200           0.303694  \n",
       "1648                  2.045045           0.223404  \n",
       "1649                  2.086231           0.226087  \n",
       "1650                  2.573171           0.160804  \n",
       "\n",
       "[1651 rows x 15 columns]"
      ]
     },
     "execution_count": 23,
     "metadata": {},
     "output_type": "execute_result"
    }
   ],
   "source": [
    "sample_train_X"
   ]
  },
  {
   "cell_type": "markdown",
   "metadata": {},
   "source": [
    "Running the features transformer on the complete data"
   ]
  },
  {
   "cell_type": "code",
   "execution_count": 24,
   "metadata": {},
   "outputs": [],
   "source": [
    "train_X = get_dataframe(\n",
    "    features_transformer.fit_transform(train_X, train_y), \n",
    "    get_feature_names_from_column_transformer(features_transformer)\n",
    ")"
   ]
  },
  {
   "cell_type": "code",
   "execution_count": 25,
   "metadata": {},
   "outputs": [
    {
     "data": {
      "text/html": [
       "<div>\n",
       "<style scoped>\n",
       "    .dataframe tbody tr th:only-of-type {\n",
       "        vertical-align: middle;\n",
       "    }\n",
       "\n",
       "    .dataframe tbody tr th {\n",
       "        vertical-align: top;\n",
       "    }\n",
       "\n",
       "    .dataframe thead th {\n",
       "        text-align: right;\n",
       "    }\n",
       "</style>\n",
       "<table border=\"1\" class=\"dataframe\">\n",
       "  <thead>\n",
       "    <tr style=\"text-align: right;\">\n",
       "      <th></th>\n",
       "      <th>ocean_proximity_&lt;1H OCEAN</th>\n",
       "      <th>ocean_proximity_INLAND</th>\n",
       "      <th>ocean_proximity_ISLAND</th>\n",
       "      <th>ocean_proximity_NEAR BAY</th>\n",
       "      <th>ocean_proximity_NEAR OCEAN</th>\n",
       "      <th>longitude</th>\n",
       "      <th>latitude</th>\n",
       "      <th>housing_median_age</th>\n",
       "      <th>total_rooms</th>\n",
       "      <th>total_bedrooms</th>\n",
       "      <th>population</th>\n",
       "      <th>households</th>\n",
       "      <th>median_income</th>\n",
       "      <th>rooms_per_household</th>\n",
       "      <th>population_per_household</th>\n",
       "      <th>bedrooms_per_room</th>\n",
       "    </tr>\n",
       "  </thead>\n",
       "  <tbody>\n",
       "    <tr>\n",
       "      <th>0</th>\n",
       "      <td>1.0</td>\n",
       "      <td>0.0</td>\n",
       "      <td>0.0</td>\n",
       "      <td>0.0</td>\n",
       "      <td>0.0</td>\n",
       "      <td>-117.85</td>\n",
       "      <td>33.88</td>\n",
       "      <td>14.0</td>\n",
       "      <td>4753.0</td>\n",
       "      <td>681.0</td>\n",
       "      <td>2138.0</td>\n",
       "      <td>678.0</td>\n",
       "      <td>7.3658</td>\n",
       "      <td>7.010324</td>\n",
       "      <td>3.153392</td>\n",
       "      <td>0.143278</td>\n",
       "    </tr>\n",
       "    <tr>\n",
       "      <th>1</th>\n",
       "      <td>1.0</td>\n",
       "      <td>0.0</td>\n",
       "      <td>0.0</td>\n",
       "      <td>0.0</td>\n",
       "      <td>0.0</td>\n",
       "      <td>-121.92</td>\n",
       "      <td>37.32</td>\n",
       "      <td>28.0</td>\n",
       "      <td>2089.0</td>\n",
       "      <td>641.0</td>\n",
       "      <td>1666.0</td>\n",
       "      <td>587.0</td>\n",
       "      <td>2.3633</td>\n",
       "      <td>3.558773</td>\n",
       "      <td>2.838160</td>\n",
       "      <td>0.306845</td>\n",
       "    </tr>\n",
       "    <tr>\n",
       "      <th>2</th>\n",
       "      <td>0.0</td>\n",
       "      <td>0.0</td>\n",
       "      <td>0.0</td>\n",
       "      <td>1.0</td>\n",
       "      <td>0.0</td>\n",
       "      <td>-122.12</td>\n",
       "      <td>37.41</td>\n",
       "      <td>33.0</td>\n",
       "      <td>2892.0</td>\n",
       "      <td>617.0</td>\n",
       "      <td>1250.0</td>\n",
       "      <td>581.0</td>\n",
       "      <td>5.3727</td>\n",
       "      <td>4.977625</td>\n",
       "      <td>2.151463</td>\n",
       "      <td>0.213347</td>\n",
       "    </tr>\n",
       "    <tr>\n",
       "      <th>3</th>\n",
       "      <td>1.0</td>\n",
       "      <td>0.0</td>\n",
       "      <td>0.0</td>\n",
       "      <td>0.0</td>\n",
       "      <td>0.0</td>\n",
       "      <td>-118.37</td>\n",
       "      <td>33.99</td>\n",
       "      <td>32.0</td>\n",
       "      <td>4018.0</td>\n",
       "      <td>564.0</td>\n",
       "      <td>1400.0</td>\n",
       "      <td>568.0</td>\n",
       "      <td>8.6718</td>\n",
       "      <td>7.073944</td>\n",
       "      <td>2.464789</td>\n",
       "      <td>0.140368</td>\n",
       "    </tr>\n",
       "    <tr>\n",
       "      <th>4</th>\n",
       "      <td>1.0</td>\n",
       "      <td>0.0</td>\n",
       "      <td>0.0</td>\n",
       "      <td>0.0</td>\n",
       "      <td>0.0</td>\n",
       "      <td>-118.49</td>\n",
       "      <td>34.24</td>\n",
       "      <td>34.0</td>\n",
       "      <td>1971.0</td>\n",
       "      <td>316.0</td>\n",
       "      <td>917.0</td>\n",
       "      <td>307.0</td>\n",
       "      <td>6.0965</td>\n",
       "      <td>6.420195</td>\n",
       "      <td>2.986971</td>\n",
       "      <td>0.160325</td>\n",
       "    </tr>\n",
       "    <tr>\n",
       "      <th>...</th>\n",
       "      <td>...</td>\n",
       "      <td>...</td>\n",
       "      <td>...</td>\n",
       "      <td>...</td>\n",
       "      <td>...</td>\n",
       "      <td>...</td>\n",
       "      <td>...</td>\n",
       "      <td>...</td>\n",
       "      <td>...</td>\n",
       "      <td>...</td>\n",
       "      <td>...</td>\n",
       "      <td>...</td>\n",
       "      <td>...</td>\n",
       "      <td>...</td>\n",
       "      <td>...</td>\n",
       "      <td>...</td>\n",
       "    </tr>\n",
       "    <tr>\n",
       "      <th>16507</th>\n",
       "      <td>1.0</td>\n",
       "      <td>0.0</td>\n",
       "      <td>0.0</td>\n",
       "      <td>0.0</td>\n",
       "      <td>0.0</td>\n",
       "      <td>-118.22</td>\n",
       "      <td>33.95</td>\n",
       "      <td>36.0</td>\n",
       "      <td>1679.0</td>\n",
       "      <td>483.0</td>\n",
       "      <td>2249.0</td>\n",
       "      <td>487.0</td>\n",
       "      <td>2.8167</td>\n",
       "      <td>3.447639</td>\n",
       "      <td>4.618070</td>\n",
       "      <td>0.287671</td>\n",
       "    </tr>\n",
       "    <tr>\n",
       "      <th>16508</th>\n",
       "      <td>0.0</td>\n",
       "      <td>1.0</td>\n",
       "      <td>0.0</td>\n",
       "      <td>0.0</td>\n",
       "      <td>0.0</td>\n",
       "      <td>-121.37</td>\n",
       "      <td>38.61</td>\n",
       "      <td>39.0</td>\n",
       "      <td>823.0</td>\n",
       "      <td>146.0</td>\n",
       "      <td>329.0</td>\n",
       "      <td>144.0</td>\n",
       "      <td>3.0833</td>\n",
       "      <td>5.715278</td>\n",
       "      <td>2.284722</td>\n",
       "      <td>0.177400</td>\n",
       "    </tr>\n",
       "    <tr>\n",
       "      <th>16509</th>\n",
       "      <td>1.0</td>\n",
       "      <td>0.0</td>\n",
       "      <td>0.0</td>\n",
       "      <td>0.0</td>\n",
       "      <td>0.0</td>\n",
       "      <td>-118.36</td>\n",
       "      <td>34.26</td>\n",
       "      <td>34.0</td>\n",
       "      <td>3677.0</td>\n",
       "      <td>573.0</td>\n",
       "      <td>1598.0</td>\n",
       "      <td>568.0</td>\n",
       "      <td>6.8380</td>\n",
       "      <td>6.473592</td>\n",
       "      <td>2.813380</td>\n",
       "      <td>0.155834</td>\n",
       "    </tr>\n",
       "    <tr>\n",
       "      <th>16510</th>\n",
       "      <td>0.0</td>\n",
       "      <td>0.0</td>\n",
       "      <td>0.0</td>\n",
       "      <td>0.0</td>\n",
       "      <td>1.0</td>\n",
       "      <td>-117.13</td>\n",
       "      <td>32.72</td>\n",
       "      <td>52.0</td>\n",
       "      <td>1560.0</td>\n",
       "      <td>307.0</td>\n",
       "      <td>757.0</td>\n",
       "      <td>315.0</td>\n",
       "      <td>2.7083</td>\n",
       "      <td>4.952381</td>\n",
       "      <td>2.403175</td>\n",
       "      <td>0.196795</td>\n",
       "    </tr>\n",
       "    <tr>\n",
       "      <th>16511</th>\n",
       "      <td>1.0</td>\n",
       "      <td>0.0</td>\n",
       "      <td>0.0</td>\n",
       "      <td>0.0</td>\n",
       "      <td>0.0</td>\n",
       "      <td>-117.92</td>\n",
       "      <td>33.74</td>\n",
       "      <td>18.0</td>\n",
       "      <td>1639.0</td>\n",
       "      <td>491.0</td>\n",
       "      <td>2513.0</td>\n",
       "      <td>458.0</td>\n",
       "      <td>2.1838</td>\n",
       "      <td>3.578603</td>\n",
       "      <td>5.486900</td>\n",
       "      <td>0.299573</td>\n",
       "    </tr>\n",
       "  </tbody>\n",
       "</table>\n",
       "<p>16512 rows × 16 columns</p>\n",
       "</div>"
      ],
      "text/plain": [
       "       ocean_proximity_<1H OCEAN  ocean_proximity_INLAND  \\\n",
       "0                            1.0                     0.0   \n",
       "1                            1.0                     0.0   \n",
       "2                            0.0                     0.0   \n",
       "3                            1.0                     0.0   \n",
       "4                            1.0                     0.0   \n",
       "...                          ...                     ...   \n",
       "16507                        1.0                     0.0   \n",
       "16508                        0.0                     1.0   \n",
       "16509                        1.0                     0.0   \n",
       "16510                        0.0                     0.0   \n",
       "16511                        1.0                     0.0   \n",
       "\n",
       "       ocean_proximity_ISLAND  ocean_proximity_NEAR BAY  \\\n",
       "0                         0.0                       0.0   \n",
       "1                         0.0                       0.0   \n",
       "2                         0.0                       1.0   \n",
       "3                         0.0                       0.0   \n",
       "4                         0.0                       0.0   \n",
       "...                       ...                       ...   \n",
       "16507                     0.0                       0.0   \n",
       "16508                     0.0                       0.0   \n",
       "16509                     0.0                       0.0   \n",
       "16510                     0.0                       0.0   \n",
       "16511                     0.0                       0.0   \n",
       "\n",
       "       ocean_proximity_NEAR OCEAN  longitude  latitude  housing_median_age  \\\n",
       "0                             0.0    -117.85     33.88                14.0   \n",
       "1                             0.0    -121.92     37.32                28.0   \n",
       "2                             0.0    -122.12     37.41                33.0   \n",
       "3                             0.0    -118.37     33.99                32.0   \n",
       "4                             0.0    -118.49     34.24                34.0   \n",
       "...                           ...        ...       ...                 ...   \n",
       "16507                         0.0    -118.22     33.95                36.0   \n",
       "16508                         0.0    -121.37     38.61                39.0   \n",
       "16509                         0.0    -118.36     34.26                34.0   \n",
       "16510                         1.0    -117.13     32.72                52.0   \n",
       "16511                         0.0    -117.92     33.74                18.0   \n",
       "\n",
       "       total_rooms  total_bedrooms  population  households  median_income  \\\n",
       "0           4753.0           681.0      2138.0       678.0         7.3658   \n",
       "1           2089.0           641.0      1666.0       587.0         2.3633   \n",
       "2           2892.0           617.0      1250.0       581.0         5.3727   \n",
       "3           4018.0           564.0      1400.0       568.0         8.6718   \n",
       "4           1971.0           316.0       917.0       307.0         6.0965   \n",
       "...            ...             ...         ...         ...            ...   \n",
       "16507       1679.0           483.0      2249.0       487.0         2.8167   \n",
       "16508        823.0           146.0       329.0       144.0         3.0833   \n",
       "16509       3677.0           573.0      1598.0       568.0         6.8380   \n",
       "16510       1560.0           307.0       757.0       315.0         2.7083   \n",
       "16511       1639.0           491.0      2513.0       458.0         2.1838   \n",
       "\n",
       "       rooms_per_household  population_per_household  bedrooms_per_room  \n",
       "0                 7.010324                  3.153392           0.143278  \n",
       "1                 3.558773                  2.838160           0.306845  \n",
       "2                 4.977625                  2.151463           0.213347  \n",
       "3                 7.073944                  2.464789           0.140368  \n",
       "4                 6.420195                  2.986971           0.160325  \n",
       "...                    ...                       ...                ...  \n",
       "16507             3.447639                  4.618070           0.287671  \n",
       "16508             5.715278                  2.284722           0.177400  \n",
       "16509             6.473592                  2.813380           0.155834  \n",
       "16510             4.952381                  2.403175           0.196795  \n",
       "16511             3.578603                  5.486900           0.299573  \n",
       "\n",
       "[16512 rows x 16 columns]"
      ]
     },
     "execution_count": 25,
     "metadata": {},
     "output_type": "execute_result"
    }
   ],
   "source": [
    "train_X"
   ]
  },
  {
   "cell_type": "markdown",
   "metadata": {},
   "source": [
    "### 3.2.1 Univariate\n",
    "\n",
    "\n",
    "- Look at each variable independently. This is useful if your models have assumptions on the distribution and/or bounds on the features/target"
   ]
  },
  {
   "cell_type": "code",
   "execution_count": 26,
   "metadata": {},
   "outputs": [
    {
     "data": {},
     "metadata": {},
     "output_type": "display_data"
    },
    {
     "data": {
      "application/vnd.holoviews_exec.v0+json": "",
      "text/html": [
       "<div id='1002'>\n",
       "  <div class=\"bk-root\" id=\"86e19367-062c-4be4-b204-ff8ec7bab6ee\" data-root-id=\"1002\"></div>\n",
       "</div>\n",
       "<script type=\"application/javascript\">(function(root) {\n",
       "  function embed_document(root) {\n",
       "    var docs_json = {\"7d8dccb9-a5a7-4369-8465-8568eb86aca5\":{\"defs\":[{\"extends\":null,\"module\":null,\"name\":\"ReactiveHTML1\",\"overrides\":[],\"properties\":[]},{\"extends\":null,\"module\":null,\"name\":\"FlexBox1\",\"overrides\":[],\"properties\":[{\"default\":\"flex-start\",\"kind\":null,\"name\":\"align_content\"},{\"default\":\"flex-start\",\"kind\":null,\"name\":\"align_items\"},{\"default\":\"row\",\"kind\":null,\"name\":\"flex_direction\"},{\"default\":\"wrap\",\"kind\":null,\"name\":\"flex_wrap\"},{\"default\":\"flex-start\",\"kind\":null,\"name\":\"justify_content\"}]},{\"extends\":null,\"module\":null,\"name\":\"GridStack1\",\"overrides\":[],\"properties\":[{\"default\":\"warn\",\"kind\":null,\"name\":\"mode\"},{\"default\":null,\"kind\":null,\"name\":\"ncols\"},{\"default\":null,\"kind\":null,\"name\":\"nrows\"},{\"default\":true,\"kind\":null,\"name\":\"allow_resize\"},{\"default\":true,\"kind\":null,\"name\":\"allow_drag\"},{\"default\":[],\"kind\":null,\"name\":\"state\"}]},{\"extends\":null,\"module\":null,\"name\":\"click1\",\"overrides\":[],\"properties\":[{\"default\":\"\",\"kind\":null,\"name\":\"terminal_output\"},{\"default\":\"\",\"kind\":null,\"name\":\"debug_name\"},{\"default\":0,\"kind\":null,\"name\":\"clears\"}]},{\"extends\":null,\"module\":null,\"name\":\"NotificationAreaBase1\",\"overrides\":[],\"properties\":[{\"default\":\"bottom-right\",\"kind\":null,\"name\":\"position\"},{\"default\":0,\"kind\":null,\"name\":\"_clear\"}]},{\"extends\":null,\"module\":null,\"name\":\"NotificationArea1\",\"overrides\":[],\"properties\":[{\"default\":[],\"kind\":null,\"name\":\"notifications\"},{\"default\":\"bottom-right\",\"kind\":null,\"name\":\"position\"},{\"default\":0,\"kind\":null,\"name\":\"_clear\"},{\"default\":[{\"background\":\"#ffc107\",\"icon\":{\"className\":\"fas fa-exclamation-triangle\",\"color\":\"white\",\"tagName\":\"i\"},\"type\":\"warning\"},{\"background\":\"#007bff\",\"icon\":{\"className\":\"fas fa-info-circle\",\"color\":\"white\",\"tagName\":\"i\"},\"type\":\"info\"}],\"kind\":null,\"name\":\"types\"}]},{\"extends\":null,\"module\":null,\"name\":\"Notification\",\"overrides\":[],\"properties\":[{\"default\":null,\"kind\":null,\"name\":\"background\"},{\"default\":3000,\"kind\":null,\"name\":\"duration\"},{\"default\":null,\"kind\":null,\"name\":\"icon\"},{\"default\":\"\",\"kind\":null,\"name\":\"message\"},{\"default\":null,\"kind\":null,\"name\":\"notification_type\"},{\"default\":false,\"kind\":null,\"name\":\"_destroyed\"}]},{\"extends\":null,\"module\":null,\"name\":\"TemplateActions1\",\"overrides\":[],\"properties\":[{\"default\":0,\"kind\":null,\"name\":\"open_modal\"},{\"default\":0,\"kind\":null,\"name\":\"close_modal\"}]},{\"extends\":null,\"module\":null,\"name\":\"MaterialTemplateActions1\",\"overrides\":[],\"properties\":[{\"default\":0,\"kind\":null,\"name\":\"open_modal\"},{\"default\":0,\"kind\":null,\"name\":\"close_modal\"}]}],\"roots\":{\"references\":[{\"attributes\":{\"bottom\":{\"value\":0},\"fill_alpha\":{\"value\":1.0},\"fill_color\":{\"value\":\"#00fff0\"},\"hatch_alpha\":{\"value\":1.0},\"hatch_color\":{\"value\":\"#00fff0\"},\"hatch_scale\":{\"value\":12.0},\"hatch_weight\":{\"value\":1.0},\"left\":{\"field\":\"left\"},\"line_alpha\":{\"value\":1.0},\"line_cap\":{\"value\":\"butt\"},\"line_color\":{\"value\":\"black\"},\"line_dash\":{\"value\":[]},\"line_dash_offset\":{\"value\":0},\"line_join\":{\"value\":\"bevel\"},\"line_width\":{\"value\":1},\"right\":{\"field\":\"right\"},\"top\":{\"field\":\"top\"}},\"id\":\"1054\",\"type\":\"Quad\"},{\"attributes\":{},\"id\":\"1020\",\"type\":\"BasicTicker\"},{\"attributes\":{\"coordinates\":null,\"group\":null,\"text\":\"Density Plot for longitude\",\"text_color\":\"black\",\"text_font_size\":\"12pt\"},\"id\":\"1011\",\"type\":\"Title\"},{\"attributes\":{\"editor\":{\"id\":\"1371\"},\"field\":\"mean\",\"formatter\":{\"id\":\"1370\"},\"title\":\"mean\"},\"id\":\"1372\",\"type\":\"TableColumn\"},{\"attributes\":{},\"id\":\"1056\",\"type\":\"Selection\"},{\"attributes\":{\"axis\":{\"id\":\"1019\"},\"coordinates\":null,\"grid_line_color\":null,\"group\":null,\"ticker\":null},\"id\":\"1022\",\"type\":\"Grid\"},{\"attributes\":{},\"id\":\"1371\",\"type\":\"NumberEditor\"},{\"attributes\":{\"axis_label\":\"Frequency\",\"coordinates\":null,\"formatter\":{\"id\":\"1044\"},\"group\":null,\"major_label_policy\":{\"id\":\"1045\"},\"ticker\":{\"id\":\"1024\"}},\"id\":\"1023\",\"type\":\"LinearAxis\"},{\"attributes\":{},\"id\":\"1076\",\"type\":\"UnionRenderers\"},{\"attributes\":{\"axis\":{\"id\":\"1023\"},\"coordinates\":null,\"dimension\":1,\"grid_line_color\":null,\"group\":null,\"ticker\":null},\"id\":\"1026\",\"type\":\"Grid\"},{\"attributes\":{},\"id\":\"1024\",\"type\":\"BasicTicker\"},{\"attributes\":{},\"id\":\"1042\",\"type\":\"AllLabels\"},{\"attributes\":{},\"id\":\"1027\",\"type\":\"SaveTool\"},{\"attributes\":{\"editor\":{\"id\":\"1386\"},\"field\":\"A_25_percent\",\"formatter\":{\"id\":\"1385\"},\"title\":\"25%\"},\"id\":\"1387\",\"type\":\"TableColumn\"},{\"attributes\":{\"bottom_units\":\"screen\",\"coordinates\":null,\"fill_alpha\":0.5,\"fill_color\":\"lightgrey\",\"group\":null,\"left_units\":\"screen\",\"level\":\"overlay\",\"line_alpha\":1.0,\"line_color\":\"black\",\"line_dash\":[4,4],\"line_width\":2,\"right_units\":\"screen\",\"syncable\":false,\"top_units\":\"screen\"},\"id\":\"1032\",\"type\":\"BoxAnnotation\"},{\"attributes\":{\"format\":\"0,0.0[00000]\"},\"id\":\"1390\",\"type\":\"NumberFormatter\"},{\"attributes\":{},\"id\":\"1028\",\"type\":\"PanTool\"},{\"attributes\":{\"margin\":[5,5,5,5],\"name\":\"HSpacer03002\",\"sizing_mode\":\"stretch_width\"},\"id\":\"1006\",\"type\":\"Spacer\"},{\"attributes\":{},\"id\":\"1029\",\"type\":\"WheelZoomTool\"},{\"attributes\":{\"overlay\":{\"id\":\"1032\"}},\"id\":\"1030\",\"type\":\"BoxZoomTool\"},{\"attributes\":{\"editor\":{\"id\":\"1376\"},\"field\":\"std\",\"formatter\":{\"id\":\"1375\"},\"title\":\"std\"},\"id\":\"1377\",\"type\":\"TableColumn\"},{\"attributes\":{\"editor\":{\"id\":\"1381\"},\"field\":\"min\",\"formatter\":{\"id\":\"1380\"},\"title\":\"min\"},\"id\":\"1382\",\"type\":\"TableColumn\"},{\"attributes\":{},\"id\":\"1031\",\"type\":\"ResetTool\"},{\"attributes\":{},\"id\":\"1381\",\"type\":\"NumberEditor\"},{\"attributes\":{},\"id\":\"1396\",\"type\":\"NumberEditor\"},{\"attributes\":{\"children\":[[{\"id\":\"1010\"},0,0],[{\"id\":\"1213\"},1,0]]},\"id\":\"1234\",\"type\":\"GridBox\"},{\"attributes\":{\"source\":{\"id\":\"1055\"}},\"id\":\"1062\",\"type\":\"CDSView\"},{\"attributes\":{},\"id\":\"1376\",\"type\":\"NumberEditor\"},{\"attributes\":{\"margin\":[5,5,5,5],\"name\":\"HSpacer02998\",\"sizing_mode\":\"stretch_width\"},\"id\":\"1424\",\"type\":\"Spacer\"},{\"attributes\":{\"fill_alpha\":0.5,\"fill_color\":\"#30a2da\",\"hatch_color\":\"#30a2da\",\"x\":{\"field\":\"x\"},\"y\":{\"field\":\"y\"}},\"id\":\"1058\",\"type\":\"Patch\"},{\"attributes\":{\"editor\":{\"id\":\"1366\"},\"field\":\"count\",\"formatter\":{\"id\":\"1365\"},\"title\":\"count\"},\"id\":\"1367\",\"type\":\"TableColumn\"},{\"attributes\":{\"source\":{\"id\":\"1171\"}},\"id\":\"1215\",\"type\":\"CDSView\"},{\"attributes\":{},\"id\":\"1366\",\"type\":\"NumberEditor\"},{\"attributes\":{},\"id\":\"1078\",\"type\":\"UnionRenderers\"},{\"attributes\":{\"fill_alpha\":0.5,\"fill_color\":\"#30a2da\",\"hatch_alpha\":0.1,\"hatch_color\":\"#30a2da\",\"line_alpha\":1,\"x\":{\"field\":\"x\"},\"y\":{\"field\":\"y\"}},\"id\":\"1059\",\"type\":\"Patch\"},{\"attributes\":{\"format\":\"0,0.0[00000]\"},\"id\":\"1375\",\"type\":\"NumberFormatter\"},{\"attributes\":{\"children\":[{\"id\":\"1426\"}],\"css_classes\":[\"panel-widget-box\"],\"margin\":[5,5,5,5],\"name\":\"WidgetBox02993\"},\"id\":\"1425\",\"type\":\"Column\"},{\"attributes\":{\"coordinates\":null,\"data_source\":{\"id\":\"1055\"},\"glyph\":{\"id\":\"1058\"},\"group\":null,\"hover_glyph\":null,\"muted_glyph\":{\"id\":\"1060\"},\"nonselection_glyph\":{\"id\":\"1059\"},\"selection_glyph\":{\"id\":\"1063\"},\"view\":{\"id\":\"1062\"},\"y_range_name\":\"twiny\"},\"id\":\"1061\",\"type\":\"GlyphRenderer\"},{\"attributes\":{\"format\":\"0,0.0[00000]\"},\"id\":\"1365\",\"type\":\"NumberFormatter\"},{\"attributes\":{\"toolbars\":[{\"id\":\"1033\"}],\"tools\":[{\"id\":\"1009\"},{\"id\":\"1027\"},{\"id\":\"1028\"},{\"id\":\"1029\"},{\"id\":\"1030\"},{\"id\":\"1031\"}]},\"id\":\"1235\",\"type\":\"ProxyToolbar\"},{\"attributes\":{\"fill_alpha\":0.5,\"fill_color\":\"#30a2da\",\"hatch_color\":\"#30a2da\",\"x\":{\"field\":\"x\"},\"y\":{\"field\":\"y\"}},\"id\":\"1063\",\"type\":\"Patch\"},{\"attributes\":{\"margin\":[5,5,5,5],\"name\":\"HSpacer03003\",\"sizing_mode\":\"stretch_width\"},\"id\":\"1422\",\"type\":\"Spacer\"},{\"attributes\":{\"fill_alpha\":0.2,\"fill_color\":\"#30a2da\",\"hatch_alpha\":0.2,\"hatch_color\":\"#30a2da\",\"line_alpha\":0.2,\"x\":{\"field\":\"x\"},\"y\":{\"field\":\"y\"}},\"id\":\"1060\",\"type\":\"Patch\"},{\"attributes\":{},\"id\":\"1045\",\"type\":\"AllLabels\"},{\"attributes\":{\"margin\":[20,20,20,20],\"min_width\":250,\"options\":[\"longitude\",\"latitude\",\"housing_median_age\",\"total_rooms\",\"total_bedrooms\",\"population\",\"households\",\"median_income\",\"rooms_per_household\",\"population_per_household\",\"bedrooms_per_room\"],\"title\":\"col\",\"value\":\"longitude\",\"width\":250},\"id\":\"1426\",\"type\":\"panel.models.widgets.CustomSelect\"},{\"attributes\":{\"format\":\"0,0.0[00000]\"},\"id\":\"1380\",\"type\":\"NumberFormatter\"},{\"attributes\":{\"format\":\"0,0.0[00000]\"},\"id\":\"1385\",\"type\":\"NumberFormatter\"},{\"attributes\":{\"format\":\"0,0.0[00000]\"},\"id\":\"1370\",\"type\":\"NumberFormatter\"},{\"attributes\":{\"children\":[{\"id\":\"1003\"},{\"id\":\"1004\"},{\"id\":\"1428\"}],\"margin\":[0,0,0,0],\"name\":\"Row02992\"},\"id\":\"1002\",\"type\":\"Row\"},{\"attributes\":{\"margin\":[5,5,5,5],\"name\":\"HSpacer02999\",\"sizing_mode\":\"stretch_width\"},\"id\":\"1427\",\"type\":\"Spacer\"},{\"attributes\":{\"end\":0.4040860824826652},\"id\":\"1064\",\"type\":\"Range1d\"},{\"attributes\":{},\"id\":\"1391\",\"type\":\"NumberEditor\"},{\"attributes\":{},\"id\":\"1386\",\"type\":\"NumberEditor\"},{\"attributes\":{\"tools\":[{\"id\":\"1009\"},{\"id\":\"1027\"},{\"id\":\"1028\"},{\"id\":\"1029\"},{\"id\":\"1030\"},{\"id\":\"1031\"}]},\"id\":\"1033\",\"type\":\"Toolbar\"},{\"attributes\":{\"children\":[{\"id\":\"1005\"},{\"id\":\"1423\"}],\"margin\":[0,0,0,0],\"name\":\"Column03005\"},\"id\":\"1004\",\"type\":\"Column\"},{\"attributes\":{\"children\":[{\"id\":\"1236\"},{\"id\":\"1234\"}]},\"id\":\"1237\",\"type\":\"Column\"},{\"attributes\":{\"editor\":{\"id\":\"1396\"},\"field\":\"A_75_percent\",\"formatter\":{\"id\":\"1395\"},\"title\":\"75%\"},\"id\":\"1397\",\"type\":\"TableColumn\"},{\"attributes\":{\"source\":{\"id\":\"1046\"}},\"id\":\"1053\",\"type\":\"CDSView\"},{\"attributes\":{\"margin\":[5,5,5,5],\"name\":\"HSpacer03006\",\"sizing_mode\":\"stretch_width\"},\"id\":\"1428\",\"type\":\"Spacer\"},{\"attributes\":{\"editor\":{\"id\":\"1391\"},\"field\":\"A_50_percent\",\"formatter\":{\"id\":\"1390\"},\"title\":\"50%\"},\"id\":\"1392\",\"type\":\"TableColumn\"},{\"attributes\":{},\"id\":\"1401\",\"type\":\"NumberEditor\"},{\"attributes\":{\"format\":\"0,0.0[00000]\"},\"id\":\"1395\",\"type\":\"NumberFormatter\"},{\"attributes\":{\"bottom\":{\"value\":0},\"fill_alpha\":{\"value\":0.2},\"fill_color\":{\"value\":\"#00fff0\"},\"hatch_alpha\":{\"value\":0.2},\"hatch_color\":{\"value\":\"#00fff0\"},\"left\":{\"field\":\"left\"},\"line_alpha\":{\"value\":0.2},\"right\":{\"field\":\"right\"},\"top\":{\"field\":\"top\"}},\"id\":\"1051\",\"type\":\"Quad\"},{\"attributes\":{\"editor\":{\"id\":\"1401\"},\"field\":\"max\",\"formatter\":{\"id\":\"1400\"},\"title\":\"max\"},\"id\":\"1402\",\"type\":\"TableColumn\"},{\"attributes\":{\"format\":\"0,0.0[00000]\"},\"id\":\"1400\",\"type\":\"NumberFormatter\"},{\"attributes\":{\"children\":[{\"id\":\"1238\"},{\"id\":\"1237\"}]},\"id\":\"1239\",\"type\":\"Column\"},{\"attributes\":{\"axis_label\":\"longitude_density, y\",\"coordinates\":null,\"formatter\":{\"id\":\"1071\"},\"group\":null,\"major_label_policy\":{\"id\":\"1072\"},\"ticker\":{\"id\":\"1070\"},\"y_range_name\":\"twiny\"},\"id\":\"1065\",\"type\":\"LinearAxis\"},{\"attributes\":{},\"id\":\"1047\",\"type\":\"Selection\"},{\"attributes\":{\"columns\":[{\"id\":\"1367\"},{\"id\":\"1372\"},{\"id\":\"1377\"},{\"id\":\"1382\"},{\"id\":\"1387\"},{\"id\":\"1392\"},{\"id\":\"1397\"},{\"id\":\"1402\"}],\"height\":60,\"reorderable\":false,\"source\":{\"id\":\"1171\"},\"view\":{\"id\":\"1215\"}},\"id\":\"1213\",\"type\":\"DataTable\"},{\"attributes\":{\"data\":{\"x\":{\"__ndarray__\":\"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\",\"dtype\":\"float64\",\"order\":\"little\",\"shape\":[200]},\"y\":{\"__ndarray__\":\"AAAAAAAAAAAAAAAAAAAAAAAAAAAAAAAAAAAAAAAAAAAAAAAAAAAAAAAAAAAAAAAAAAAAAAAAAAAAAAAAAAAAAAAAAAAAAAAAAAAAAAAAAAAAAAAAAAAAAAAAAAAAAAAAAAAAAAAAAAAAAAAAAAAAAAAAAAAAAAAAAAAAAAAAAAAAAAAAAAAAAAAAAAAAAAAAAAAAAAAAAAAAAAAAAAAAAAAAAAAAAAAAAAAAAAAAAAAAAAAAAAAAAAAAAAAAAAAAAAAAAAAAAAAAAAAAAAAAAAAAAAAAAAAAAAAAAAAAAAAAAAAAAAAAAAAAAAAAAAAAAAAAAAAAAAAAAAAAAAAAAAAAAAAAAAAAAAAAAAAAAAAAAAAAAAAAAAAAAAAAAAAAAAAAAAAAAAAAAAAAAAAAAAAAAAAAAAAAAAAAAAAAAAAAAAAAAAAAAAAAAAAAAAAAAAAAAAAAAAAAAAAAAAAAAAAAAAAAAAAAAAAAAAAAAAAAAAAAAAAAAAAAAAAAAAAAAAAAAAAAAAAAAAAAAAAAAAAAAAAAAAAAAAAAAAAAAAAAAAAAAAAAAAAAAAAAAAAAAAAAAAAAAAAAAAAAAAAAAAAAAAAAAAAAAAAAAAAAAAAAAAAAAAAAAAAAAAAAAAAAAAAAAAAAAAAAAAAAAAAAAAAAAAAAAAAAAAAAAAAAAAAAAAAAAAAAAAAAAAAAAAAAAAAAAAAAAAAAAAAAAAAAAAAAAAAAAAAAAAAAAAAAAAAAAAAAAAAAAAAAAAAAAAAAAAAAAAAAAAAAAAAAAAAAAAAAAAAAAAAAAAAAAAAAAAAAAAAAAAAAAAAAAAAAAAAAAAAAAAAAAAAAAAAAAAAAAAAAAAAAAAAAAAAAAAAAAAAAAAAAAAAAAAAAAAAAAAAAAAAAAAAAAAAAAAAAAAAAAAAAAAAAAAAAAAAAAAAAAAAAAAAAAAAAAAAAAAAAAAAAAAAAAAAAAAAAAAAAAAAAAAAAAAAAAAAAAAAAAAAAAAAAAAAAAAAAAAAAAAAAAAAAAAAAAAAAAAAAAAAAAAAAAAAAAAAAAAAAAAAAAAAAAABhMCkklUq4PpzYHxHHbdY+lvPKzmMm8j7ZP4PEH9EJPzQSDH7ZIiA/2D2vb4ytMT9dUucIJeZAP0kM6+w2EEw/4egnFV8uVD9CBWQ3WC5ZP5BPUDQ1n1s/eDCS7AXKWz90Kg6Hdk9cP03QBr1ip2A/d8RF88AYZz+3ETE8BsVwP7mENHdH3nY/UKF0tU8CfD/pk8hDtNF+P3XczNhtfH8/1cryzzHDfz9A1f+teeWAPzaBQd5YcYM/YfyN3aXMhz9ZvPGicMmOP9a3JpcJhpU/VFosjbBeoD+VBwV8C9ypP3FZ0O+4z7M/VSJR2xkHvD/JnyC08ufBP0Fo8JTPqMQ/Ri++5pf0xT84hdpsDG7GP3s8aGKnZsc/wZ46QHAiyj9a1U6O0yHPPyB5e8gu6dI/AOyaJxRZ1j8U2EJ6t+HYP4RSzxT/mtk/ImG2seET2D8xLzDn3ZTUPzkNMsanDtA/MnJzXbZXxz9tQrIxgI/AP+r44q1glLg/d4f8RxwftD8XtpPZyBqyPwwHLXTrQrE/WrA6p5T+sD8VaOftygyxPyC9bAyTHrE/Ub52kDDLsD8jfsHv4bCvP1uNGRkk7qw/SetIAY9Qqj93Zxs3oMmoPwHP4onMtqg/ajSCJYHyqT/sqCsOWUWsP+EATz04vK8/VKRB8opNsj9Dpq68dIC1PzPUQcDIRLk/gDMZG0YkvT9Y/imutVXAP4tCMu537cE/Vyn3q8Wswz9JlmR75wTGP7CD+AibGsk/RxAV7Ad/zD+827Me4UzPP814MTvJSNA/Uqac3cq1zz+YHKZcC7LMP/kXKpfGCsg/zVDkcTSgwj8175Y8DcK6P6E5zOym+7E/k09J45cGpz+J1KsIn+acP1gyFN0edJI/de7+vmTriD8uhjDT1W6CPyFP872u8H4/8nsLctcLfj+a8X+B3VWAP92nYlicX4I/3PZ5NrzIgz9YWwCOpV+DP28SHRQOwoA/PoTb3YUzeT+grl4sRFNwP8ghoJE7IWI/d4e3UIY1UT+CZ+hq2uE7P52U7KaJQyM/x7Vs4YyyBj/wayntQ87mPg==\",\"dtype\":\"float64\",\"order\":\"little\",\"shape\":[200]}},\"selected\":{\"id\":\"1056\"},\"selection_policy\":{\"id\":\"1078\"}},\"id\":\"1055\",\"type\":\"ColumnDataSource\"},{\"attributes\":{\"toolbar\":{\"id\":\"1235\"},\"toolbar_location\":\"above\"},\"id\":\"1236\",\"type\":\"ToolbarBox\"},{\"attributes\":{\"data\":{\"A_25_percent\":{\"__ndarray__\":\"w/UoXI9yXsA=\",\"dtype\":\"float64\",\"order\":\"little\",\"shape\":[1]},\"A_50_percent\":{\"__ndarray__\":\"AAAAAACgXcA=\",\"dtype\":\"float64\",\"order\":\"little\",\"shape\":[1]},\"A_75_percent\":{\"__ndarray__\":\"cT0K16OAXcA=\",\"dtype\":\"float64\",\"order\":\"little\",\"shape\":[1]},\"count\":{\"__ndarray__\":\"AAAAAAAg0EA=\",\"dtype\":\"float64\",\"order\":\"little\",\"shape\":[1]},\"max\":{\"__ndarray__\":\"pHA9CteTXMA=\",\"dtype\":\"float64\",\"order\":\"little\",\"shape\":[1]},\"mean\":{\"__ndarray__\":\"hetRuB7lXcA=\",\"dtype\":\"float64\",\"order\":\"little\",\"shape\":[1]},\"min\":{\"__ndarray__\":\"ZmZmZmYWX8A=\",\"dtype\":\"float64\",\"order\":\"little\",\"shape\":[1]},\"std\":{\"__ndarray__\":\"AAAAAAAAAEA=\",\"dtype\":\"float64\",\"order\":\"little\",\"shape\":[1]}},\"selected\":{\"id\":\"1172\"},\"selection_policy\":{\"id\":\"1232\"}},\"id\":\"1171\",\"type\":\"ColumnDataSource\"},{\"attributes\":{},\"id\":\"1172\",\"type\":\"Selection\"},{\"attributes\":{},\"id\":\"1232\",\"type\":\"UnionRenderers\"},{\"attributes\":{},\"id\":\"1017\",\"type\":\"LinearScale\"},{\"attributes\":{\"axis_label\":\"longitude\",\"coordinates\":null,\"formatter\":{\"id\":\"1041\"},\"group\":null,\"major_label_policy\":{\"id\":\"1042\"},\"ticker\":{\"id\":\"1020\"}},\"id\":\"1019\",\"type\":\"LinearAxis\"},{\"attributes\":{\"style\":{\"white-space\":\"nowrap\"},\"text\":\"<span style=\\\"color:black;font-family:Arial;font-style:bold;font-weight:bold;font-size:12pt\\\">col: longitude</span>\",\"width\":450},\"id\":\"1238\",\"type\":\"Div\"},{\"attributes\":{\"bottom\":{\"value\":0},\"fill_color\":{\"value\":\"#00fff0\"},\"hatch_color\":{\"value\":\"#00fff0\"},\"left\":{\"field\":\"left\"},\"right\":{\"field\":\"right\"},\"top\":{\"field\":\"top\"}},\"id\":\"1049\",\"type\":\"Quad\"},{\"attributes\":{},\"id\":\"1015\",\"type\":\"LinearScale\"},{\"attributes\":{},\"id\":\"1044\",\"type\":\"BasicTickFormatter\"},{\"attributes\":{\"end\":3957.18,\"reset_end\":4309.799999855212,\"reset_start\":0.0,\"tags\":[[[\"Frequency\",\"Frequency\",null]]]},\"id\":\"1008\",\"type\":\"Range1d\"},{\"attributes\":{\"children\":[{\"id\":\"1006\"},{\"id\":\"1239\"},{\"id\":\"1422\"}],\"margin\":[0,0,0,0],\"name\":\"Row03004\"},\"id\":\"1005\",\"type\":\"Row\"},{\"attributes\":{\"data\":{\"left\":{\"__ndarray__\":\"ZmZmZmYWX8CDwMqhRfZewJ8aL90k1l7AvHSTGAS2XsDZzvdT45VewPYoXI/CdV7AEoPAyqFVXsAv3SQGgTVewEw3iUFgFV7AaJHtfD/1XcCF61G4HtVdwKJFtvP9tF3Avp8aL92UXcDb+X5qvHRdwPhT46WbVF3AFa5H4Xo0XcAxCKwcWhRdwE5iEFg59FzAa7x0kxjUXMCHFtnO97NcwA==\",\"dtype\":\"float64\",\"order\":\"little\",\"shape\":[20]},\"right\":{\"__ndarray__\":\"g8DKoUX2XsCfGi/dJNZewLx0kxgEtl7A2c73U+OVXsD2KFyPwnVewBKDwMqhVV7AL90kBoE1XsBMN4lBYBVewGiR7Xw/9V3AhetRuB7VXcCiRbbz/bRdwL6fGi/dlF3A2/l+arx0XcD4U+Olm1RdwBWuR+F6NF3AMQisHFoUXcBOYhBYOfRcwGu8dJMY1FzAhxbZzvezXMCkcD0K15NcwA==\",\"dtype\":\"float64\",\"order\":\"little\",\"shape\":[20]},\"top\":[104,48,117,1122,2543,1117,914,431,283,609,641,1700,3918,1017,1669,111,66,80,3,19]},\"selected\":{\"id\":\"1047\"},\"selection_policy\":{\"id\":\"1076\"}},\"id\":\"1046\",\"type\":\"ColumnDataSource\"},{\"attributes\":{\"children\":[{\"id\":\"1424\"},{\"id\":\"1425\"},{\"id\":\"1427\"}],\"margin\":[0,0,0,0],\"name\":\"Row03000\"},\"id\":\"1423\",\"type\":\"Row\"},{\"attributes\":{\"below\":[{\"id\":\"1019\"}],\"center\":[{\"id\":\"1022\"},{\"id\":\"1026\"}],\"extra_y_ranges\":{\"twiny\":{\"id\":\"1064\"}},\"height\":300,\"left\":[{\"id\":\"1023\"}],\"margin\":null,\"min_border_bottom\":10,\"min_border_left\":10,\"min_border_right\":10,\"min_border_top\":10,\"renderers\":[{\"id\":\"1052\"},{\"id\":\"1061\"}],\"right\":[{\"id\":\"1065\"}],\"sizing_mode\":\"fixed\",\"title\":{\"id\":\"1011\"},\"toolbar\":{\"id\":\"1033\"},\"toolbar_location\":null,\"x_range\":{\"id\":\"1007\"},\"x_scale\":{\"id\":\"1015\"},\"y_range\":{\"id\":\"1008\"},\"y_scale\":{\"id\":\"1017\"}},\"id\":\"1010\",\"subtype\":\"Figure\",\"type\":\"Plot\"},{\"attributes\":{\"coordinates\":null,\"data_source\":{\"id\":\"1046\"},\"glyph\":{\"id\":\"1049\"},\"group\":null,\"hover_glyph\":null,\"muted_glyph\":{\"id\":\"1051\"},\"nonselection_glyph\":{\"id\":\"1050\"},\"selection_glyph\":{\"id\":\"1054\"},\"view\":{\"id\":\"1053\"}},\"id\":\"1052\",\"type\":\"GlyphRenderer\"},{\"attributes\":{\"client_comm_id\":\"ecdc9ae3045e4f6bb89187a32f586b02\",\"comm_id\":\"e527d203e9cd4f88aa511d5d713243fa\",\"plot_id\":\"1002\"},\"id\":\"1480\",\"type\":\"panel.models.comm_manager.CommManager\"},{\"attributes\":{\"end\":-112.86201500551404,\"reset_end\":-112.86201500551404,\"reset_start\":-125.79798499448596,\"start\":-125.79798499448596,\"tags\":[[[\"x\",\"x\",null]]]},\"id\":\"1007\",\"type\":\"Range1d\"},{\"attributes\":{},\"id\":\"1071\",\"type\":\"BasicTickFormatter\"},{\"attributes\":{},\"id\":\"1070\",\"type\":\"BasicTicker\"},{\"attributes\":{},\"id\":\"1072\",\"type\":\"AllLabels\"},{\"attributes\":{},\"id\":\"1041\",\"type\":\"BasicTickFormatter\"},{\"attributes\":{\"margin\":[5,5,5,5],\"name\":\"HSpacer03001\",\"sizing_mode\":\"stretch_width\"},\"id\":\"1003\",\"type\":\"Spacer\"},{\"attributes\":{\"bottom\":{\"value\":0},\"fill_alpha\":{\"value\":0.1},\"fill_color\":{\"value\":\"#00fff0\"},\"hatch_alpha\":{\"value\":0.1},\"hatch_color\":{\"value\":\"#00fff0\"},\"left\":{\"field\":\"left\"},\"line_alpha\":{\"value\":0.1},\"right\":{\"field\":\"right\"},\"top\":{\"field\":\"top\"}},\"id\":\"1050\",\"type\":\"Quad\"},{\"attributes\":{\"callback\":null,\"renderers\":[{\"id\":\"1061\"}],\"tags\":[\"hv_created\"],\"tooltips\":[[\"longitude\",\"@{longitude}\"],[\"Density\",\"@{longitude_density}\"]]},\"id\":\"1009\",\"type\":\"HoverTool\"}],\"root_ids\":[\"1002\",\"1480\"]},\"title\":\"Bokeh Application\",\"version\":\"2.4.3\"}};\n",
       "    var render_items = [{\"docid\":\"7d8dccb9-a5a7-4369-8465-8568eb86aca5\",\"root_ids\":[\"1002\"],\"roots\":{\"1002\":\"86e19367-062c-4be4-b204-ff8ec7bab6ee\"}}];\n",
       "    root.Bokeh.embed.embed_items_notebook(docs_json, render_items);\n",
       "  }\n",
       "  if (root.Bokeh !== undefined && root.Bokeh.Panel !== undefined) {\n",
       "    embed_document(root);\n",
       "  } else {\n",
       "    var attempts = 0;\n",
       "    var timer = setInterval(function(root) {\n",
       "      if (root.Bokeh !== undefined && root.Bokeh.Panel !== undefined) {\n",
       "        clearInterval(timer);\n",
       "        embed_document(root);\n",
       "      } else if (document.readyState == \"complete\") {\n",
       "        attempts++;\n",
       "        if (attempts > 200) {\n",
       "          clearInterval(timer);\n",
       "          console.log(\"Bokeh: ERROR: Unable to run BokehJS code because BokehJS library is missing\");\n",
       "        }\n",
       "      }\n",
       "    }, 25, root)\n",
       "  }\n",
       "})(window);</script>"
      ],
      "text/plain": [
       ":DynamicMap   [col]\n",
       "   :Layout\n",
       "      .Overlay.I :Overlay\n",
       "         .Histogram.I    :Histogram   [x]   (Frequency)\n",
       "         .Distribution.I :Distribution   [longitude]   (Density)\n",
       "      .Table.I   :Table   [count,mean,std,min,25%,50%,75%,max]"
      ]
     },
     "execution_count": 26,
     "metadata": {
      "application/vnd.holoviews_exec.v0+json": {
       "id": "1002"
      }
     },
     "output_type": "execute_result"
    }
   ],
   "source": [
    "out = eda.get_density_plots(train_X, cols=list(num_columns))\n",
    "out"
   ]
  },
  {
   "cell_type": "code",
   "execution_count": 27,
   "metadata": {},
   "outputs": [],
   "source": [
    "# save the plots are html\n",
    "reports.create_report({'univariate': out}, name='feature_analysis_univariate')"
   ]
  },
  {
   "cell_type": "markdown",
   "metadata": {},
   "source": [
    "A report containing the above plot is available [here](https://drive.google.com/file/d/16ntqUc_zvpg0at5pTtO-ljBjw5UVGFnp/view?usp=sharing)\n"
   ]
  },
  {
   "cell_type": "markdown",
   "metadata": {},
   "source": [
    "Alternatively, the above plots can be generated as a single html as below. The output from this is available [here](https://drive.google.com/file/d/1vUaCcs1PJ4IYo1em9-eZIEj9WuDsnFKT/view?usp=sharing)"
   ]
  },
  {
   "cell_type": "code",
   "execution_count": 28,
   "metadata": {},
   "outputs": [
    {
     "name": "stderr",
     "output_type": "stream",
     "text": [
      "p-value may not be accurate for N > 5000.\n"
     ]
    }
   ],
   "source": [
    "reports.feature_analysis(train_X,'./feature_analysis_report.html')"
   ]
  },
  {
   "cell_type": "markdown",
   "metadata": {},
   "source": [
    "### 3.2.2 Bivariate - mutual interactions"
   ]
  },
  {
   "cell_type": "markdown",
   "metadata": {},
   "source": [
    "- Find columns with high correlations and drop them"
   ]
  },
  {
   "cell_type": "code",
   "execution_count": 29,
   "metadata": {},
   "outputs": [
    {
     "data": {
      "text/html": [
       "<div>\n",
       "<style scoped>\n",
       "    .dataframe tbody tr th:only-of-type {\n",
       "        vertical-align: middle;\n",
       "    }\n",
       "\n",
       "    .dataframe tbody tr th {\n",
       "        vertical-align: top;\n",
       "    }\n",
       "\n",
       "    .dataframe thead th {\n",
       "        text-align: right;\n",
       "    }\n",
       "</style>\n",
       "<table border=\"1\" class=\"dataframe\">\n",
       "  <thead>\n",
       "    <tr style=\"text-align: right;\">\n",
       "      <th></th>\n",
       "      <th>Variable 1</th>\n",
       "      <th>Variable 2</th>\n",
       "      <th>Corr Coef</th>\n",
       "      <th>Abs Corr Coef</th>\n",
       "    </tr>\n",
       "  </thead>\n",
       "  <tbody>\n",
       "    <tr>\n",
       "      <th>0</th>\n",
       "      <td>households</td>\n",
       "      <td>total_bedrooms</td>\n",
       "      <td>0.974679</td>\n",
       "      <td>0.974679</td>\n",
       "    </tr>\n",
       "    <tr>\n",
       "      <th>1</th>\n",
       "      <td>latitude</td>\n",
       "      <td>longitude</td>\n",
       "      <td>-0.925659</td>\n",
       "      <td>0.925659</td>\n",
       "    </tr>\n",
       "    <tr>\n",
       "      <th>2</th>\n",
       "      <td>total_bedrooms</td>\n",
       "      <td>total_rooms</td>\n",
       "      <td>0.918343</td>\n",
       "      <td>0.918343</td>\n",
       "    </tr>\n",
       "    <tr>\n",
       "      <th>3</th>\n",
       "      <td>households</td>\n",
       "      <td>total_rooms</td>\n",
       "      <td>0.914935</td>\n",
       "      <td>0.914935</td>\n",
       "    </tr>\n",
       "    <tr>\n",
       "      <th>4</th>\n",
       "      <td>households</td>\n",
       "      <td>population</td>\n",
       "      <td>0.907767</td>\n",
       "      <td>0.907767</td>\n",
       "    </tr>\n",
       "    <tr>\n",
       "      <th>5</th>\n",
       "      <td>population</td>\n",
       "      <td>total_bedrooms</td>\n",
       "      <td>0.874772</td>\n",
       "      <td>0.874772</td>\n",
       "    </tr>\n",
       "    <tr>\n",
       "      <th>6</th>\n",
       "      <td>population</td>\n",
       "      <td>total_rooms</td>\n",
       "      <td>0.844236</td>\n",
       "      <td>0.844236</td>\n",
       "    </tr>\n",
       "    <tr>\n",
       "      <th>7</th>\n",
       "      <td>bedrooms_per_room</td>\n",
       "      <td>rooms_per_household</td>\n",
       "      <td>-0.757909</td>\n",
       "      <td>0.757909</td>\n",
       "    </tr>\n",
       "    <tr>\n",
       "      <th>8</th>\n",
       "      <td>bedrooms_per_room</td>\n",
       "      <td>median_income</td>\n",
       "      <td>-0.676335</td>\n",
       "      <td>0.676335</td>\n",
       "    </tr>\n",
       "    <tr>\n",
       "      <th>9</th>\n",
       "      <td>ocean_proximity_&lt;1H OCEAN</td>\n",
       "      <td>ocean_proximity_INLAND</td>\n",
       "      <td>-0.607701</td>\n",
       "      <td>0.607701</td>\n",
       "    </tr>\n",
       "  </tbody>\n",
       "</table>\n",
       "</div>"
      ],
      "text/plain": [
       "                  Variable 1              Variable 2  Corr Coef  Abs Corr Coef\n",
       "0                 households          total_bedrooms   0.974679       0.974679\n",
       "1                   latitude               longitude  -0.925659       0.925659\n",
       "2             total_bedrooms             total_rooms   0.918343       0.918343\n",
       "3                 households             total_rooms   0.914935       0.914935\n",
       "4                 households              population   0.907767       0.907767\n",
       "5                 population          total_bedrooms   0.874772       0.874772\n",
       "6                 population             total_rooms   0.844236       0.844236\n",
       "7          bedrooms_per_room     rooms_per_household  -0.757909       0.757909\n",
       "8          bedrooms_per_room           median_income  -0.676335       0.676335\n",
       "9  ocean_proximity_<1H OCEAN  ocean_proximity_INLAND  -0.607701       0.607701"
      ]
     },
     "execution_count": 29,
     "metadata": {},
     "output_type": "execute_result"
    }
   ],
   "source": [
    "out = eda.get_correlation_table(train_X)\n",
    "out\n",
    "out[out[\"Abs Corr Coef\"] > 0.6]"
   ]
  },
  {
   "cell_type": "code",
   "execution_count": 30,
   "metadata": {},
   "outputs": [
    {
     "data": {
      "text/html": [
       "<div>\n",
       "<style scoped>\n",
       "    .dataframe tbody tr th:only-of-type {\n",
       "        vertical-align: middle;\n",
       "    }\n",
       "\n",
       "    .dataframe tbody tr th {\n",
       "        vertical-align: top;\n",
       "    }\n",
       "\n",
       "    .dataframe thead th {\n",
       "        text-align: right;\n",
       "    }\n",
       "</style>\n",
       "<table border=\"1\" class=\"dataframe\">\n",
       "  <thead>\n",
       "    <tr style=\"text-align: right;\">\n",
       "      <th></th>\n",
       "      <th>Variable 1</th>\n",
       "      <th>Variable 2</th>\n",
       "      <th>Corr Coef</th>\n",
       "      <th>Abs Corr Coef</th>\n",
       "    </tr>\n",
       "  </thead>\n",
       "  <tbody>\n",
       "    <tr>\n",
       "      <th>0</th>\n",
       "      <td>bedrooms_per_room</td>\n",
       "      <td>rooms_per_household</td>\n",
       "      <td>-0.757909</td>\n",
       "      <td>0.757909</td>\n",
       "    </tr>\n",
       "    <tr>\n",
       "      <th>1</th>\n",
       "      <td>bedrooms_per_room</td>\n",
       "      <td>median_income</td>\n",
       "      <td>-0.676335</td>\n",
       "      <td>0.676335</td>\n",
       "    </tr>\n",
       "  </tbody>\n",
       "</table>\n",
       "</div>"
      ],
      "text/plain": [
       "          Variable 1           Variable 2  Corr Coef  Abs Corr Coef\n",
       "0  bedrooms_per_room  rooms_per_household  -0.757909       0.757909\n",
       "1  bedrooms_per_room        median_income  -0.676335       0.676335"
      ]
     },
     "execution_count": 30,
     "metadata": {},
     "output_type": "execute_result"
    }
   ],
   "source": [
    "# households and total_bedrooms highly correlated. So discarding households\n",
    "# total_bedrooms and total_rooms are almost same so discarding total_bedrooms.\n",
    "curated_columns = list(\n",
    "    set(train_X.columns.to_list()) \n",
    "    - set(['households', 'total_bedrooms','population','latitude','ocean_proximity_<1H OCEAN'])\n",
    ")\n",
    "\n",
    "train_X = train_X[curated_columns]\n",
    "\n",
    "out = eda.get_correlation_table(train_X)\n",
    "out[out[\"Abs Corr Coef\"] > 0.6]"
   ]
  },
  {
   "cell_type": "code",
   "execution_count": 31,
   "metadata": {},
   "outputs": [],
   "source": [
    "# out = eda.get_bivariate_plots(train_X, x_cols=['ocean_proximity_<1H OCEAN'], y_cols=['ocean_proximity_INLAND'])\n",
    "# out"
   ]
  },
  {
   "cell_type": "code",
   "execution_count": 32,
   "metadata": {},
   "outputs": [
    {
     "name": "stdout",
     "output_type": "stream",
     "text": [
      "CPU times: user 32.2 s, sys: 19.3 s, total: 51.5 s\n",
      "Wall time: 23.3 s\n"
     ]
    }
   ],
   "source": [
    "%%time\n",
    "# create reports as needed\n",
    "cols = train_X.columns.to_list()\n",
    "all_plots = {}\n",
    "for ii, col1 in enumerate(cols): \n",
    "    for jj in range(ii+1, len(cols)):\n",
    "        col2 = cols[jj]\n",
    "        out = eda.get_bivariate_plots(train_X, x_cols=[col1], y_cols=[col2])\n",
    "        all_plots.update({f'{col2} vs {col1}': out})\n",
    "\n",
    "reports.create_report(all_plots, name='feature_analysis_bivariate')"
   ]
  },
  {
   "cell_type": "markdown",
   "metadata": {},
   "source": [
    "A report containing the bivariate plot is available [here](https://drive.google.com/file/d/1WSGT3586tY-rOmZ57xGILbmL5ll9cSVT/view?usp=sharing)\n",
    "\n",
    "Alternatively, the above plots can be generated as a single html as below. The output from this is available [here](https://drive.google.com/file/d/1A2fz_bjYv8I3iaFDT75JQSDKeJEXxCtp/view?usp=sharing)"
   ]
  },
  {
   "cell_type": "code",
   "execution_count": 33,
   "metadata": {},
   "outputs": [],
   "source": [
    "reports.feature_interactions(train_X,'./feature_interaction_report.html')"
   ]
  },
  {
   "cell_type": "markdown",
   "metadata": {},
   "source": [
    "### 3.2.3 Key Drivers - Interaction with Target variable"
   ]
  },
  {
   "cell_type": "code",
   "execution_count": 34,
   "metadata": {},
   "outputs": [
    {
     "data": {},
     "metadata": {},
     "output_type": "display_data"
    },
    {
     "data": {},
     "metadata": {},
     "output_type": "display_data"
    },
    {
     "data": {
      "application/vnd.holoviews_exec.v0+json": "",
      "text/html": [
       "<div id='31170'>\n",
       "  <div class=\"bk-root\" id=\"8957000a-d1ef-416b-918d-2c1288201660\" data-root-id=\"31170\"></div>\n",
       "</div>\n",
       "<script type=\"application/javascript\">(function(root) {\n",
       "  function embed_document(root) {\n",
       "    var docs_json = {\"a5e66ced-5227-4275-8e44-86363076e17c\":{\"defs\":[{\"extends\":null,\"module\":null,\"name\":\"ReactiveHTML1\",\"overrides\":[],\"properties\":[]},{\"extends\":null,\"module\":null,\"name\":\"FlexBox1\",\"overrides\":[],\"properties\":[{\"default\":\"flex-start\",\"kind\":null,\"name\":\"align_content\"},{\"default\":\"flex-start\",\"kind\":null,\"name\":\"align_items\"},{\"default\":\"row\",\"kind\":null,\"name\":\"flex_direction\"},{\"default\":\"wrap\",\"kind\":null,\"name\":\"flex_wrap\"},{\"default\":\"flex-start\",\"kind\":null,\"name\":\"justify_content\"}]},{\"extends\":null,\"module\":null,\"name\":\"GridStack1\",\"overrides\":[],\"properties\":[{\"default\":\"warn\",\"kind\":null,\"name\":\"mode\"},{\"default\":null,\"kind\":null,\"name\":\"ncols\"},{\"default\":null,\"kind\":null,\"name\":\"nrows\"},{\"default\":true,\"kind\":null,\"name\":\"allow_resize\"},{\"default\":true,\"kind\":null,\"name\":\"allow_drag\"},{\"default\":[],\"kind\":null,\"name\":\"state\"}]},{\"extends\":null,\"module\":null,\"name\":\"click1\",\"overrides\":[],\"properties\":[{\"default\":\"\",\"kind\":null,\"name\":\"terminal_output\"},{\"default\":\"\",\"kind\":null,\"name\":\"debug_name\"},{\"default\":0,\"kind\":null,\"name\":\"clears\"}]},{\"extends\":null,\"module\":null,\"name\":\"NotificationAreaBase1\",\"overrides\":[],\"properties\":[{\"default\":\"bottom-right\",\"kind\":null,\"name\":\"position\"},{\"default\":0,\"kind\":null,\"name\":\"_clear\"}]},{\"extends\":null,\"module\":null,\"name\":\"NotificationArea1\",\"overrides\":[],\"properties\":[{\"default\":[],\"kind\":null,\"name\":\"notifications\"},{\"default\":\"bottom-right\",\"kind\":null,\"name\":\"position\"},{\"default\":0,\"kind\":null,\"name\":\"_clear\"},{\"default\":[{\"background\":\"#ffc107\",\"icon\":{\"className\":\"fas fa-exclamation-triangle\",\"color\":\"white\",\"tagName\":\"i\"},\"type\":\"warning\"},{\"background\":\"#007bff\",\"icon\":{\"className\":\"fas fa-info-circle\",\"color\":\"white\",\"tagName\":\"i\"},\"type\":\"info\"}],\"kind\":null,\"name\":\"types\"}]},{\"extends\":null,\"module\":null,\"name\":\"Notification\",\"overrides\":[],\"properties\":[{\"default\":null,\"kind\":null,\"name\":\"background\"},{\"default\":3000,\"kind\":null,\"name\":\"duration\"},{\"default\":null,\"kind\":null,\"name\":\"icon\"},{\"default\":\"\",\"kind\":null,\"name\":\"message\"},{\"default\":null,\"kind\":null,\"name\":\"notification_type\"},{\"default\":false,\"kind\":null,\"name\":\"_destroyed\"}]},{\"extends\":null,\"module\":null,\"name\":\"TemplateActions1\",\"overrides\":[],\"properties\":[{\"default\":0,\"kind\":null,\"name\":\"open_modal\"},{\"default\":0,\"kind\":null,\"name\":\"close_modal\"}]},{\"extends\":null,\"module\":null,\"name\":\"MaterialTemplateActions1\",\"overrides\":[],\"properties\":[{\"default\":0,\"kind\":null,\"name\":\"open_modal\"},{\"default\":0,\"kind\":null,\"name\":\"close_modal\"}]}],\"roots\":{\"references\":[{\"attributes\":{\"axis\":{\"id\":\"31183\"},\"coordinates\":null,\"grid_line_color\":null,\"group\":null,\"ticker\":null},\"id\":\"31186\",\"type\":\"Grid\"},{\"attributes\":{},\"id\":\"31216\",\"type\":\"CategoricalTickFormatter\"},{\"attributes\":{\"axis\":{\"id\":\"31187\"},\"coordinates\":null,\"dimension\":1,\"grid_line_color\":null,\"group\":null,\"ticker\":null},\"id\":\"31189\",\"type\":\"Grid\"},{\"attributes\":{},\"id\":\"31181\",\"type\":\"CategoricalScale\"},{\"attributes\":{},\"id\":\"31194\",\"type\":\"ResetTool\"},{\"attributes\":{\"tools\":[{\"id\":\"31173\"},{\"id\":\"31190\"},{\"id\":\"31191\"},{\"id\":\"31192\"},{\"id\":\"31193\"},{\"id\":\"31194\"}]},\"id\":\"31196\",\"type\":\"Toolbar\"},{\"attributes\":{},\"id\":\"31188\",\"type\":\"CategoricalTicker\"},{\"attributes\":{},\"id\":\"31217\",\"type\":\"AllLabels\"},{\"attributes\":{},\"id\":\"31179\",\"type\":\"LinearScale\"},{\"attributes\":{\"end\":0.8115661136924462,\"reset_end\":0.8115661136924462,\"reset_start\":-0.6033363870610176,\"start\":-0.6033363870610176,\"tags\":[[[\"Pearson_correlation_with_Target\",\"Pearson_correlation_with_Target\",null]]]},\"id\":\"31171\",\"type\":\"Range1d\"},{\"attributes\":{\"fill_color\":{\"value\":\"#30a2da\"},\"hatch_color\":{\"value\":\"#30a2da\"},\"height\":{\"value\":0.8},\"right\":{\"field\":\"Pearson_correlation_with_Target\"},\"y\":{\"field\":\"index\"}},\"id\":\"31206\",\"type\":\"HBar\"},{\"attributes\":{\"below\":[{\"id\":\"31183\"}],\"center\":[{\"id\":\"31186\"},{\"id\":\"31189\"}],\"height\":300,\"left\":[{\"id\":\"31187\"}],\"margin\":[5,5,5,5],\"min_border_bottom\":10,\"min_border_left\":10,\"min_border_right\":10,\"min_border_top\":10,\"renderers\":[{\"id\":\"31209\"}],\"sizing_mode\":\"fixed\",\"title\":{\"id\":\"31175\"},\"toolbar\":{\"id\":\"31196\"},\"width\":700,\"x_range\":{\"id\":\"31171\"},\"x_scale\":{\"id\":\"31179\"},\"y_range\":{\"id\":\"31172\"},\"y_scale\":{\"id\":\"31181\"}},\"id\":\"31174\",\"subtype\":\"Figure\",\"type\":\"Plot\"},{\"attributes\":{\"bottom_units\":\"screen\",\"coordinates\":null,\"fill_alpha\":0.5,\"fill_color\":\"lightgrey\",\"group\":null,\"left_units\":\"screen\",\"level\":\"overlay\",\"line_alpha\":1.0,\"line_color\":\"black\",\"line_dash\":[4,4],\"line_width\":2,\"right_units\":\"screen\",\"syncable\":false,\"top_units\":\"screen\"},\"id\":\"31195\",\"type\":\"BoxAnnotation\"},{\"attributes\":{\"client_comm_id\":\"3f074b84492c42ed8597303eb27c0eca\",\"comm_id\":\"0433fff5c6834bc284f7821fc5a6b8fc\",\"plot_id\":\"31170\"},\"id\":\"31259\",\"type\":\"panel.models.comm_manager.CommManager\"},{\"attributes\":{},\"id\":\"31184\",\"type\":\"BasicTicker\"},{\"attributes\":{\"source\":{\"id\":\"31203\"}},\"id\":\"31210\",\"type\":\"CDSView\"},{\"attributes\":{\"coordinates\":null,\"group\":null,\"text\":\"Feature Correlation with Target Function\",\"text_color\":\"black\",\"text_font_size\":\"12pt\"},\"id\":\"31175\",\"type\":\"Title\"},{\"attributes\":{\"overlay\":{\"id\":\"31195\"}},\"id\":\"31193\",\"type\":\"BoxZoomTool\"},{\"attributes\":{\"fill_alpha\":{\"value\":1.0},\"fill_color\":{\"value\":\"#30a2da\"},\"hatch_alpha\":{\"value\":1.0},\"hatch_color\":{\"value\":\"#30a2da\"},\"hatch_scale\":{\"value\":12.0},\"hatch_weight\":{\"value\":1.0},\"height\":{\"value\":0.8},\"left\":{\"value\":0},\"line_alpha\":{\"value\":1.0},\"line_cap\":{\"value\":\"butt\"},\"line_color\":{\"value\":\"black\"},\"line_dash\":{\"value\":[]},\"line_dash_offset\":{\"value\":0},\"line_join\":{\"value\":\"bevel\"},\"line_width\":{\"value\":1},\"right\":{\"field\":\"Pearson_correlation_with_Target\"},\"y\":{\"field\":\"index\"}},\"id\":\"31211\",\"type\":\"HBar\"},{\"attributes\":{\"margin\":[0,0,0,0],\"tabs\":[{\"id\":\"31228\"}]},\"id\":\"31170\",\"type\":\"panel.models.tabs.Tabs\"},{\"attributes\":{\"factors\":[\"ocean_proximity_INLAND\",\"bedrooms_per_room\",\"population_per_household\",\"longitude\",\"ocean_proximity_ISLAND\",\"housing_median_age\",\"ocean_proximity_NEAR OCEAN\",\"total_rooms\",\"ocean_proximity_NEAR BAY\",\"rooms_per_household\",\"median_income\"],\"tags\":[[[\"index\",\"index\",null]]]},\"id\":\"31172\",\"type\":\"FactorRange\"},{\"attributes\":{\"fill_alpha\":{\"value\":0.2},\"fill_color\":{\"value\":\"#30a2da\"},\"hatch_alpha\":{\"value\":0.2},\"hatch_color\":{\"value\":\"#30a2da\"},\"height\":{\"value\":0.8},\"line_alpha\":{\"value\":0.2},\"right\":{\"field\":\"Pearson_correlation_with_Target\"},\"y\":{\"field\":\"index\"}},\"id\":\"31208\",\"type\":\"HBar\"},{\"attributes\":{},\"id\":\"31190\",\"type\":\"SaveTool\"},{\"attributes\":{\"axis_label\":\"\",\"coordinates\":null,\"formatter\":{\"id\":\"31216\"},\"group\":null,\"major_label_policy\":{\"id\":\"31217\"},\"ticker\":{\"id\":\"31188\"}},\"id\":\"31187\",\"type\":\"CategoricalAxis\"},{\"attributes\":{},\"id\":\"31213\",\"type\":\"BasicTickFormatter\"},{\"attributes\":{},\"id\":\"31225\",\"type\":\"UnionRenderers\"},{\"attributes\":{\"fill_alpha\":{\"value\":0.1},\"fill_color\":{\"value\":\"#30a2da\"},\"hatch_alpha\":{\"value\":0.1},\"hatch_color\":{\"value\":\"#30a2da\"},\"height\":{\"value\":0.8},\"line_alpha\":{\"value\":0.1},\"right\":{\"field\":\"Pearson_correlation_with_Target\"},\"y\":{\"field\":\"index\"}},\"id\":\"31207\",\"type\":\"HBar\"},{\"attributes\":{},\"id\":\"31204\",\"type\":\"Selection\"},{\"attributes\":{\"data\":{\"Pearson_correlation_with_Target\":{\"__ndarray__\":\"WhMR9D8R3799EINGhvfRv564Mnpwg8u/IbcWv61vpr+GFV4WZ5qVPwj2BIppors/0bR6Y+Eewj9nhBnpqqbDP7SAFeXCt8Q/rnnt1kKy0T+ihUZdcTLmPw==\",\"dtype\":\"float64\",\"order\":\"little\",\"shape\":[11]},\"index\":[\"ocean_proximity_INLAND\",\"bedrooms_per_room\",\"population_per_household\",\"longitude\",\"ocean_proximity_ISLAND\",\"housing_median_age\",\"ocean_proximity_NEAR OCEAN\",\"total_rooms\",\"ocean_proximity_NEAR BAY\",\"rooms_per_household\",\"median_income\"]},\"selected\":{\"id\":\"31204\"},\"selection_policy\":{\"id\":\"31225\"}},\"id\":\"31203\",\"type\":\"ColumnDataSource\"},{\"attributes\":{},\"id\":\"31192\",\"type\":\"WheelZoomTool\"},{\"attributes\":{\"callback\":null,\"renderers\":[{\"id\":\"31209\"}],\"tags\":[\"hv_created\"],\"tooltips\":[[\"index\",\"@{index}\"],[\"Pearson_correlation_with_Target\",\"@{Pearson_correlation_with_Target}\"]]},\"id\":\"31173\",\"type\":\"HoverTool\"},{\"attributes\":{},\"id\":\"31214\",\"type\":\"AllLabels\"},{\"attributes\":{\"child\":{\"id\":\"31174\"},\"name\":\"feature_correlation\",\"title\":\"feature_correlation\"},\"id\":\"31228\",\"type\":\"Panel\"},{\"attributes\":{},\"id\":\"31191\",\"type\":\"PanTool\"},{\"attributes\":{\"axis_label\":\"Pearson_correlation_with_Target\",\"coordinates\":null,\"formatter\":{\"id\":\"31213\"},\"group\":null,\"major_label_policy\":{\"id\":\"31214\"},\"ticker\":{\"id\":\"31184\"}},\"id\":\"31183\",\"type\":\"LinearAxis\"},{\"attributes\":{\"coordinates\":null,\"data_source\":{\"id\":\"31203\"},\"glyph\":{\"id\":\"31206\"},\"group\":null,\"hover_glyph\":null,\"muted_glyph\":{\"id\":\"31208\"},\"nonselection_glyph\":{\"id\":\"31207\"},\"selection_glyph\":{\"id\":\"31211\"},\"view\":{\"id\":\"31210\"}},\"id\":\"31209\",\"type\":\"GlyphRenderer\"}],\"root_ids\":[\"31170\",\"31259\"]},\"title\":\"Bokeh Application\",\"version\":\"2.4.3\"}};\n",
       "    var render_items = [{\"docid\":\"a5e66ced-5227-4275-8e44-86363076e17c\",\"root_ids\":[\"31170\"],\"roots\":{\"31170\":\"8957000a-d1ef-416b-918d-2c1288201660\"}}];\n",
       "    root.Bokeh.embed.embed_items_notebook(docs_json, render_items);\n",
       "  }\n",
       "  if (root.Bokeh !== undefined && root.Bokeh.Panel !== undefined) {\n",
       "    embed_document(root);\n",
       "  } else {\n",
       "    var attempts = 0;\n",
       "    var timer = setInterval(function(root) {\n",
       "      if (root.Bokeh !== undefined && root.Bokeh.Panel !== undefined) {\n",
       "        clearInterval(timer);\n",
       "        embed_document(root);\n",
       "      } else if (document.readyState == \"complete\") {\n",
       "        attempts++;\n",
       "        if (attempts > 200) {\n",
       "          clearInterval(timer);\n",
       "          console.log(\"Bokeh: ERROR: Unable to run BokehJS code because BokehJS library is missing\");\n",
       "        }\n",
       "      }\n",
       "    }, 25, root)\n",
       "  }\n",
       "})(window);</script>"
      ],
      "text/plain": [
       "Tabs\n",
       "    [0] HoloViews(Bars, name='feature_correlation')"
      ]
     },
     "execution_count": 34,
     "metadata": {
      "application/vnd.holoviews_exec.v0+json": {
       "id": "31170"
      }
     },
     "output_type": "execute_result"
    }
   ],
   "source": [
    "out = eda.get_target_correlation(train_X, train_y, y_continuous=True)\n",
    "display_as_tabs([(k, v) for k,v in out.items()])"
   ]
  },
  {
   "cell_type": "code",
   "execution_count": 35,
   "metadata": {},
   "outputs": [
    {
     "data": {},
     "metadata": {},
     "output_type": "display_data"
    },
    {
     "data": {},
     "metadata": {},
     "output_type": "display_data"
    },
    {
     "data": {
      "application/vnd.holoviews_exec.v0+json": "",
      "text/html": [
       "<div id='31310'>\n",
       "  <div class=\"bk-root\" id=\"ed7c578e-c34e-49cd-a3e8-f0b8fddc2fa3\" data-root-id=\"31310\"></div>\n",
       "</div>\n",
       "<script type=\"application/javascript\">(function(root) {\n",
       "  function embed_document(root) {\n",
       "    var docs_json = {\"c764d931-bb86-429c-96fe-172e7a317aeb\":{\"defs\":[{\"extends\":null,\"module\":null,\"name\":\"ReactiveHTML1\",\"overrides\":[],\"properties\":[]},{\"extends\":null,\"module\":null,\"name\":\"FlexBox1\",\"overrides\":[],\"properties\":[{\"default\":\"flex-start\",\"kind\":null,\"name\":\"align_content\"},{\"default\":\"flex-start\",\"kind\":null,\"name\":\"align_items\"},{\"default\":\"row\",\"kind\":null,\"name\":\"flex_direction\"},{\"default\":\"wrap\",\"kind\":null,\"name\":\"flex_wrap\"},{\"default\":\"flex-start\",\"kind\":null,\"name\":\"justify_content\"}]},{\"extends\":null,\"module\":null,\"name\":\"GridStack1\",\"overrides\":[],\"properties\":[{\"default\":\"warn\",\"kind\":null,\"name\":\"mode\"},{\"default\":null,\"kind\":null,\"name\":\"ncols\"},{\"default\":null,\"kind\":null,\"name\":\"nrows\"},{\"default\":true,\"kind\":null,\"name\":\"allow_resize\"},{\"default\":true,\"kind\":null,\"name\":\"allow_drag\"},{\"default\":[],\"kind\":null,\"name\":\"state\"}]},{\"extends\":null,\"module\":null,\"name\":\"click1\",\"overrides\":[],\"properties\":[{\"default\":\"\",\"kind\":null,\"name\":\"terminal_output\"},{\"default\":\"\",\"kind\":null,\"name\":\"debug_name\"},{\"default\":0,\"kind\":null,\"name\":\"clears\"}]},{\"extends\":null,\"module\":null,\"name\":\"NotificationAreaBase1\",\"overrides\":[],\"properties\":[{\"default\":\"bottom-right\",\"kind\":null,\"name\":\"position\"},{\"default\":0,\"kind\":null,\"name\":\"_clear\"}]},{\"extends\":null,\"module\":null,\"name\":\"NotificationArea1\",\"overrides\":[],\"properties\":[{\"default\":[],\"kind\":null,\"name\":\"notifications\"},{\"default\":\"bottom-right\",\"kind\":null,\"name\":\"position\"},{\"default\":0,\"kind\":null,\"name\":\"_clear\"},{\"default\":[{\"background\":\"#ffc107\",\"icon\":{\"className\":\"fas fa-exclamation-triangle\",\"color\":\"white\",\"tagName\":\"i\"},\"type\":\"warning\"},{\"background\":\"#007bff\",\"icon\":{\"className\":\"fas fa-info-circle\",\"color\":\"white\",\"tagName\":\"i\"},\"type\":\"info\"}],\"kind\":null,\"name\":\"types\"}]},{\"extends\":null,\"module\":null,\"name\":\"Notification\",\"overrides\":[],\"properties\":[{\"default\":null,\"kind\":null,\"name\":\"background\"},{\"default\":3000,\"kind\":null,\"name\":\"duration\"},{\"default\":null,\"kind\":null,\"name\":\"icon\"},{\"default\":\"\",\"kind\":null,\"name\":\"message\"},{\"default\":null,\"kind\":null,\"name\":\"notification_type\"},{\"default\":false,\"kind\":null,\"name\":\"_destroyed\"}]},{\"extends\":null,\"module\":null,\"name\":\"TemplateActions1\",\"overrides\":[],\"properties\":[{\"default\":0,\"kind\":null,\"name\":\"open_modal\"},{\"default\":0,\"kind\":null,\"name\":\"close_modal\"}]},{\"extends\":null,\"module\":null,\"name\":\"MaterialTemplateActions1\",\"overrides\":[],\"properties\":[{\"default\":0,\"kind\":null,\"name\":\"open_modal\"},{\"default\":0,\"kind\":null,\"name\":\"close_modal\"}]}],\"roots\":{\"references\":[{\"attributes\":{\"axis\":{\"id\":\"31327\"},\"coordinates\":null,\"dimension\":1,\"grid_line_color\":null,\"group\":null,\"ticker\":null},\"id\":\"31329\",\"type\":\"Grid\"},{\"attributes\":{\"axis_label\":\"Features\",\"coordinates\":null,\"formatter\":{\"id\":\"31356\"},\"group\":null,\"major_label_policy\":{\"id\":\"31357\"},\"ticker\":{\"id\":\"31328\"}},\"id\":\"31327\",\"type\":\"CategoricalAxis\"},{\"attributes\":{},\"id\":\"31324\",\"type\":\"BasicTicker\"},{\"attributes\":{},\"id\":\"31319\",\"type\":\"LinearScale\"},{\"attributes\":{\"source\":{\"id\":\"31343\"}},\"id\":\"31350\",\"type\":\"CDSView\"},{\"attributes\":{\"child\":{\"id\":\"31314\"},\"name\":\"from_model\",\"title\":\"from_model\"},\"id\":\"31368\",\"type\":\"Panel\"},{\"attributes\":{\"axis_label\":\"Feature Importance [determined by coeff * mean(x)]\",\"coordinates\":null,\"formatter\":{\"id\":\"31353\"},\"group\":null,\"major_label_policy\":{\"id\":\"31354\"},\"ticker\":{\"id\":\"31324\"}},\"id\":\"31323\",\"type\":\"LinearAxis\"},{\"attributes\":{},\"id\":\"31331\",\"type\":\"PanTool\"},{\"attributes\":{\"axis\":{\"id\":\"31323\"},\"coordinates\":null,\"grid_line_color\":null,\"group\":null,\"ticker\":null},\"id\":\"31326\",\"type\":\"Grid\"},{\"attributes\":{\"margin\":[0,0,0,0],\"tabs\":[{\"id\":\"31368\"},{\"id\":\"31370\"}]},\"id\":\"31310\",\"type\":\"panel.models.tabs.Tabs\"},{\"attributes\":{\"coordinates\":null,\"data_source\":{\"id\":\"31343\"},\"glyph\":{\"id\":\"31346\"},\"group\":null,\"hover_glyph\":null,\"muted_glyph\":{\"id\":\"31348\"},\"nonselection_glyph\":{\"id\":\"31347\"},\"selection_glyph\":{\"id\":\"31351\"},\"view\":{\"id\":\"31350\"}},\"id\":\"31349\",\"type\":\"GlyphRenderer\"},{\"attributes\":{},\"id\":\"31330\",\"type\":\"SaveTool\"},{\"attributes\":{\"child\":{\"id\":\"31369\"},\"name\":\"shap_values\",\"title\":\"shap_values\"},\"id\":\"31370\",\"type\":\"Panel\"},{\"attributes\":{},\"id\":\"31321\",\"type\":\"CategoricalScale\"},{\"attributes\":{\"factors\":[\"bedrooms_per_room\",\"longitude\",\"ocean_proximity_INLAND\",\"ocean_proximity_ISLAND\",\"ocean_proximity_NEAR BAY\",\"ocean_proximity_NEAR OCEAN\",\"population_per_household\",\"rooms_per_household\",\"total_rooms\",\"housing_median_age\",\"median_income\"],\"tags\":[[[\"index\",\"index\",null]]]},\"id\":\"31312\",\"type\":\"FactorRange\"},{\"attributes\":{},\"id\":\"31365\",\"type\":\"UnionRenderers\"},{\"attributes\":{\"fill_color\":{\"value\":\"#30a2da\"},\"hatch_color\":{\"value\":\"#30a2da\"},\"height\":{\"value\":0.8},\"right\":{\"field\":\"importance\"},\"y\":{\"field\":\"index\"}},\"id\":\"31346\",\"type\":\"HBar\"},{\"attributes\":{\"end\":421.092624052145,\"reset_end\":421.092624052145,\"reset_start\":0.0,\"tags\":[[[\"importance\",\"importance\",null]]]},\"id\":\"31311\",\"type\":\"Range1d\"},{\"attributes\":{\"height\":590,\"margin\":[5,5,5,5],\"name\":\"shap_values\",\"text\":\"&lt;img src=&quot;data:image/png;base64,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&quot; width=&quot;800px&quot; height=&quot;590px&quot; alt=&quot;&quot;&gt;&lt;/img&gt;\",\"width\":800},\"id\":\"31369\",\"type\":\"panel.models.markup.HTML\"},{\"attributes\":{\"bottom_units\":\"screen\",\"coordinates\":null,\"fill_alpha\":0.5,\"fill_color\":\"lightgrey\",\"group\":null,\"left_units\":\"screen\",\"level\":\"overlay\",\"line_alpha\":1.0,\"line_color\":\"black\",\"line_dash\":[4,4],\"line_width\":2,\"right_units\":\"screen\",\"syncable\":false,\"top_units\":\"screen\"},\"id\":\"31335\",\"type\":\"BoxAnnotation\"},{\"attributes\":{\"overlay\":{\"id\":\"31335\"}},\"id\":\"31333\",\"type\":\"BoxZoomTool\"},{\"attributes\":{},\"id\":\"31334\",\"type\":\"ResetTool\"},{\"attributes\":{\"client_comm_id\":\"b8d461c8b8cc4afd8d1fbb6e4c4a8749\",\"comm_id\":\"910ce03ce7294008a32e1f0c1b969de0\",\"plot_id\":\"31310\"},\"id\":\"31401\",\"type\":\"panel.models.comm_manager.CommManager\"},{\"attributes\":{\"below\":[{\"id\":\"31323\"}],\"center\":[{\"id\":\"31326\"},{\"id\":\"31329\"}],\"height\":300,\"left\":[{\"id\":\"31327\"}],\"margin\":[5,5,5,5],\"min_border_bottom\":10,\"min_border_left\":10,\"min_border_right\":10,\"min_border_top\":10,\"renderers\":[{\"id\":\"31349\"}],\"sizing_mode\":\"fixed\",\"title\":{\"id\":\"31315\"},\"toolbar\":{\"id\":\"31336\"},\"width\":700,\"x_range\":{\"id\":\"31311\"},\"x_scale\":{\"id\":\"31319\"},\"y_range\":{\"id\":\"31312\"},\"y_scale\":{\"id\":\"31321\"}},\"id\":\"31314\",\"subtype\":\"Figure\",\"type\":\"Plot\"},{\"attributes\":{},\"id\":\"31356\",\"type\":\"CategoricalTickFormatter\"},{\"attributes\":{\"fill_alpha\":{\"value\":0.1},\"fill_color\":{\"value\":\"#30a2da\"},\"hatch_alpha\":{\"value\":0.1},\"hatch_color\":{\"value\":\"#30a2da\"},\"height\":{\"value\":0.8},\"line_alpha\":{\"value\":0.1},\"right\":{\"field\":\"importance\"},\"y\":{\"field\":\"index\"}},\"id\":\"31347\",\"type\":\"HBar\"},{\"attributes\":{},\"id\":\"31357\",\"type\":\"AllLabels\"},{\"attributes\":{},\"id\":\"31332\",\"type\":\"WheelZoomTool\"},{\"attributes\":{\"fill_alpha\":{\"value\":0.2},\"fill_color\":{\"value\":\"#30a2da\"},\"hatch_alpha\":{\"value\":0.2},\"hatch_color\":{\"value\":\"#30a2da\"},\"height\":{\"value\":0.8},\"line_alpha\":{\"value\":0.2},\"right\":{\"field\":\"importance\"},\"y\":{\"field\":\"index\"}},\"id\":\"31348\",\"type\":\"HBar\"},{\"attributes\":{\"callback\":null,\"renderers\":[{\"id\":\"31349\"}],\"tags\":[\"hv_created\"],\"tooltips\":[[\"index\",\"@{index}\"],[\"importance\",\"@{importance}\"]]},\"id\":\"31313\",\"type\":\"HoverTool\"},{\"attributes\":{},\"id\":\"31328\",\"type\":\"CategoricalTicker\"},{\"attributes\":{},\"id\":\"31354\",\"type\":\"AllLabels\"},{\"attributes\":{},\"id\":\"31344\",\"type\":\"Selection\"},{\"attributes\":{\"tools\":[{\"id\":\"31313\"},{\"id\":\"31330\"},{\"id\":\"31331\"},{\"id\":\"31332\"},{\"id\":\"31333\"},{\"id\":\"31334\"}]},\"id\":\"31336\",\"type\":\"Toolbar\"},{\"attributes\":{\"data\":{\"importance\":{\"__ndarray__\":\"AAAAAAAAAAAAAAAAAAAAgAAAAAAAAACAAAAAAAAAAAAAAAAAAAAAAAAAAAAAAAAAAAAAAAAAAIAAAAAAAAAAgNcRHKZ1ZEhAWhhnT0FxYkBXbrDO++x3QA==\",\"dtype\":\"float64\",\"order\":\"little\",\"shape\":[11]},\"index\":[\"bedrooms_per_room\",\"longitude\",\"ocean_proximity_INLAND\",\"ocean_proximity_ISLAND\",\"ocean_proximity_NEAR BAY\",\"ocean_proximity_NEAR OCEAN\",\"population_per_household\",\"rooms_per_household\",\"total_rooms\",\"housing_median_age\",\"median_income\"]},\"selected\":{\"id\":\"31344\"},\"selection_policy\":{\"id\":\"31365\"}},\"id\":\"31343\",\"type\":\"ColumnDataSource\"},{\"attributes\":{\"fill_alpha\":{\"value\":1.0},\"fill_color\":{\"value\":\"#30a2da\"},\"hatch_alpha\":{\"value\":1.0},\"hatch_color\":{\"value\":\"#30a2da\"},\"hatch_scale\":{\"value\":12.0},\"hatch_weight\":{\"value\":1.0},\"height\":{\"value\":0.8},\"left\":{\"value\":0},\"line_alpha\":{\"value\":1.0},\"line_cap\":{\"value\":\"butt\"},\"line_color\":{\"value\":\"black\"},\"line_dash\":{\"value\":[]},\"line_dash_offset\":{\"value\":0},\"line_join\":{\"value\":\"bevel\"},\"line_width\":{\"value\":1},\"right\":{\"field\":\"importance\"},\"y\":{\"field\":\"index\"}},\"id\":\"31351\",\"type\":\"HBar\"},{\"attributes\":{\"coordinates\":null,\"group\":null,\"text\":\"Feature Importances from LassoCV\",\"text_color\":\"black\",\"text_font_size\":\"12pt\"},\"id\":\"31315\",\"type\":\"Title\"},{\"attributes\":{},\"id\":\"31353\",\"type\":\"BasicTickFormatter\"}],\"root_ids\":[\"31310\",\"31401\"]},\"title\":\"Bokeh Application\",\"version\":\"2.4.3\"}};\n",
       "    var render_items = [{\"docid\":\"c764d931-bb86-429c-96fe-172e7a317aeb\",\"root_ids\":[\"31310\"],\"roots\":{\"31310\":\"ed7c578e-c34e-49cd-a3e8-f0b8fddc2fa3\"}}];\n",
       "    root.Bokeh.embed.embed_items_notebook(docs_json, render_items);\n",
       "  }\n",
       "  if (root.Bokeh !== undefined && root.Bokeh.Panel !== undefined) {\n",
       "    embed_document(root);\n",
       "  } else {\n",
       "    var attempts = 0;\n",
       "    var timer = setInterval(function(root) {\n",
       "      if (root.Bokeh !== undefined && root.Bokeh.Panel !== undefined) {\n",
       "        clearInterval(timer);\n",
       "        embed_document(root);\n",
       "      } else if (document.readyState == \"complete\") {\n",
       "        attempts++;\n",
       "        if (attempts > 200) {\n",
       "          clearInterval(timer);\n",
       "          console.log(\"Bokeh: ERROR: Unable to run BokehJS code because BokehJS library is missing\");\n",
       "        }\n",
       "      }\n",
       "    }, 25, root)\n",
       "  }\n",
       "})(window);</script>"
      ],
      "text/plain": [
       "Tabs\n",
       "    [0] HoloViews(Bars, name='from_model')\n",
       "    [1] Matplotlib(Figure, name='shap_values')"
      ]
     },
     "execution_count": 35,
     "metadata": {
      "application/vnd.holoviews_exec.v0+json": {
       "id": "31310"
      }
     },
     "output_type": "execute_result"
    }
   ],
   "source": [
    "out = eda.get_feature_importances(train_X, train_y, y_continuous=True)\n",
    "display_as_tabs([(k, v) for k,v in out.items()])"
   ]
  },
  {
   "cell_type": "markdown",
   "metadata": {},
   "source": [
    "Key drivers report like feature importance, bivariate plots can be obtained as below"
   ]
  },
  {
   "cell_type": "code",
   "execution_count": 36,
   "metadata": {},
   "outputs": [],
   "source": [
    "reports.key_drivers(train_X,train_y, './key_drivers_report.html', y_continuous=True)"
   ]
  },
  {
   "cell_type": "markdown",
   "metadata": {},
   "source": [
    "**Dev Notes**\n",
    "<details>\n",
    "    \n",
    "- The SHAP plots and bivariate plots in key drivers reports can be obtained by including quick=False as a parameter to key_drivers function call. \n",
    "- SHAP plots and bivariate plots often take long depending on data shape.\n",
    "- The plot with shap is present [here](https://drive.google.com/file/d/1JOTMBLiv3LEqZ-kxZz0RokW9v5UyiGva/view?usp=sharing)\n",
    "\n",
    "</details>"
   ]
  },
  {
   "cell_type": "markdown",
   "metadata": {},
   "source": [
    "\n",
    "All the plots like feature analysis, interaction, key drivers can be obtained as a single plot using data exploration method as shown below. The output from this is available [here](https://drive.google.com/file/d/1209MzmSSEhiTYuPfHpaVXFXUVbkaJm0B/view?usp=sharing)"
   ]
  },
  {
   "cell_type": "code",
   "execution_count": 37,
   "metadata": {},
   "outputs": [
    {
     "name": "stderr",
     "output_type": "stream",
     "text": [
      "p-value may not be accurate for N > 5000.\n"
     ]
    }
   ],
   "source": [
    "reports.data_exploration(train_X,train_y,'./data_exploration_report.html', y_continuous=True)"
   ]
  },
  {
   "cell_type": "code",
   "execution_count": 38,
   "metadata": {},
   "outputs": [],
   "source": [
    "# saving the list of relevant columns\n",
    "save_pipeline(curated_columns, op.abspath(op.join(artifacts_folder, 'curated_columns.joblib')))\n",
    "\n",
    "# save the feature pipeline\n",
    "save_pipeline(features_transformer, op.abspath(op.join(artifacts_folder, 'features.joblib')))"
   ]
  },
  {
   "cell_type": "markdown",
   "metadata": {},
   "source": [
    "# 4 Modelling"
   ]
  },
  {
   "cell_type": "markdown",
   "metadata": {},
   "source": [
    "## 4.1 Modelling - Linear Regression"
   ]
  },
  {
   "cell_type": "markdown",
   "metadata": {},
   "source": [
    "### 4.1.1 Feature Selection(Specific to Regression)\n",
    "\n",
    "- Selecting Features specific to regression\n",
    "- VIF : measure of the amount of multi-collinearity in a set of multiple regressor variables. \n",
    "- On a case to case basis VIF thresholds change. Generally 5 or 10 are acceptable levels.\n",
    "- Usually on a recursive basis when removing the most collinear variable, there can be shuffle in VIF. \n",
    "- Often this section will not be part of the production code."
   ]
  },
  {
   "cell_type": "code",
   "execution_count": 39,
   "metadata": {},
   "outputs": [],
   "source": [
    "cols = list(train_X.columns)\n",
    "vif = eda.calc_vif(train_X)\n",
    "while max(vif.VIF) > 25:\n",
    "    #removing the largest variable from VIF\n",
    "    cols.remove(vif[(vif.VIF==vif.VIF.max())].variables.tolist()[0])\n",
    "    vif = eda.calc_vif(train_X[cols])"
   ]
  },
  {
   "cell_type": "code",
   "execution_count": 40,
   "metadata": {},
   "outputs": [],
   "source": [
    "reg_vars = vif.query('VIF < 25').variables\n",
    "reg_vars = list(reg_vars)"
   ]
  },
  {
   "cell_type": "code",
   "execution_count": 41,
   "metadata": {},
   "outputs": [
    {
     "data": {
      "text/plain": [
       "['bedrooms_per_room',\n",
       " 'total_rooms',\n",
       " 'housing_median_age',\n",
       " 'ocean_proximity_NEAR BAY',\n",
       " 'ocean_proximity_INLAND',\n",
       " 'rooms_per_household',\n",
       " 'ocean_proximity_ISLAND',\n",
       " 'median_income',\n",
       " 'population_per_household',\n",
       " 'ocean_proximity_NEAR OCEAN']"
      ]
     },
     "execution_count": 41,
     "metadata": {},
     "output_type": "execute_result"
    }
   ],
   "source": [
    "reg_vars"
   ]
  },
  {
   "cell_type": "markdown",
   "metadata": {},
   "source": [
    "### 4.1.2 Data transformations"
   ]
  },
  {
   "cell_type": "code",
   "execution_count": 42,
   "metadata": {},
   "outputs": [],
   "source": [
    "# Custom Transformations like these can be utilised\n",
    "def _custom_data_transform(df, cols2keep=None):\n",
    "    \"\"\"Transformation to drop some columns in the data\n",
    "    \n",
    "    Parameters\n",
    "    ----------\n",
    "        df - pd.DataFrame\n",
    "        cols2keep - columns to keep in the dataframe\n",
    "    \"\"\"\n",
    "    cols2keep = cols2keep or []\n",
    "    if len(cols2keep):\n",
    "        return (df\n",
    "                .select_columns(cols2keep))\n",
    "    else:\n",
    "        return df"
   ]
  },
  {
   "cell_type": "markdown",
   "metadata": {},
   "source": [
    "### 4.1.3 Model training pipeline\n",
    "\n",
    "- Here we focus on creating a collection of pipelines that can be used for training respective models.\n",
    "- Each model pipeline will essentially be of the form\n",
    "```\n",
    "[\n",
    "('preprocessing', preprocessing_pipeline),\n",
    "('feature_selection', feature_selection_pipeline),\n",
    "('estimator', estimator),\n",
    "]\n",
    "```"
   ]
  },
  {
   "cell_type": "markdown",
   "metadata": {},
   "source": [
    "### 4.1.4 Model Pipeline Build\n",
    "\n",
    "- This will be part of the production code (training only)."
   ]
  },
  {
   "cell_type": "code",
   "execution_count": 43,
   "metadata": {},
   "outputs": [
    {
     "data": {
      "text/html": [
       "<style>#sk-container-id-1 {color: black;background-color: white;}#sk-container-id-1 pre{padding: 0;}#sk-container-id-1 div.sk-toggleable {background-color: white;}#sk-container-id-1 label.sk-toggleable__label {cursor: pointer;display: block;width: 100%;margin-bottom: 0;padding: 0.3em;box-sizing: border-box;text-align: center;}#sk-container-id-1 label.sk-toggleable__label-arrow:before {content: \"▸\";float: left;margin-right: 0.25em;color: #696969;}#sk-container-id-1 label.sk-toggleable__label-arrow:hover:before {color: black;}#sk-container-id-1 div.sk-estimator:hover label.sk-toggleable__label-arrow:before {color: black;}#sk-container-id-1 div.sk-toggleable__content {max-height: 0;max-width: 0;overflow: hidden;text-align: left;background-color: #f0f8ff;}#sk-container-id-1 div.sk-toggleable__content pre {margin: 0.2em;color: black;border-radius: 0.25em;background-color: #f0f8ff;}#sk-container-id-1 input.sk-toggleable__control:checked~div.sk-toggleable__content {max-height: 200px;max-width: 100%;overflow: auto;}#sk-container-id-1 input.sk-toggleable__control:checked~label.sk-toggleable__label-arrow:before {content: \"▾\";}#sk-container-id-1 div.sk-estimator input.sk-toggleable__control:checked~label.sk-toggleable__label {background-color: #d4ebff;}#sk-container-id-1 div.sk-label input.sk-toggleable__control:checked~label.sk-toggleable__label {background-color: #d4ebff;}#sk-container-id-1 input.sk-hidden--visually {border: 0;clip: rect(1px 1px 1px 1px);clip: rect(1px, 1px, 1px, 1px);height: 1px;margin: -1px;overflow: hidden;padding: 0;position: absolute;width: 1px;}#sk-container-id-1 div.sk-estimator {font-family: monospace;background-color: #f0f8ff;border: 1px dotted black;border-radius: 0.25em;box-sizing: border-box;margin-bottom: 0.5em;}#sk-container-id-1 div.sk-estimator:hover {background-color: #d4ebff;}#sk-container-id-1 div.sk-parallel-item::after {content: \"\";width: 100%;border-bottom: 1px solid gray;flex-grow: 1;}#sk-container-id-1 div.sk-label:hover label.sk-toggleable__label {background-color: #d4ebff;}#sk-container-id-1 div.sk-serial::before {content: \"\";position: absolute;border-left: 1px solid gray;box-sizing: border-box;top: 0;bottom: 0;left: 50%;z-index: 0;}#sk-container-id-1 div.sk-serial {display: flex;flex-direction: column;align-items: center;background-color: white;padding-right: 0.2em;padding-left: 0.2em;position: relative;}#sk-container-id-1 div.sk-item {position: relative;z-index: 1;}#sk-container-id-1 div.sk-parallel {display: flex;align-items: stretch;justify-content: center;background-color: white;position: relative;}#sk-container-id-1 div.sk-item::before, #sk-container-id-1 div.sk-parallel-item::before {content: \"\";position: absolute;border-left: 1px solid gray;box-sizing: border-box;top: 0;bottom: 0;left: 50%;z-index: -1;}#sk-container-id-1 div.sk-parallel-item {display: flex;flex-direction: column;z-index: 1;position: relative;background-color: white;}#sk-container-id-1 div.sk-parallel-item:first-child::after {align-self: flex-end;width: 50%;}#sk-container-id-1 div.sk-parallel-item:last-child::after {align-self: flex-start;width: 50%;}#sk-container-id-1 div.sk-parallel-item:only-child::after {width: 0;}#sk-container-id-1 div.sk-dashed-wrapped {border: 1px dashed gray;margin: 0 0.4em 0.5em 0.4em;box-sizing: border-box;padding-bottom: 0.4em;background-color: white;}#sk-container-id-1 div.sk-label label {font-family: monospace;font-weight: bold;display: inline-block;line-height: 1.2em;}#sk-container-id-1 div.sk-label-container {text-align: center;}#sk-container-id-1 div.sk-container {/* jupyter's `normalize.less` sets `[hidden] { display: none; }` but bootstrap.min.css set `[hidden] { display: none !important; }` so we also need the `!important` here to be able to override the default hidden behavior on the sphinx rendered scikit-learn.org. See: https://github.com/scikit-learn/scikit-learn/issues/21755 */display: inline-block !important;position: relative;}#sk-container-id-1 div.sk-text-repr-fallback {display: none;}</style><div id=\"sk-container-id-1\" class=\"sk-top-container\"><div class=\"sk-text-repr-fallback\"><pre>Pipeline(steps=[(&#x27;&#x27;,\n",
       "                 FunctionTransformer(func=&lt;function _custom_data_transform at 0x7fe1f6b328b0&gt;,\n",
       "                                     kw_args={&#x27;cols2keep&#x27;: [&#x27;bedrooms_per_room&#x27;,\n",
       "                                                            &#x27;total_rooms&#x27;,\n",
       "                                                            &#x27;housing_median_age&#x27;,\n",
       "                                                            &#x27;ocean_proximity_NEAR &#x27;\n",
       "                                                            &#x27;BAY&#x27;,\n",
       "                                                            &#x27;ocean_proximity_INLAND&#x27;,\n",
       "                                                            &#x27;rooms_per_household&#x27;,\n",
       "                                                            &#x27;ocean_proximity_ISLAND&#x27;,\n",
       "                                                            &#x27;median_income&#x27;,\n",
       "                                                            &#x27;population_per_household&#x27;,\n",
       "                                                            &#x27;ocean_proximity_NEAR &#x27;\n",
       "                                                            &#x27;OCEAN&#x27;]})),\n",
       "                (&#x27;estimator&#x27;, SKLStatsmodelOLS())])</pre><b>In a Jupyter environment, please rerun this cell to show the HTML representation or trust the notebook. <br />On GitHub, the HTML representation is unable to render, please try loading this page with nbviewer.org.</b></div><div class=\"sk-container\" hidden><div class=\"sk-item sk-dashed-wrapped\"><div class=\"sk-label-container\"><div class=\"sk-label sk-toggleable\"><input class=\"sk-toggleable__control sk-hidden--visually\" id=\"sk-estimator-id-1\" type=\"checkbox\" ><label for=\"sk-estimator-id-1\" class=\"sk-toggleable__label sk-toggleable__label-arrow\">Pipeline</label><div class=\"sk-toggleable__content\"><pre>Pipeline(steps=[(&#x27;&#x27;,\n",
       "                 FunctionTransformer(func=&lt;function _custom_data_transform at 0x7fe1f6b328b0&gt;,\n",
       "                                     kw_args={&#x27;cols2keep&#x27;: [&#x27;bedrooms_per_room&#x27;,\n",
       "                                                            &#x27;total_rooms&#x27;,\n",
       "                                                            &#x27;housing_median_age&#x27;,\n",
       "                                                            &#x27;ocean_proximity_NEAR &#x27;\n",
       "                                                            &#x27;BAY&#x27;,\n",
       "                                                            &#x27;ocean_proximity_INLAND&#x27;,\n",
       "                                                            &#x27;rooms_per_household&#x27;,\n",
       "                                                            &#x27;ocean_proximity_ISLAND&#x27;,\n",
       "                                                            &#x27;median_income&#x27;,\n",
       "                                                            &#x27;population_per_household&#x27;,\n",
       "                                                            &#x27;ocean_proximity_NEAR &#x27;\n",
       "                                                            &#x27;OCEAN&#x27;]})),\n",
       "                (&#x27;estimator&#x27;, SKLStatsmodelOLS())])</pre></div></div></div><div class=\"sk-serial\"><div class=\"sk-item\"><div class=\"sk-estimator sk-toggleable\"><input class=\"sk-toggleable__control sk-hidden--visually\" id=\"sk-estimator-id-2\" type=\"checkbox\" ><label for=\"sk-estimator-id-2\" class=\"sk-toggleable__label sk-toggleable__label-arrow\">FunctionTransformer</label><div class=\"sk-toggleable__content\"><pre>FunctionTransformer(func=&lt;function _custom_data_transform at 0x7fe1f6b328b0&gt;,\n",
       "                    kw_args={&#x27;cols2keep&#x27;: [&#x27;bedrooms_per_room&#x27;, &#x27;total_rooms&#x27;,\n",
       "                                           &#x27;housing_median_age&#x27;,\n",
       "                                           &#x27;ocean_proximity_NEAR BAY&#x27;,\n",
       "                                           &#x27;ocean_proximity_INLAND&#x27;,\n",
       "                                           &#x27;rooms_per_household&#x27;,\n",
       "                                           &#x27;ocean_proximity_ISLAND&#x27;,\n",
       "                                           &#x27;median_income&#x27;,\n",
       "                                           &#x27;population_per_household&#x27;,\n",
       "                                           &#x27;ocean_proximity_NEAR OCEAN&#x27;]})</pre></div></div></div><div class=\"sk-item\"><div class=\"sk-estimator sk-toggleable\"><input class=\"sk-toggleable__control sk-hidden--visually\" id=\"sk-estimator-id-3\" type=\"checkbox\" ><label for=\"sk-estimator-id-3\" class=\"sk-toggleable__label sk-toggleable__label-arrow\">SKLStatsmodelOLS</label><div class=\"sk-toggleable__content\"><pre>SKLStatsmodelOLS()</pre></div></div></div></div></div></div></div>"
      ],
      "text/plain": [
       "Pipeline(steps=[('',\n",
       "                 FunctionTransformer(func=<function _custom_data_transform at 0x7fe1f6b328b0>,\n",
       "                                     kw_args={'cols2keep': ['bedrooms_per_room',\n",
       "                                                            'total_rooms',\n",
       "                                                            'housing_median_age',\n",
       "                                                            'ocean_proximity_NEAR '\n",
       "                                                            'BAY',\n",
       "                                                            'ocean_proximity_INLAND',\n",
       "                                                            'rooms_per_household',\n",
       "                                                            'ocean_proximity_ISLAND',\n",
       "                                                            'median_income',\n",
       "                                                            'population_per_household',\n",
       "                                                            'ocean_proximity_NEAR '\n",
       "                                                            'OCEAN']})),\n",
       "                ('estimator', SKLStatsmodelOLS())])"
      ]
     },
     "execution_count": 43,
     "metadata": {},
     "output_type": "execute_result"
    }
   ],
   "source": [
    "reg_ppln_ols = Pipeline([\n",
    "    ('',FunctionTransformer(_custom_data_transform, kw_args={'cols2keep':reg_vars})),\n",
    "    ('estimator', SKLStatsmodelOLS())\n",
    "])\n",
    "reg_ppln_ols.fit(train_X, train_y.values.ravel())\n"
   ]
  },
  {
   "cell_type": "code",
   "execution_count": 44,
   "metadata": {},
   "outputs": [
    {
     "data": {
      "text/html": [
       "<table class=\"simpletable\">\n",
       "<caption>OLS Regression Results</caption>\n",
       "<tr>\n",
       "  <th>Dep. Variable:</th>            <td>y</td>        <th>  R-squared:         </th>  <td>   0.654</td>  \n",
       "</tr>\n",
       "<tr>\n",
       "  <th>Model:</th>                   <td>OLS</td>       <th>  Adj. R-squared:    </th>  <td>   0.653</td>  \n",
       "</tr>\n",
       "<tr>\n",
       "  <th>Method:</th>             <td>Least Squares</td>  <th>  F-statistic:       </th>  <td>   3113.</td>  \n",
       "</tr>\n",
       "<tr>\n",
       "  <th>Date:</th>             <td>Wed, 31 May 2023</td> <th>  Prob (F-statistic):</th>   <td>  0.00</td>   \n",
       "</tr>\n",
       "<tr>\n",
       "  <th>Time:</th>                 <td>13:20:04</td>     <th>  Log-Likelihood:    </th> <td>-2.0716e+05</td>\n",
       "</tr>\n",
       "<tr>\n",
       "  <th>No. Observations:</th>      <td> 16512</td>      <th>  AIC:               </th>  <td>4.143e+05</td> \n",
       "</tr>\n",
       "<tr>\n",
       "  <th>Df Residuals:</th>          <td> 16501</td>      <th>  BIC:               </th>  <td>4.144e+05</td> \n",
       "</tr>\n",
       "<tr>\n",
       "  <th>Df Model:</th>              <td>    10</td>      <th>                     </th>      <td> </td>     \n",
       "</tr>\n",
       "<tr>\n",
       "  <th>Covariance Type:</th>      <td>nonrobust</td>    <th>                     </th>      <td> </td>     \n",
       "</tr>\n",
       "</table>\n",
       "<table class=\"simpletable\">\n",
       "<tr>\n",
       "               <td></td>                 <th>coef</th>     <th>std err</th>      <th>t</th>      <th>P>|t|</th>  <th>[0.025</th>    <th>0.975]</th>  \n",
       "</tr>\n",
       "<tr>\n",
       "  <th>intercept</th>                  <td>-1.193e+05</td> <td> 7542.501</td> <td>  -15.814</td> <td> 0.000</td> <td>-1.34e+05</td> <td>-1.04e+05</td>\n",
       "</tr>\n",
       "<tr>\n",
       "  <th>bedrooms_per_room</th>          <td>  5.61e+05</td> <td> 1.77e+04</td> <td>   31.748</td> <td> 0.000</td> <td> 5.26e+05</td> <td> 5.96e+05</td>\n",
       "</tr>\n",
       "<tr>\n",
       "  <th>total_rooms</th>                <td>    3.8240</td> <td>    0.341</td> <td>   11.205</td> <td> 0.000</td> <td>    3.155</td> <td>    4.493</td>\n",
       "</tr>\n",
       "<tr>\n",
       "  <th>housing_median_age</th>         <td> 1419.0808</td> <td>   49.051</td> <td>   28.931</td> <td> 0.000</td> <td> 1322.935</td> <td> 1515.226</td>\n",
       "</tr>\n",
       "<tr>\n",
       "  <th>ocean_proximity_NEAR BAY</th>   <td> 5183.5303</td> <td> 1835.822</td> <td>    2.824</td> <td> 0.005</td> <td> 1585.122</td> <td> 8781.939</td>\n",
       "</tr>\n",
       "<tr>\n",
       "  <th>ocean_proximity_INLAND</th>     <td>-5.623e+04</td> <td> 1450.158</td> <td>  -38.777</td> <td> 0.000</td> <td>-5.91e+04</td> <td>-5.34e+04</td>\n",
       "</tr>\n",
       "<tr>\n",
       "  <th>rooms_per_household</th>        <td> 6045.3298</td> <td>  613.552</td> <td>    9.853</td> <td> 0.000</td> <td> 4842.702</td> <td> 7247.957</td>\n",
       "</tr>\n",
       "<tr>\n",
       "  <th>ocean_proximity_ISLAND</th>     <td> 1.371e+05</td> <td>  3.4e+04</td> <td>    4.028</td> <td> 0.000</td> <td> 7.04e+04</td> <td> 2.04e+05</td>\n",
       "</tr>\n",
       "<tr>\n",
       "  <th>median_income</th>              <td> 5.008e+04</td> <td>  482.173</td> <td>  103.853</td> <td> 0.000</td> <td> 4.91e+04</td> <td>  5.1e+04</td>\n",
       "</tr>\n",
       "<tr>\n",
       "  <th>population_per_household</th>   <td>-1.777e+04</td> <td>  557.210</td> <td>  -31.884</td> <td> 0.000</td> <td>-1.89e+04</td> <td>-1.67e+04</td>\n",
       "</tr>\n",
       "<tr>\n",
       "  <th>ocean_proximity_NEAR OCEAN</th> <td> 1.474e+04</td> <td> 1688.051</td> <td>    8.734</td> <td> 0.000</td> <td> 1.14e+04</td> <td> 1.81e+04</td>\n",
       "</tr>\n",
       "</table>\n",
       "<table class=\"simpletable\">\n",
       "<tr>\n",
       "  <th>Omnibus:</th>       <td>4380.411</td> <th>  Durbin-Watson:     </th> <td>   1.973</td> \n",
       "</tr>\n",
       "<tr>\n",
       "  <th>Prob(Omnibus):</th>  <td> 0.000</td>  <th>  Jarque-Bera (JB):  </th> <td>16160.917</td>\n",
       "</tr>\n",
       "<tr>\n",
       "  <th>Skew:</th>           <td> 1.296</td>  <th>  Prob(JB):          </th> <td>    0.00</td> \n",
       "</tr>\n",
       "<tr>\n",
       "  <th>Kurtosis:</th>       <td> 7.095</td>  <th>  Cond. No.          </th> <td>1.99e+05</td> \n",
       "</tr>\n",
       "</table><br/><br/>Notes:<br/>[1] Standard Errors assume that the covariance matrix of the errors is correctly specified.<br/>[2] The condition number is large, 1.99e+05. This might indicate that there are<br/>strong multicollinearity or other numerical problems."
      ],
      "text/plain": [
       "<class 'statsmodels.iolib.summary.Summary'>\n",
       "\"\"\"\n",
       "                            OLS Regression Results                            \n",
       "==============================================================================\n",
       "Dep. Variable:                      y   R-squared:                       0.654\n",
       "Model:                            OLS   Adj. R-squared:                  0.653\n",
       "Method:                 Least Squares   F-statistic:                     3113.\n",
       "Date:                Wed, 31 May 2023   Prob (F-statistic):               0.00\n",
       "Time:                        13:20:04   Log-Likelihood:            -2.0716e+05\n",
       "No. Observations:               16512   AIC:                         4.143e+05\n",
       "Df Residuals:                   16501   BIC:                         4.144e+05\n",
       "Df Model:                          10                                         \n",
       "Covariance Type:            nonrobust                                         \n",
       "==============================================================================================\n",
       "                                 coef    std err          t      P>|t|      [0.025      0.975]\n",
       "----------------------------------------------------------------------------------------------\n",
       "intercept                  -1.193e+05   7542.501    -15.814      0.000   -1.34e+05   -1.04e+05\n",
       "bedrooms_per_room            5.61e+05   1.77e+04     31.748      0.000    5.26e+05    5.96e+05\n",
       "total_rooms                    3.8240      0.341     11.205      0.000       3.155       4.493\n",
       "housing_median_age          1419.0808     49.051     28.931      0.000    1322.935    1515.226\n",
       "ocean_proximity_NEAR BAY    5183.5303   1835.822      2.824      0.005    1585.122    8781.939\n",
       "ocean_proximity_INLAND     -5.623e+04   1450.158    -38.777      0.000   -5.91e+04   -5.34e+04\n",
       "rooms_per_household         6045.3298    613.552      9.853      0.000    4842.702    7247.957\n",
       "ocean_proximity_ISLAND      1.371e+05    3.4e+04      4.028      0.000    7.04e+04    2.04e+05\n",
       "median_income               5.008e+04    482.173    103.853      0.000    4.91e+04     5.1e+04\n",
       "population_per_household   -1.777e+04    557.210    -31.884      0.000   -1.89e+04   -1.67e+04\n",
       "ocean_proximity_NEAR OCEAN  1.474e+04   1688.051      8.734      0.000    1.14e+04    1.81e+04\n",
       "==============================================================================\n",
       "Omnibus:                     4380.411   Durbin-Watson:                   1.973\n",
       "Prob(Omnibus):                  0.000   Jarque-Bera (JB):            16160.917\n",
       "Skew:                           1.296   Prob(JB):                         0.00\n",
       "Kurtosis:                       7.095   Cond. No.                     1.99e+05\n",
       "==============================================================================\n",
       "\n",
       "Notes:\n",
       "[1] Standard Errors assume that the covariance matrix of the errors is correctly specified.\n",
       "[2] The condition number is large, 1.99e+05. This might indicate that there are\n",
       "strong multicollinearity or other numerical problems.\n",
       "\"\"\""
      ]
     },
     "execution_count": 44,
     "metadata": {},
     "output_type": "execute_result"
    }
   ],
   "source": [
    "reg_ppln_ols['estimator'].summary()"
   ]
  },
  {
   "cell_type": "markdown",
   "metadata": {},
   "source": [
    "### 4.1.5 Model Evaluation(Linear Model)\n",
    "\n",
    "This will be part of the production code."
   ]
  },
  {
   "cell_type": "code",
   "execution_count": 45,
   "metadata": {},
   "outputs": [],
   "source": [
    "reg_ppln = Pipeline([\n",
    "    ('', FunctionTransformer(_custom_data_transform, kw_args={'cols2keep':reg_vars})),\n",
    "    ('Linear Regression', SKLStatsmodelOLS())\n",
    "])\n",
    "\n",
    "test_X = get_dataframe(\n",
    "    features_transformer.transform(test_X), \n",
    "    get_feature_names_from_column_transformer(features_transformer)\n",
    ")\n",
    "test_X = test_X[curated_columns]"
   ]
  },
  {
   "cell_type": "code",
   "execution_count": 46,
   "metadata": {},
   "outputs": [],
   "source": [
    "reg_linear_report = RegressionReport(model=reg_ppln, x_train=train_X, y_train=train_y, x_test= test_X, y_test= test_y, refit=True)\n",
    "reg_linear_report.get_report(include_shap=True, file_path='regression_linear_model_report')"
   ]
  },
  {
   "cell_type": "markdown",
   "metadata": {},
   "source": [
    "**Dev Notes**\n",
    "Use SHAP for variable interpretability.\n",
    "<details>\n",
    "\n",
    "    1. Use SHAP=True to generate variable interpretability plots in the report\n",
    "    2. SHAP is recommended for non parameteric models such as RF, xgboost.\n",
    "    3. However, SHAP reports are time consuming depending on no.of records and model complexity.\n",
    "    \n",
    "A sample of regerssion report with SHAP can be found [here](https://drive.google.com/file/d/18RlQTsT1ze09Cgz-qpb4ha_cvyWbN5F5/view?usp=sharing).\n",
    "</details>"
   ]
  },
  {
   "cell_type": "markdown",
   "metadata": {},
   "source": [
    "### 4.1.6 Residual Analysis\n",
    "- After scoring the model, it is recommended to do a residual analysis to know the distribution of errors\n",
    "- we took a threshold of 30% above which it is marked as over prediction or underprediction\n",
    "- This will not be part of the production code."
   ]
  },
  {
   "cell_type": "code",
   "execution_count": 47,
   "metadata": {},
   "outputs": [],
   "source": [
    "threshold=0.3\n",
    "residual_analysis = test_X.copy()\n",
    "residual_analysis['prediction'] = reg_ppln_ols.predict(test_X)\n",
    "residual_analysis['actuals'] = test_y.reset_index(drop = True).iloc[:,0].values\n",
    "residual_analysis['forecast_flag'] = 'good'\n",
    "residual_analysis.loc[((residual_analysis['prediction'] > (1+threshold) * residual_analysis['actuals'])\\\n",
    "                       & (residual_analysis['actuals']>100)),'forecast_flag'] = 'over predict'\n",
    "residual_analysis.loc[((residual_analysis['prediction'] < (1-threshold) * residual_analysis['actuals'])\\\n",
    "                       & (residual_analysis['actuals']>100)),'forecast_flag'] = 'under predict'"
   ]
  },
  {
   "cell_type": "code",
   "execution_count": 48,
   "metadata": {},
   "outputs": [
    {
     "data": {},
     "metadata": {},
     "output_type": "display_data"
    },
    {
     "data": {
      "application/vnd.holoviews_exec.v0+json": "",
      "text/html": [
       "<div id='57572'>\n",
       "  <div class=\"bk-root\" id=\"7e9e11cf-1246-4b3c-9ad7-9522a4905a4e\" data-root-id=\"57572\"></div>\n",
       "</div>\n",
       "<script type=\"application/javascript\">(function(root) {\n",
       "  function embed_document(root) {\n",
       "    var docs_json = {\"726acd89-783b-4fe1-9135-59d252299eea\":{\"defs\":[{\"extends\":null,\"module\":null,\"name\":\"ReactiveHTML1\",\"overrides\":[],\"properties\":[]},{\"extends\":null,\"module\":null,\"name\":\"FlexBox1\",\"overrides\":[],\"properties\":[{\"default\":\"flex-start\",\"kind\":null,\"name\":\"align_content\"},{\"default\":\"flex-start\",\"kind\":null,\"name\":\"align_items\"},{\"default\":\"row\",\"kind\":null,\"name\":\"flex_direction\"},{\"default\":\"wrap\",\"kind\":null,\"name\":\"flex_wrap\"},{\"default\":\"flex-start\",\"kind\":null,\"name\":\"justify_content\"}]},{\"extends\":null,\"module\":null,\"name\":\"GridStack1\",\"overrides\":[],\"properties\":[{\"default\":\"warn\",\"kind\":null,\"name\":\"mode\"},{\"default\":null,\"kind\":null,\"name\":\"ncols\"},{\"default\":null,\"kind\":null,\"name\":\"nrows\"},{\"default\":true,\"kind\":null,\"name\":\"allow_resize\"},{\"default\":true,\"kind\":null,\"name\":\"allow_drag\"},{\"default\":[],\"kind\":null,\"name\":\"state\"}]},{\"extends\":null,\"module\":null,\"name\":\"click1\",\"overrides\":[],\"properties\":[{\"default\":\"\",\"kind\":null,\"name\":\"terminal_output\"},{\"default\":\"\",\"kind\":null,\"name\":\"debug_name\"},{\"default\":0,\"kind\":null,\"name\":\"clears\"}]},{\"extends\":null,\"module\":null,\"name\":\"NotificationAreaBase1\",\"overrides\":[],\"properties\":[{\"default\":\"bottom-right\",\"kind\":null,\"name\":\"position\"},{\"default\":0,\"kind\":null,\"name\":\"_clear\"}]},{\"extends\":null,\"module\":null,\"name\":\"NotificationArea1\",\"overrides\":[],\"properties\":[{\"default\":[],\"kind\":null,\"name\":\"notifications\"},{\"default\":\"bottom-right\",\"kind\":null,\"name\":\"position\"},{\"default\":0,\"kind\":null,\"name\":\"_clear\"},{\"default\":[{\"background\":\"#ffc107\",\"icon\":{\"className\":\"fas fa-exclamation-triangle\",\"color\":\"white\",\"tagName\":\"i\"},\"type\":\"warning\"},{\"background\":\"#007bff\",\"icon\":{\"className\":\"fas fa-info-circle\",\"color\":\"white\",\"tagName\":\"i\"},\"type\":\"info\"}],\"kind\":null,\"name\":\"types\"}]},{\"extends\":null,\"module\":null,\"name\":\"Notification\",\"overrides\":[],\"properties\":[{\"default\":null,\"kind\":null,\"name\":\"background\"},{\"default\":3000,\"kind\":null,\"name\":\"duration\"},{\"default\":null,\"kind\":null,\"name\":\"icon\"},{\"default\":\"\",\"kind\":null,\"name\":\"message\"},{\"default\":null,\"kind\":null,\"name\":\"notification_type\"},{\"default\":false,\"kind\":null,\"name\":\"_destroyed\"}]},{\"extends\":null,\"module\":null,\"name\":\"TemplateActions1\",\"overrides\":[],\"properties\":[{\"default\":0,\"kind\":null,\"name\":\"open_modal\"},{\"default\":0,\"kind\":null,\"name\":\"close_modal\"}]},{\"extends\":null,\"module\":null,\"name\":\"MaterialTemplateActions1\",\"overrides\":[],\"properties\":[{\"default\":0,\"kind\":null,\"name\":\"open_modal\"},{\"default\":0,\"kind\":null,\"name\":\"close_modal\"}]}],\"roots\":{\"references\":[{\"attributes\":{\"fill_alpha\":0.2,\"fill_color\":\"#30a2da\",\"hatch_alpha\":0.2,\"hatch_color\":\"#30a2da\",\"line_alpha\":0.2,\"x\":{\"field\":\"x\"},\"y\":{\"field\":\"y\"}},\"id\":\"57620\",\"type\":\"Patch\"},{\"attributes\":{\"below\":[{\"id\":\"57588\"}],\"center\":[{\"id\":\"57591\"},{\"id\":\"57595\"},{\"id\":\"57633\"}],\"height\":400,\"left\":[{\"id\":\"57592\"}],\"margin\":[5,5,5,5],\"min_border_bottom\":10,\"min_border_left\":10,\"min_border_right\":10,\"min_border_top\":10,\"renderers\":[{\"id\":\"57621\"},{\"id\":\"57642\"},{\"id\":\"57664\"}],\"sizing_mode\":\"fixed\",\"title\":{\"id\":\"57580\"},\"toolbar\":{\"id\":\"57602\"},\"width\":800,\"x_range\":{\"id\":\"57574\"},\"x_scale\":{\"id\":\"57584\"},\"y_range\":{\"id\":\"57575\"},\"y_scale\":{\"id\":\"57586\"}},\"id\":\"57579\",\"subtype\":\"Figure\",\"type\":\"Plot\"},{\"attributes\":{\"data\":{\"x\":{\"__ndarray__\":\"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\",\"dtype\":\"float64\",\"order\":\"little\",\"shape\":[200]},\"y\":{\"__ndarray__\":\"AAAAAAAAAAAAAAAAAAAAAAAAAAAAAAAAAAAAAAAAAAAAAAAAAAAAAAAAAAAAAAAAAAAAAAAAAAAAAAAAAAAAAAAAAAAAAAAAAAAAAAAAAAAAAAAAAAAAAAAAAAAAAAAAAAAAAAAAAAAAAAAAAAAAAAAAAAAAAAAAAAAAAAAAAAAAAAAAAAAAAAAAAAAAAAAAAAAAAAAAAAAAAAAAAAAAAAAAAAAAAAAAAAAAAAAAAAAAAAAAAAAAAAAAAAAAAAAAAAAAAAAAAAAAAAAAAAAAAAAAAAAAAAAAAAAAAAAAAAAAAAAAAAAAAAAAAAAAAAAAAAAAAAAAAAAAAAAAAAAAAAAAAAAAAAAAAAAAAAAAAAAAAAAAAAAAAAAAAAAAAAAAAAAAAAAAAAAAAAAAAAAAAAAAAAAAAAAAAAAAAAAAAAAAAAAAAAAAAAAAAAAAAAAAAAAAAAAAAAAAAAAAAAAAAAAAAAAAAAAAAAAAAAAAAAAAAAAAAAAAAAAAAAAAAAAAAAAAAAAAAAAAAAAAAAAAAAAAAAAAAAAAAAAAAAAAAAAAAAAAAAAAAAAAAAAAAAAAAAAAAAAAAAAAAAAAAAAAAAAAAAAAAAAAAAAAAAAAAAAAAAAAAAAAAAAAAAAAAAAAAAAAAAAAAAAAAAAAAAAAAAAAAAAAAAAAAAAAAAAAAAAAAAAAAAAAAAAAAAAAAAAAAAAAAAAAAAAAAAAAAAAAAAAAAAAAAAAAAAAAAAAAAAAAAAAAAAAAAAAAAAAAAAAAAAAAAAAAAAAAAAAAAAAAAAAAAAAAAAAAAAAAAAAAAAAAAAAAAAAAAAAAAAAAAAAAAAAAAAAAAAAAAAAAAAAAAAAAAAAAAAAAAAAAAAAAAAAAAAAAAAAAAAAAAAAAAAAAAAAAAAAAAAAAAAAAAAAAAAAAAAAAAAAAAAAAAAAAAAAAAAAAAAAAAAAAAAAAAAAAAAAAAAAAAAAAAAAAAAAAAAAAAAAAAAAAAAAAAAAAAAAAAAAAAAAAAAAAAAAAAAAAAAAAAAAAAAAAAAAAAAAAAAAAAAAAAAAAAAAAAAAAAABiuLaXr7AxPiG8dWAg1Ec+/MAk6B9hXD5NDwHGaeJtPmF2k7UF03s+m8r8Q9Tnhj4epFnrHKyQPm9UPQSddZU+3x0Q7vtrmD5/O5R875KYPrDEBB/v3JU+k3afqrwykT7rhUv8Y+yHPkJ8qoSGbH0+xTSKwVv/bz5V8rCNDsRePlTwRXrAJ0o+ffpu1QGpMz6jayWs/SEaPi/2pOlnt/49X8l/AJgA4D04T2KZADK/PS18wxrbG609kLtOXff8wT2oIGRwlF3fPcrmFqhC2/g9YZq/vFRxET6AKONeIqglPvoogX8OzDc+qG3qlIspRz7VUuqJuwBUPhgFsA17wF4+QzHgOMwqZT6nUEEl6WBqPp8DYMy9T24+rgLNCuuAcD74xMoqV5VxPqEFpdrtxXI+6KcGaHsrdD7ErjpH4ZB1Pkhw9wy2vnY+Zx+18kLRdz6Gz7D1wUZ5PpXkwfblu3s+Yy8N/8uffz5m4m2o8peCPjp/4yBtX4Y+qI8HcHl8iz4P/brWxzaRPp2xKiew15U+0BD5lJfGmz7tNEVTIoKhPvv7ZC9luaU+LZo0abZ5qj5BHONHaM6vPm8JBGdQ/LI+gkjxFTi4tj65/nDJE1y7PkhlU/sLhMA+MloVOlbPwz6Jl1Hqr2THPhyt84JBEMs+0GtDZc+szj4oD1a/lxbRPjkBryBVydI+AM+9m4dt1D7iZJHhQvvVPnJcxjFJZtc+d9/0ptel2D7NxApOdLzZPtTW6arduto+78jZyWK72z4/FM66LNbcPprpOQWLEt4+cSqC8mZb3z4bpSOCZz7gPnTXqWIml+A+OC0MX2mU4D6BT0Sd7B/gPsWsuXClcN4+Wpac9Bjf2z6UYMcBocPYPrv095yhV9U+BimTGR3M0T7653igXJfMPvQIyL5j/8U+J6Rc/VsgwD75fNwB1nO2PpIjtAyaqq0+3LAlKLSloj7LtXVusWqWPl9YD5SN6ok+RMg9qErpfD7hWLMCphFvPk/cbi6h618+irXOjHr8Tj5MIQLf5ws8Pipd+JlvYSc+aOnp4wrFET5szsDtxG74PQ==\",\"dtype\":\"float64\",\"order\":\"little\",\"shape\":[200]}},\"selected\":{\"id\":\"57659\"},\"selection_policy\":{\"id\":\"57677\"}},\"id\":\"57658\",\"type\":\"ColumnDataSource\"},{\"attributes\":{\"click_policy\":\"mute\",\"coordinates\":null,\"group\":null,\"items\":[{\"id\":\"57634\"},{\"id\":\"57656\"},{\"id\":\"57680\"}],\"title\":\"forecast_flag\"},\"id\":\"57633\",\"type\":\"Legend\"},{\"attributes\":{\"callback\":null,\"renderers\":[{\"id\":\"57621\"},{\"id\":\"57642\"},{\"id\":\"57664\"}],\"tags\":[\"hv_created\"],\"tooltips\":[[\"forecast_flag\",\"@{forecast_flag}\"],[\"actuals\",\"@{actuals}\"],[\"Density\",\"@{actuals_density}\"]]},\"id\":\"57576\",\"type\":\"HoverTool\"},{\"attributes\":{\"fill_alpha\":0.5,\"fill_color\":\"#fc4f30\",\"hatch_alpha\":0.7,\"hatch_color\":\"#fc4f30\",\"line_alpha\":0.7,\"x\":{\"field\":\"x\"},\"y\":{\"field\":\"y\"}},\"id\":\"57639\",\"type\":\"Patch\"},{\"attributes\":{},\"id\":\"57611\",\"type\":\"AllLabels\"},{\"attributes\":{\"fill_alpha\":0.5,\"fill_color\":\"#30a2da\",\"hatch_alpha\":0.1,\"hatch_color\":\"#30a2da\",\"line_alpha\":0.7,\"x\":{\"field\":\"x\"},\"y\":{\"field\":\"y\"}},\"id\":\"57619\",\"type\":\"Patch\"},{\"attributes\":{\"label\":{\"value\":\"under predict\"},\"renderers\":[{\"id\":\"57642\"}]},\"id\":\"57656\",\"type\":\"LegendItem\"},{\"attributes\":{},\"id\":\"57597\",\"type\":\"PanTool\"},{\"attributes\":{\"bottom_units\":\"screen\",\"coordinates\":null,\"fill_alpha\":0.5,\"fill_color\":\"lightgrey\",\"group\":null,\"left_units\":\"screen\",\"level\":\"overlay\",\"line_alpha\":1.0,\"line_color\":\"black\",\"line_dash\":[4,4],\"line_width\":2,\"right_units\":\"screen\",\"syncable\":false,\"top_units\":\"screen\"},\"id\":\"57601\",\"type\":\"BoxAnnotation\"},{\"attributes\":{},\"id\":\"57586\",\"type\":\"LinearScale\"},{\"attributes\":{\"source\":{\"id\":\"57636\"}},\"id\":\"57643\",\"type\":\"CDSView\"},{\"attributes\":{\"fill_alpha\":0.5,\"fill_color\":\"#fc4f30\",\"hatch_alpha\":0.7,\"hatch_color\":\"#fc4f30\",\"line_alpha\":0.7,\"x\":{\"field\":\"x\"},\"y\":{\"field\":\"y\"}},\"id\":\"57657\",\"type\":\"Patch\"},{\"attributes\":{\"axis_label\":\"house_price\",\"coordinates\":null,\"formatter\":{\"id\":\"57610\"},\"group\":null,\"major_label_policy\":{\"id\":\"57611\"},\"ticker\":{\"id\":\"57589\"}},\"id\":\"57588\",\"type\":\"LinearAxis\"},{\"attributes\":{\"axis\":{\"id\":\"57592\"},\"coordinates\":null,\"dimension\":1,\"grid_line_color\":null,\"group\":null,\"ticker\":null},\"id\":\"57595\",\"type\":\"Grid\"},{\"attributes\":{\"fill_alpha\":0.5,\"fill_color\":\"#fc4f30\",\"hatch_alpha\":0.1,\"hatch_color\":\"#fc4f30\",\"line_alpha\":0.7,\"x\":{\"field\":\"x\"},\"y\":{\"field\":\"y\"}},\"id\":\"57640\",\"type\":\"Patch\"},{\"attributes\":{\"coordinates\":null,\"group\":null,\"text\":\"house price(density)\",\"text_color\":\"black\",\"text_font_size\":\"12pt\"},\"id\":\"57580\",\"type\":\"Title\"},{\"attributes\":{},\"id\":\"57659\",\"type\":\"Selection\"},{\"attributes\":{},\"id\":\"57637\",\"type\":\"Selection\"},{\"attributes\":{\"coordinates\":null,\"data_source\":{\"id\":\"57636\"},\"glyph\":{\"id\":\"57639\"},\"group\":null,\"hover_glyph\":null,\"muted_glyph\":{\"id\":\"57641\"},\"nonselection_glyph\":{\"id\":\"57640\"},\"selection_glyph\":{\"id\":\"57657\"},\"view\":{\"id\":\"57643\"}},\"id\":\"57642\",\"type\":\"GlyphRenderer\"},{\"attributes\":{\"tools\":[{\"id\":\"57576\"},{\"id\":\"57596\"},{\"id\":\"57597\"},{\"id\":\"57598\"},{\"id\":\"57599\"},{\"id\":\"57600\"}]},\"id\":\"57602\",\"type\":\"Toolbar\"},{\"attributes\":{},\"id\":\"57589\",\"type\":\"BasicTicker\"},{\"attributes\":{\"axis\":{\"id\":\"57588\"},\"coordinates\":null,\"grid_line_color\":null,\"group\":null,\"ticker\":null},\"id\":\"57591\",\"type\":\"Grid\"},{\"attributes\":{\"fill_alpha\":0.5,\"fill_color\":\"#30a2da\",\"hatch_alpha\":0.7,\"hatch_color\":\"#30a2da\",\"line_alpha\":0.7,\"x\":{\"field\":\"x\"},\"y\":{\"field\":\"y\"}},\"id\":\"57635\",\"type\":\"Patch\"},{\"attributes\":{\"fill_alpha\":0.2,\"fill_color\":\"#fc4f30\",\"hatch_alpha\":0.2,\"hatch_color\":\"#fc4f30\",\"line_alpha\":0.2,\"x\":{\"field\":\"x\"},\"y\":{\"field\":\"y\"}},\"id\":\"57641\",\"type\":\"Patch\"},{\"attributes\":{},\"id\":\"57677\",\"type\":\"UnionRenderers\"},{\"attributes\":{},\"id\":\"57593\",\"type\":\"BasicTicker\"},{\"attributes\":{\"axis_label\":\"density\",\"coordinates\":null,\"formatter\":{\"id\":\"57613\"},\"group\":null,\"major_label_policy\":{\"id\":\"57614\"},\"ticker\":{\"id\":\"57593\"}},\"id\":\"57592\",\"type\":\"LinearAxis\"},{\"attributes\":{\"fill_alpha\":0.5,\"fill_color\":\"#e5ae38\",\"hatch_alpha\":0.7,\"hatch_color\":\"#e5ae38\",\"line_alpha\":0.7,\"x\":{\"field\":\"x\"},\"y\":{\"field\":\"y\"}},\"id\":\"57681\",\"type\":\"Patch\"},{\"attributes\":{},\"id\":\"57613\",\"type\":\"BasicTickFormatter\"},{\"attributes\":{\"label\":{\"value\":\"over predict\"},\"renderers\":[{\"id\":\"57664\"}]},\"id\":\"57680\",\"type\":\"LegendItem\"},{\"attributes\":{\"source\":{\"id\":\"57658\"}},\"id\":\"57665\",\"type\":\"CDSView\"},{\"attributes\":{},\"id\":\"57598\",\"type\":\"WheelZoomTool\"},{\"attributes\":{\"end\":632539.5518562256,\"reset_end\":632539.5518562256,\"reset_start\":-90838.55185622556,\"start\":-90838.55185622556,\"tags\":[[[\"actuals\",\"actuals\",null]]]},\"id\":\"57574\",\"type\":\"Range1d\"},{\"attributes\":{},\"id\":\"57596\",\"type\":\"SaveTool\"},{\"attributes\":{\"fill_alpha\":0.5,\"fill_color\":\"#e5ae38\",\"hatch_alpha\":0.1,\"hatch_color\":\"#e5ae38\",\"line_alpha\":0.7,\"x\":{\"field\":\"x\"},\"y\":{\"field\":\"y\"}},\"id\":\"57662\",\"type\":\"Patch\"},{\"attributes\":{},\"id\":\"57614\",\"type\":\"AllLabels\"},{\"attributes\":{},\"id\":\"57610\",\"type\":\"BasicTickFormatter\"},{\"attributes\":{\"coordinates\":null,\"data_source\":{\"id\":\"57658\"},\"glyph\":{\"id\":\"57661\"},\"group\":null,\"hover_glyph\":null,\"muted_glyph\":{\"id\":\"57663\"},\"nonselection_glyph\":{\"id\":\"57662\"},\"selection_glyph\":{\"id\":\"57681\"},\"view\":{\"id\":\"57665\"}},\"id\":\"57664\",\"type\":\"GlyphRenderer\"},{\"attributes\":{\"margin\":[5,5,5,5],\"name\":\"HSpacer134077\",\"sizing_mode\":\"stretch_width\"},\"id\":\"57573\",\"type\":\"Spacer\"},{\"attributes\":{\"overlay\":{\"id\":\"57601\"}},\"id\":\"57599\",\"type\":\"BoxZoomTool\"},{\"attributes\":{\"fill_alpha\":0.5,\"fill_color\":\"#e5ae38\",\"hatch_alpha\":0.7,\"hatch_color\":\"#e5ae38\",\"line_alpha\":0.7,\"x\":{\"field\":\"x\"},\"y\":{\"field\":\"y\"}},\"id\":\"57661\",\"type\":\"Patch\"},{\"attributes\":{},\"id\":\"57600\",\"type\":\"ResetTool\"},{\"attributes\":{\"fill_alpha\":0.2,\"fill_color\":\"#e5ae38\",\"hatch_alpha\":0.2,\"hatch_color\":\"#e5ae38\",\"line_alpha\":0.2,\"x\":{\"field\":\"x\"},\"y\":{\"field\":\"y\"}},\"id\":\"57663\",\"type\":\"Patch\"},{\"attributes\":{},\"id\":\"57653\",\"type\":\"UnionRenderers\"},{\"attributes\":{\"data\":{\"x\":{\"__ndarray__\":\"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\",\"dtype\":\"float64\",\"order\":\"little\",\"shape\":[200]},\"y\":{\"__ndarray__\":\"AAAAAAAAAAAAAAAAAAAAAAAAAAAAAAAAAAAAAAAAAAAAAAAAAAAAAAAAAAAAAAAAAAAAAAAAAAAAAAAAAAAAAAAAAAAAAAAAAAAAAAAAAAAAAAAAAAAAAAAAAAAAAAAAAAAAAAAAAAAAAAAAAAAAAAAAAAAAAAAAAAAAAAAAAAAAAAAAAAAAAAAAAAAAAAAAAAAAAAAAAAAAAAAAAAAAAAAAAAAAAAAAAAAAAAAAAAAAAAAAAAAAAAAAAAAAAAAAAAAAAAAAAAAAAAAAAAAAAAAAAAAAAAAAAAAAAAAAAAAAAAAAAAAAAAAAAAAAAAAAAAAAAAAAAAAAAAAAAAAAAAAAAAAAAAAAAAAAAAAAAAAAAAAAAAAAAAAAAAAAAAAAAAAAAAAAAAAAAAAAAAAAAAAAAAAAAAAAAAAAAAAAAAAAAAAAAAAAAAAAAAAAAAAAAAAAAAAAAAAAAAAAAAAAAAAAAAAAAAAAAAAAAAAAAAAAAAAAAAAAAAAAAAAAAAAAAAAAAAAAAAAAAAAAAAAAAAAAAAAAAAAAAAAAAAAAAAAAAAAAAAAAAAAAAAAAAAAAAAAAAAAAAAAAAAAAAAAAAAAAAAAAAAAAAAAAAAAAAAAAAAAAAAAAAAAAAAAAAAAAAAAAAAAAAAAAAAAAAAAAAAAAAAAAAAAAAAAAAAAAAAAAAAAAAAAAAAAAAAAAAAAAAAAAAAAAAAAAAAAAAAAAAAAAAAAAAAAAAAAAAAAAAAAAAAAAAAAAAAAAAAAAAAAAAAAAAAAAAAAAAAAAAAAAAAAAAAAAAAAAAAAAAAAAAAAAAAAAAAAAAAAAAAAAAAAAAAAAAAAAAAAAAAAAAAAAAAAAAAAAAAAAAAAAAAAAAAAAAAAAAAAAAAAAAAAAAAAAAAAAAAAAAAAAAAAAAAAAAAAAAAAAAAAAAAAAAAAAAAAAAAAAAAAAAAAAAAAAAAAAAAAAAAAAAAAAAAAAAAAAAAAAAAAAAAAAAAAAAAAAAAAAAAAAAAAAAAAAAAAAAAAAAAAAAAAAAAAAAAAAAAAAAAAAAAAAAAAAAAAAAAAAAAB8ryEBZ/pAPrFpiO26alI+MbCtYNyXYj5m+KceJnlxPjWDlnHOk34+4ASas+XqiD5akFsBT+uSPgKX+eS6yJo+jw1AecWwoT7RZZje/tSlPmfFlU3YN6k+cZSsFkpXqz5XuvA17PCrPtZCYuHlFqs+fl3aqd0nqT466BqV6q2mPozTwq+iM6Q+Kq/FFAIhoj7SNRjgkaugPpn1aEaJtZ8+HEk7kTcynz4zSY4cwI+fPkywcbOgTaA+LwWWK3AcoT6Gv/1wBzGiPsWsKu4YjqM+Eed9rio3pT64SqgQHy2nPgUX2asMbak+p3ybDcvwqz5t475d+q+uPn8pfXQu0LA+ROyn44Basj4jewjEWe6zPrPa+F9zgLU+XoUAz0gDtz4uL8hQ4Wi4PqR/sjfgpbk+skZQXzu1uj5zBt89pZu7Psp23WWSabw+G3ncPcU6vT5LioA3lDK+PtSLaCzrdL8+Sv8h8K+OwD5MF43mipvBPuS7rihZ3MI+ND8oT0VDxD55nRdYU73FPma4maKzN8c+t+Yh4BqkyD7y7tSZUvrJPqhCgJi3Nss+Jfk9UwpXzD7ne5tM1VfNPuL4LAsyNM4+GV5CxB3ozj7UnQrMynPPPsIkQlOH3c8+6d5DwkIY0D4FTKfoVzzQPvZNH0nIXtA+7EPpIXh/0D4WFNi3YJrQPg9n2+4AqdA+PIfoh2Ok0D6czHCT0IbQPrWFkkbNTNA+C/HpzD7rzz726b8+SQfPPthmdsnk+M0+s82UMqHQzD4fAg/mWaHLPlpCEfhge8o+VJPa/ZhnyT74vC/KumTIPmNJsIhHaMc+F6sPh+5ixj4TDlQUcEbFPmPF+WBJCsQ+/TE+LS+twj64f5vuKzPBPufT0eUcRL8+lSX4kzz9uz5mFao0mpi4PgsdxZivHrU+feYOOk6fsT691jAwEmmsPsgRSlSCAKY+nRZs/hJKoD5mj0bFmfaWPtgkZAU4t44+1E/VLYdwgz5Ew5g5NDx3Poez3vAOLmo+HmSI877EWz5IXKor87FLPrKZlP2Y8jk+JJX5b1nRJj4zLCddydESPg==\",\"dtype\":\"float64\",\"order\":\"little\",\"shape\":[200]}},\"selected\":{\"id\":\"57616\"},\"selection_policy\":{\"id\":\"57630\"}},\"id\":\"57615\",\"type\":\"ColumnDataSource\"},{\"attributes\":{\"children\":[{\"id\":\"57573\"},{\"id\":\"57579\"},{\"id\":\"57794\"}],\"margin\":[0,0,0,0],\"name\":\"Row134073\",\"tags\":[\"embedded\"]},\"id\":\"57572\",\"type\":\"Row\"},{\"attributes\":{},\"id\":\"57630\",\"type\":\"UnionRenderers\"},{\"attributes\":{\"end\":8.702025239577124e-06,\"reset_end\":8.702025239577124e-06,\"reset_start\":0.0,\"tags\":[[[\"actuals_density\",\"Density\",null]]]},\"id\":\"57575\",\"type\":\"Range1d\"},{\"attributes\":{\"margin\":[5,5,5,5],\"name\":\"HSpacer134078\",\"sizing_mode\":\"stretch_width\"},\"id\":\"57794\",\"type\":\"Spacer\"},{\"attributes\":{\"label\":{\"value\":\"good\"},\"renderers\":[{\"id\":\"57621\"}]},\"id\":\"57634\",\"type\":\"LegendItem\"},{\"attributes\":{\"coordinates\":null,\"data_source\":{\"id\":\"57615\"},\"glyph\":{\"id\":\"57618\"},\"group\":null,\"hover_glyph\":null,\"muted_glyph\":{\"id\":\"57620\"},\"nonselection_glyph\":{\"id\":\"57619\"},\"selection_glyph\":{\"id\":\"57635\"},\"view\":{\"id\":\"57622\"}},\"id\":\"57621\",\"type\":\"GlyphRenderer\"},{\"attributes\":{\"fill_alpha\":0.5,\"fill_color\":\"#30a2da\",\"hatch_alpha\":0.7,\"hatch_color\":\"#30a2da\",\"line_alpha\":0.7,\"x\":{\"field\":\"x\"},\"y\":{\"field\":\"y\"}},\"id\":\"57618\",\"type\":\"Patch\"},{\"attributes\":{\"data\":{\"x\":{\"__ndarray__\":\"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\",\"dtype\":\"float64\",\"order\":\"little\",\"shape\":[200]},\"y\":{\"__ndarray__\":\"AAAAAAAAAAAAAAAAAAAAAAAAAAAAAAAAAAAAAAAAAAAAAAAAAAAAAAAAAAAAAAAAAAAAAAAAAAAAAAAAAAAAAAAAAAAAAAAAAAAAAAAAAAAAAAAAAAAAAAAAAAAAAAAAAAAAAAAAAAAAAAAAAAAAAAAAAAAAAAAAAAAAAAAAAAAAAAAAAAAAAAAAAAAAAAAAAAAAAAAAAAAAAAAAAAAAAAAAAAAAAAAAAAAAAAAAAAAAAAAAAAAAAAAAAAAAAAAAAAAAAAAAAAAAAAAAAAAAAAAAAAAAAAAAAAAAAAAAAAAAAAAAAAAAAAAAAAAAAAAAAAAAAAAAAAAAAAAAAAAAAAAAAAAAAAAAAAAAAAAAAAAAAAAAAAAAAAAAAAAAAAAAAAAAAAAAAAAAAAAAAAAAAAAAAAAAAAAAAAAAAAAAAAAAAAAAAAAAAAAAAAAAAAAAAAAAAAAAAAAAAAAAAAAAAAAAAAAAAAAAAAAAAAAAAAAAAAAAAAAAAAAAAAAAAAAAAAAAAAAAAAAAAAAAAAAAAAAAAAAAAAAAAAAAAAAAAAAAAAAAAAAAAAAAAAAAAAAAAAAAAAAAAAAAAAAAAAAAAAAAAAAAAAAAAAAAAAAAAAAAAAAAAAAAAAAAAAAAAAAAAAAAAAAAAAAAAAAAAAAAAAAAAAAAAAAAAAAAAAAAAAAAAAAAAAAAAAAAAAAAAAAAAAAAAAAAAAAAAAAAAAAAAAAAAAAAAAAAAAAAAAAAAAAAAAAAAAAAAAAAAAAAAAAAAAAAAAAAAAAAAAAAAAAAAAAAAAAAAAAAAAAAAAAAAAAAAAAAAAAAAAAAAAAAAAAAAAAAAAAAAAAAAAAAAAAAAAAAAAAAAAAAAAAAAAAAAAAAAAAAAAAAAAAAAAAAAAAAAAAAAAAAAAAAAAAAAAAAAAAAAAAAAAAAAAAAAAAAAAAAAAAAAAAAAAAAAAAAAAAAAAAAAAAAAAAAAAAAAAAAAAAAAAAAAAAAAAAAAAAAAAAAAAAAAAAAAAAAAAAAAAAAAAAAAAAAAAAAAAAAAAAAAAAAAAAAAAAAAAAAAAAAAABn207opWNOPt0AoI3DvFg+Acxd14SaYz53jX4wJUBuPttZn572uXY+7M7Q73qggD5aGVgxC7KHPp+d6rSscpA+BzQrM50/lj4vKuENfVSdPqA/yoPt2KI+Xn3DeoGfpz674cXul+OsPue54ceIPrE+MEN9wCsctD7LsI4gRO22PpWX4BCLk7k+B2twZAXzuz6OOlcm+fS9Po7fyYY6ir8+Rs1/5zhWwD518B2UF6/APseOITHu1MA+gEyKtejPwD5I4KKQ+KnAPlP0bIudbcA+Ge1pj9YkwD6x93lXrbC/PrWwsKgOHr8+eotTtKGbvj4ggoI+Mi++PtGgB4bO2r0+uok/4T6dvT71pGcNoXK9PqXLYKUkVb0+1DUmaeg9vT6trgSj8SW9PjksRC0rB70+WoL54k3dvD45A29Jjqa8PpfecbPuY7w+TC4/fiIZvD4GpjttA8y7Po9S3VOwg7s+L4UQQH5Huz6rxz1v7h27PhRyNkXZC7s+yjqmBfITuz7/RECZsza7PqGcSg6xcrs+B3MbtjHFuz4qTeN39Cq8Pt6iOvDxoLw+/8tL7vgkvT4phwDoCra9Pmpd1FNrVL4+SoDbqWIBvz4G9fnWwb6/PqV5qdgdR8A+sgf3Y1e4wD405SBSvTLBPp3oZ0/8tME+0WJyOJU8wj4UXeJW1MXCPliktz3pS8M+Bhv/yxvJwz4TsqKfFzfEPtw9E2xFj8Q+JN3xbynLxD68vFeHv+TEPl9OrpvP1sQ+274+vTedxD63ofc6KzXEPvT0Bu5mncM+zOtgYFrWwj7+zhqtQ+LBPvJQKaw5xcA+4XIrYzwKvz7eRlbi41K8Po8S5E8Ldrk+eakkIRGHtj5rKq5E9JmzPshGppMWwrA+7kpYGgAirD56vX/ckCqnPvAkwYCSs6I+uuJk4MCUnT7aYZmX6+eWPr7MS49SW5E+xLrtdQ66iT7U5GV106OCPs01hcI7ZXo+D9+YL7JBcj592z0enaloPhJ2JF5HQ2A+1CC8avXuVD6hruT5CktKPgP/dGIHHEA+LLS8fzhBMz7nqaclzHEmPg==\",\"dtype\":\"float64\",\"order\":\"little\",\"shape\":[200]}},\"selected\":{\"id\":\"57637\"},\"selection_policy\":{\"id\":\"57653\"}},\"id\":\"57636\",\"type\":\"ColumnDataSource\"},{\"attributes\":{},\"id\":\"57616\",\"type\":\"Selection\"},{\"attributes\":{\"source\":{\"id\":\"57615\"}},\"id\":\"57622\",\"type\":\"CDSView\"},{\"attributes\":{},\"id\":\"57584\",\"type\":\"LinearScale\"}],\"root_ids\":[\"57572\"]},\"title\":\"Bokeh Application\",\"version\":\"2.4.3\"}};\n",
       "    var render_items = [{\"docid\":\"726acd89-783b-4fe1-9135-59d252299eea\",\"root_ids\":[\"57572\"],\"roots\":{\"57572\":\"7e9e11cf-1246-4b3c-9ad7-9522a4905a4e\"}}];\n",
       "    root.Bokeh.embed.embed_items_notebook(docs_json, render_items);\n",
       "  }\n",
       "  if (root.Bokeh !== undefined && root.Bokeh.Panel !== undefined) {\n",
       "    embed_document(root);\n",
       "  } else {\n",
       "    var attempts = 0;\n",
       "    var timer = setInterval(function(root) {\n",
       "      if (root.Bokeh !== undefined && root.Bokeh.Panel !== undefined) {\n",
       "        clearInterval(timer);\n",
       "        embed_document(root);\n",
       "      } else if (document.readyState == \"complete\") {\n",
       "        attempts++;\n",
       "        if (attempts > 200) {\n",
       "          clearInterval(timer);\n",
       "          console.log(\"Bokeh: ERROR: Unable to run BokehJS code because BokehJS library is missing\");\n",
       "        }\n",
       "      }\n",
       "    }, 25, root)\n",
       "  }\n",
       "})(window);</script>"
      ],
      "text/plain": [
       ":NdOverlay   [forecast_flag]\n",
       "   :Distribution   [actuals]   (Density)"
      ]
     },
     "execution_count": 48,
     "metadata": {
      "application/vnd.holoviews_exec.v0+json": {
       "id": "57572"
      }
     },
     "output_type": "execute_result"
    }
   ],
   "source": [
    "residual_analysis.hvplot.kde(y=\"actuals\",by=\"forecast_flag\", ## Grouping by Predictions\n",
    "                                width=800, height=400,\n",
    "                                alpha=0.7,\n",
    "                                ylabel=\"density\",\n",
    "                                xlabel=\"house_price\",\n",
    "                                title=f'house price(density)',legend='top_right')"
   ]
  },
  {
   "cell_type": "markdown",
   "metadata": {},
   "source": [
    "- From the above plot we can infer that the higher \"over predictions\" are happening for unit_cost > 200.\n",
    "- similarly, the higher \"under predictions\" are happening for unit_cost is zero.\n",
    "\n",
    "This can help us tune the model by a separate model for unit_cost > 200\n"
   ]
  },
  {
   "cell_type": "markdown",
   "metadata": {},
   "source": [
    "# 4.2 Modelling - XGBoost"
   ]
  },
  {
   "cell_type": "markdown",
   "metadata": {},
   "source": [
    "## 4.2.1 Model training pipeline\n",
    "\n",
    "Here we focus on creating a collection of pipelines that can be used for tranining respective models.\n",
    "\n",
    "Each model pipeline will essentially be of the form\n",
    "```\n",
    "[\n",
    "('preprocessing', preprocessing_pipeline),\n",
    "('feature_selection', feature_selection_pipeline),\n",
    "('estimator', estimator),\n",
    "]\n",
    "```"
   ]
  },
  {
   "cell_type": "markdown",
   "metadata": {},
   "source": [
    "### 4.2.2 Model Pipeline Build"
   ]
  },
  {
   "cell_type": "code",
   "execution_count": 49,
   "metadata": {},
   "outputs": [
    {
     "data": {
      "text/html": [
       "<style>#sk-container-id-2 {color: black;background-color: white;}#sk-container-id-2 pre{padding: 0;}#sk-container-id-2 div.sk-toggleable {background-color: white;}#sk-container-id-2 label.sk-toggleable__label {cursor: pointer;display: block;width: 100%;margin-bottom: 0;padding: 0.3em;box-sizing: border-box;text-align: center;}#sk-container-id-2 label.sk-toggleable__label-arrow:before {content: \"▸\";float: left;margin-right: 0.25em;color: #696969;}#sk-container-id-2 label.sk-toggleable__label-arrow:hover:before {color: black;}#sk-container-id-2 div.sk-estimator:hover label.sk-toggleable__label-arrow:before {color: black;}#sk-container-id-2 div.sk-toggleable__content {max-height: 0;max-width: 0;overflow: hidden;text-align: left;background-color: #f0f8ff;}#sk-container-id-2 div.sk-toggleable__content pre {margin: 0.2em;color: black;border-radius: 0.25em;background-color: #f0f8ff;}#sk-container-id-2 input.sk-toggleable__control:checked~div.sk-toggleable__content {max-height: 200px;max-width: 100%;overflow: auto;}#sk-container-id-2 input.sk-toggleable__control:checked~label.sk-toggleable__label-arrow:before {content: \"▾\";}#sk-container-id-2 div.sk-estimator input.sk-toggleable__control:checked~label.sk-toggleable__label {background-color: #d4ebff;}#sk-container-id-2 div.sk-label input.sk-toggleable__control:checked~label.sk-toggleable__label {background-color: #d4ebff;}#sk-container-id-2 input.sk-hidden--visually {border: 0;clip: rect(1px 1px 1px 1px);clip: rect(1px, 1px, 1px, 1px);height: 1px;margin: -1px;overflow: hidden;padding: 0;position: absolute;width: 1px;}#sk-container-id-2 div.sk-estimator {font-family: monospace;background-color: #f0f8ff;border: 1px dotted black;border-radius: 0.25em;box-sizing: border-box;margin-bottom: 0.5em;}#sk-container-id-2 div.sk-estimator:hover {background-color: #d4ebff;}#sk-container-id-2 div.sk-parallel-item::after {content: \"\";width: 100%;border-bottom: 1px solid gray;flex-grow: 1;}#sk-container-id-2 div.sk-label:hover label.sk-toggleable__label {background-color: #d4ebff;}#sk-container-id-2 div.sk-serial::before {content: \"\";position: absolute;border-left: 1px solid gray;box-sizing: border-box;top: 0;bottom: 0;left: 50%;z-index: 0;}#sk-container-id-2 div.sk-serial {display: flex;flex-direction: column;align-items: center;background-color: white;padding-right: 0.2em;padding-left: 0.2em;position: relative;}#sk-container-id-2 div.sk-item {position: relative;z-index: 1;}#sk-container-id-2 div.sk-parallel {display: flex;align-items: stretch;justify-content: center;background-color: white;position: relative;}#sk-container-id-2 div.sk-item::before, #sk-container-id-2 div.sk-parallel-item::before {content: \"\";position: absolute;border-left: 1px solid gray;box-sizing: border-box;top: 0;bottom: 0;left: 50%;z-index: -1;}#sk-container-id-2 div.sk-parallel-item {display: flex;flex-direction: column;z-index: 1;position: relative;background-color: white;}#sk-container-id-2 div.sk-parallel-item:first-child::after {align-self: flex-end;width: 50%;}#sk-container-id-2 div.sk-parallel-item:last-child::after {align-self: flex-start;width: 50%;}#sk-container-id-2 div.sk-parallel-item:only-child::after {width: 0;}#sk-container-id-2 div.sk-dashed-wrapped {border: 1px dashed gray;margin: 0 0.4em 0.5em 0.4em;box-sizing: border-box;padding-bottom: 0.4em;background-color: white;}#sk-container-id-2 div.sk-label label {font-family: monospace;font-weight: bold;display: inline-block;line-height: 1.2em;}#sk-container-id-2 div.sk-label-container {text-align: center;}#sk-container-id-2 div.sk-container {/* jupyter's `normalize.less` sets `[hidden] { display: none; }` but bootstrap.min.css set `[hidden] { display: none !important; }` so we also need the `!important` here to be able to override the default hidden behavior on the sphinx rendered scikit-learn.org. See: https://github.com/scikit-learn/scikit-learn/issues/21755 */display: inline-block !important;position: relative;}#sk-container-id-2 div.sk-text-repr-fallback {display: none;}</style><div id=\"sk-container-id-2\" class=\"sk-top-container\"><div class=\"sk-text-repr-fallback\"><pre>Pipeline(steps=[(&#x27;XGBoost&#x27;,\n",
       "                 XGBRegressor(base_score=0.5, booster=&#x27;gbtree&#x27;,\n",
       "                              colsample_bylevel=1, colsample_bynode=1,\n",
       "                              colsample_bytree=1, enable_categorical=False,\n",
       "                              gamma=0, gpu_id=-1, importance_type=None,\n",
       "                              interaction_constraints=&#x27;&#x27;,\n",
       "                              learning_rate=0.300000012, max_delta_step=0,\n",
       "                              max_depth=6, min_child_weight=1, missing=nan,\n",
       "                              monotone_constraints=&#x27;()&#x27;, n_estimators=100,\n",
       "                              n_jobs=8, num_parallel_tree=1, predictor=&#x27;auto&#x27;,\n",
       "                              random_state=0, reg_alpha=0, reg_lambda=1,\n",
       "                              scale_pos_weight=1, subsample=1,\n",
       "                              tree_method=&#x27;exact&#x27;, validate_parameters=1,\n",
       "                              verbosity=None))])</pre><b>In a Jupyter environment, please rerun this cell to show the HTML representation or trust the notebook. <br />On GitHub, the HTML representation is unable to render, please try loading this page with nbviewer.org.</b></div><div class=\"sk-container\" hidden><div class=\"sk-item sk-dashed-wrapped\"><div class=\"sk-label-container\"><div class=\"sk-label sk-toggleable\"><input class=\"sk-toggleable__control sk-hidden--visually\" id=\"sk-estimator-id-4\" type=\"checkbox\" ><label for=\"sk-estimator-id-4\" class=\"sk-toggleable__label sk-toggleable__label-arrow\">Pipeline</label><div class=\"sk-toggleable__content\"><pre>Pipeline(steps=[(&#x27;XGBoost&#x27;,\n",
       "                 XGBRegressor(base_score=0.5, booster=&#x27;gbtree&#x27;,\n",
       "                              colsample_bylevel=1, colsample_bynode=1,\n",
       "                              colsample_bytree=1, enable_categorical=False,\n",
       "                              gamma=0, gpu_id=-1, importance_type=None,\n",
       "                              interaction_constraints=&#x27;&#x27;,\n",
       "                              learning_rate=0.300000012, max_delta_step=0,\n",
       "                              max_depth=6, min_child_weight=1, missing=nan,\n",
       "                              monotone_constraints=&#x27;()&#x27;, n_estimators=100,\n",
       "                              n_jobs=8, num_parallel_tree=1, predictor=&#x27;auto&#x27;,\n",
       "                              random_state=0, reg_alpha=0, reg_lambda=1,\n",
       "                              scale_pos_weight=1, subsample=1,\n",
       "                              tree_method=&#x27;exact&#x27;, validate_parameters=1,\n",
       "                              verbosity=None))])</pre></div></div></div><div class=\"sk-serial\"><div class=\"sk-item\"><div class=\"sk-estimator sk-toggleable\"><input class=\"sk-toggleable__control sk-hidden--visually\" id=\"sk-estimator-id-5\" type=\"checkbox\" ><label for=\"sk-estimator-id-5\" class=\"sk-toggleable__label sk-toggleable__label-arrow\">XGBRegressor</label><div class=\"sk-toggleable__content\"><pre>XGBRegressor(base_score=0.5, booster=&#x27;gbtree&#x27;, colsample_bylevel=1,\n",
       "             colsample_bynode=1, colsample_bytree=1, enable_categorical=False,\n",
       "             gamma=0, gpu_id=-1, importance_type=None,\n",
       "             interaction_constraints=&#x27;&#x27;, learning_rate=0.300000012,\n",
       "             max_delta_step=0, max_depth=6, min_child_weight=1, missing=nan,\n",
       "             monotone_constraints=&#x27;()&#x27;, n_estimators=100, n_jobs=8,\n",
       "             num_parallel_tree=1, predictor=&#x27;auto&#x27;, random_state=0, reg_alpha=0,\n",
       "             reg_lambda=1, scale_pos_weight=1, subsample=1, tree_method=&#x27;exact&#x27;,\n",
       "             validate_parameters=1, verbosity=None)</pre></div></div></div></div></div></div></div>"
      ],
      "text/plain": [
       "Pipeline(steps=[('XGBoost',\n",
       "                 XGBRegressor(base_score=0.5, booster='gbtree',\n",
       "                              colsample_bylevel=1, colsample_bynode=1,\n",
       "                              colsample_bytree=1, enable_categorical=False,\n",
       "                              gamma=0, gpu_id=-1, importance_type=None,\n",
       "                              interaction_constraints='',\n",
       "                              learning_rate=0.300000012, max_delta_step=0,\n",
       "                              max_depth=6, min_child_weight=1, missing=nan,\n",
       "                              monotone_constraints='()', n_estimators=100,\n",
       "                              n_jobs=8, num_parallel_tree=1, predictor='auto',\n",
       "                              random_state=0, reg_alpha=0, reg_lambda=1,\n",
       "                              scale_pos_weight=1, subsample=1,\n",
       "                              tree_method='exact', validate_parameters=1,\n",
       "                              verbosity=None))])"
      ]
     },
     "execution_count": 49,
     "metadata": {},
     "output_type": "execute_result"
    }
   ],
   "source": [
    "# let's find features for some decent defaults\n",
    "estimator = XGBRegressor()\n",
    "xgb_training_pipe_init = Pipeline([\n",
    "    ('XGBoost', XGBRegressor())\n",
    "])\n",
    "xgb_training_pipe_init.fit(train_X, train_y)"
   ]
  },
  {
   "cell_type": "markdown",
   "metadata": {},
   "source": [
    "### 4.2.3 Model Tuning"
   ]
  },
  {
   "cell_type": "code",
   "execution_count": 50,
   "metadata": {},
   "outputs": [
    {
     "data": {
      "text/plain": [
       "<AxesSubplot:>"
      ]
     },
     "execution_count": 50,
     "metadata": {},
     "output_type": "execute_result"
    },
    {
     "data": {
      "image/png": "[encoded data removed]",
      "text/plain": [
       "<Figure size 640x480 with 1 Axes>"
      ]
     },
     "metadata": {},
     "output_type": "display_data"
    }
   ],
   "source": [
    "# Understanding the Feature Importance\n",
    "%matplotlib inline\n",
    "imp = pd.DataFrame({'importance': xgb_training_pipe_init['XGBoost'].feature_importances_})\n",
    "imp.index = train_X.columns\n",
    "imp.sort_values('importance',inplace=True)\n",
    "imp.plot(kind='barh')"
   ]
  },
  {
   "cell_type": "markdown",
   "metadata": {},
   "source": [
    "'condition','model_family','days_since_last_purchase','first_time_customer','sales_person', are considered to be important and in grid search"
   ]
  },
  {
   "cell_type": "markdown",
   "metadata": {},
   "source": [
    "##### Pipeline build based on new importance features"
   ]
  },
  {
   "cell_type": "code",
   "execution_count": 51,
   "metadata": {},
   "outputs": [],
   "source": [
    "# let's find features for some decent defaults\n",
    "imp_features =  train_X.columns.to_list()\n",
    "estimator = XGBRegressor()\n",
    "xgb_training_pipe2 = Pipeline([\n",
    "    ('', FunctionTransformer(_custom_data_transform, kw_args={'cols2keep':imp_features})),\n",
    "    ('XGBoost', XGBRegressor())\n",
    "])"
   ]
  },
  {
   "cell_type": "markdown",
   "metadata": {},
   "source": [
    "#### Grid Search of the Estimator"
   ]
  },
  {
   "cell_type": "code",
   "execution_count": 52,
   "metadata": {},
   "outputs": [],
   "source": [
    "#data = [json.loads(line) for line in open('conf/param.json', 'r')]\n",
    "f = open('conf/param.json','r')\n",
    "param = json.load(f)"
   ]
  },
  {
   "cell_type": "code",
   "execution_count": 53,
   "metadata": {},
   "outputs": [
    {
     "name": "stdout",
     "output_type": "stream",
     "text": [
      "Fitting 2 folds for each of 9 candidates, totalling 18 fits\n",
      "0.7973234260158802\n",
      "{'gamma': 0.03, 'learning_rate': 0.1, 'max_depth': 5, 'min_child_weight': 8, 'n_estimators': 500}\n",
      "CPU times: user 6min 40s, sys: 3.81 s, total: 6min 44s\n",
      "Wall time: 57.6 s\n"
     ]
    }
   ],
   "source": [
    "%%time\n",
    "parameters = param['XGboost']['parameters']\n",
    "\n",
    "est = XGBRegressor()\n",
    "xgb_grid = GridSearchCV(est,\n",
    "                        parameters,\n",
    "                        cv = 2,\n",
    "\n",
    "                        verbose=True)\n",
    "\n",
    "xgb_grid.fit(train_X, train_y)\n",
    "\n",
    "print(xgb_grid.best_score_)\n",
    "print(xgb_grid.best_params_)"
   ]
  },
  {
   "cell_type": "markdown",
   "metadata": {},
   "source": [
    "#### Pipeline Build using the best estimator"
   ]
  },
  {
   "cell_type": "code",
   "execution_count": 54,
   "metadata": {},
   "outputs": [
    {
     "data": {
      "text/html": [
       "<style>#sk-container-id-3 {color: black;background-color: white;}#sk-container-id-3 pre{padding: 0;}#sk-container-id-3 div.sk-toggleable {background-color: white;}#sk-container-id-3 label.sk-toggleable__label {cursor: pointer;display: block;width: 100%;margin-bottom: 0;padding: 0.3em;box-sizing: border-box;text-align: center;}#sk-container-id-3 label.sk-toggleable__label-arrow:before {content: \"▸\";float: left;margin-right: 0.25em;color: #696969;}#sk-container-id-3 label.sk-toggleable__label-arrow:hover:before {color: black;}#sk-container-id-3 div.sk-estimator:hover label.sk-toggleable__label-arrow:before {color: black;}#sk-container-id-3 div.sk-toggleable__content {max-height: 0;max-width: 0;overflow: hidden;text-align: left;background-color: #f0f8ff;}#sk-container-id-3 div.sk-toggleable__content pre {margin: 0.2em;color: black;border-radius: 0.25em;background-color: #f0f8ff;}#sk-container-id-3 input.sk-toggleable__control:checked~div.sk-toggleable__content {max-height: 200px;max-width: 100%;overflow: auto;}#sk-container-id-3 input.sk-toggleable__control:checked~label.sk-toggleable__label-arrow:before {content: \"▾\";}#sk-container-id-3 div.sk-estimator input.sk-toggleable__control:checked~label.sk-toggleable__label {background-color: #d4ebff;}#sk-container-id-3 div.sk-label input.sk-toggleable__control:checked~label.sk-toggleable__label {background-color: #d4ebff;}#sk-container-id-3 input.sk-hidden--visually {border: 0;clip: rect(1px 1px 1px 1px);clip: rect(1px, 1px, 1px, 1px);height: 1px;margin: -1px;overflow: hidden;padding: 0;position: absolute;width: 1px;}#sk-container-id-3 div.sk-estimator {font-family: monospace;background-color: #f0f8ff;border: 1px dotted black;border-radius: 0.25em;box-sizing: border-box;margin-bottom: 0.5em;}#sk-container-id-3 div.sk-estimator:hover {background-color: #d4ebff;}#sk-container-id-3 div.sk-parallel-item::after {content: \"\";width: 100%;border-bottom: 1px solid gray;flex-grow: 1;}#sk-container-id-3 div.sk-label:hover label.sk-toggleable__label {background-color: #d4ebff;}#sk-container-id-3 div.sk-serial::before {content: \"\";position: absolute;border-left: 1px solid gray;box-sizing: border-box;top: 0;bottom: 0;left: 50%;z-index: 0;}#sk-container-id-3 div.sk-serial {display: flex;flex-direction: column;align-items: center;background-color: white;padding-right: 0.2em;padding-left: 0.2em;position: relative;}#sk-container-id-3 div.sk-item {position: relative;z-index: 1;}#sk-container-id-3 div.sk-parallel {display: flex;align-items: stretch;justify-content: center;background-color: white;position: relative;}#sk-container-id-3 div.sk-item::before, #sk-container-id-3 div.sk-parallel-item::before {content: \"\";position: absolute;border-left: 1px solid gray;box-sizing: border-box;top: 0;bottom: 0;left: 50%;z-index: -1;}#sk-container-id-3 div.sk-parallel-item {display: flex;flex-direction: column;z-index: 1;position: relative;background-color: white;}#sk-container-id-3 div.sk-parallel-item:first-child::after {align-self: flex-end;width: 50%;}#sk-container-id-3 div.sk-parallel-item:last-child::after {align-self: flex-start;width: 50%;}#sk-container-id-3 div.sk-parallel-item:only-child::after {width: 0;}#sk-container-id-3 div.sk-dashed-wrapped {border: 1px dashed gray;margin: 0 0.4em 0.5em 0.4em;box-sizing: border-box;padding-bottom: 0.4em;background-color: white;}#sk-container-id-3 div.sk-label label {font-family: monospace;font-weight: bold;display: inline-block;line-height: 1.2em;}#sk-container-id-3 div.sk-label-container {text-align: center;}#sk-container-id-3 div.sk-container {/* jupyter's `normalize.less` sets `[hidden] { display: none; }` but bootstrap.min.css set `[hidden] { display: none !important; }` so we also need the `!important` here to be able to override the default hidden behavior on the sphinx rendered scikit-learn.org. See: https://github.com/scikit-learn/scikit-learn/issues/21755 */display: inline-block !important;position: relative;}#sk-container-id-3 div.sk-text-repr-fallback {display: none;}</style><div id=\"sk-container-id-3\" class=\"sk-top-container\"><div class=\"sk-text-repr-fallback\"><pre>Pipeline(steps=[(&#x27;&#x27;,\n",
       "                 FunctionTransformer(func=&lt;function _custom_data_transform at 0x7fe1f6b328b0&gt;,\n",
       "                                     kw_args={&#x27;cols2keep&#x27;: [&#x27;bedrooms_per_room&#x27;,\n",
       "                                                            &#x27;total_rooms&#x27;,\n",
       "                                                            &#x27;housing_median_age&#x27;,\n",
       "                                                            &#x27;ocean_proximity_NEAR &#x27;\n",
       "                                                            &#x27;BAY&#x27;,\n",
       "                                                            &#x27;ocean_proximity_INLAND&#x27;,\n",
       "                                                            &#x27;rooms_per_household&#x27;,\n",
       "                                                            &#x27;ocean_proximity_ISLAND&#x27;,\n",
       "                                                            &#x27;median_income&#x27;,\n",
       "                                                            &#x27;longitude&#x27;,\n",
       "                                                            &#x27;population_per_household&#x27;,\n",
       "                                                            &#x27;ocean_proximity_NEAR &#x27;\n",
       "                                                            &#x27;O...\n",
       "                              gamma=0.03, gpu_id=-1, importance_type=None,\n",
       "                              interaction_constraints=&#x27;&#x27;, learning_rate=0.1,\n",
       "                              max_delta_step=0, max_depth=5, min_child_weight=8,\n",
       "                              missing=nan, monotone_constraints=&#x27;()&#x27;,\n",
       "                              n_estimators=500, n_jobs=8, num_parallel_tree=1,\n",
       "                              predictor=&#x27;auto&#x27;, random_state=0, reg_alpha=0,\n",
       "                              reg_lambda=1, scale_pos_weight=1, subsample=1,\n",
       "                              tree_method=&#x27;exact&#x27;, validate_parameters=1,\n",
       "                              verbosity=None))])</pre><b>In a Jupyter environment, please rerun this cell to show the HTML representation or trust the notebook. <br />On GitHub, the HTML representation is unable to render, please try loading this page with nbviewer.org.</b></div><div class=\"sk-container\" hidden><div class=\"sk-item sk-dashed-wrapped\"><div class=\"sk-label-container\"><div class=\"sk-label sk-toggleable\"><input class=\"sk-toggleable__control sk-hidden--visually\" id=\"sk-estimator-id-6\" type=\"checkbox\" ><label for=\"sk-estimator-id-6\" class=\"sk-toggleable__label sk-toggleable__label-arrow\">Pipeline</label><div class=\"sk-toggleable__content\"><pre>Pipeline(steps=[(&#x27;&#x27;,\n",
       "                 FunctionTransformer(func=&lt;function _custom_data_transform at 0x7fe1f6b328b0&gt;,\n",
       "                                     kw_args={&#x27;cols2keep&#x27;: [&#x27;bedrooms_per_room&#x27;,\n",
       "                                                            &#x27;total_rooms&#x27;,\n",
       "                                                            &#x27;housing_median_age&#x27;,\n",
       "                                                            &#x27;ocean_proximity_NEAR &#x27;\n",
       "                                                            &#x27;BAY&#x27;,\n",
       "                                                            &#x27;ocean_proximity_INLAND&#x27;,\n",
       "                                                            &#x27;rooms_per_household&#x27;,\n",
       "                                                            &#x27;ocean_proximity_ISLAND&#x27;,\n",
       "                                                            &#x27;median_income&#x27;,\n",
       "                                                            &#x27;longitude&#x27;,\n",
       "                                                            &#x27;population_per_household&#x27;,\n",
       "                                                            &#x27;ocean_proximity_NEAR &#x27;\n",
       "                                                            &#x27;O...\n",
       "                              gamma=0.03, gpu_id=-1, importance_type=None,\n",
       "                              interaction_constraints=&#x27;&#x27;, learning_rate=0.1,\n",
       "                              max_delta_step=0, max_depth=5, min_child_weight=8,\n",
       "                              missing=nan, monotone_constraints=&#x27;()&#x27;,\n",
       "                              n_estimators=500, n_jobs=8, num_parallel_tree=1,\n",
       "                              predictor=&#x27;auto&#x27;, random_state=0, reg_alpha=0,\n",
       "                              reg_lambda=1, scale_pos_weight=1, subsample=1,\n",
       "                              tree_method=&#x27;exact&#x27;, validate_parameters=1,\n",
       "                              verbosity=None))])</pre></div></div></div><div class=\"sk-serial\"><div class=\"sk-item\"><div class=\"sk-estimator sk-toggleable\"><input class=\"sk-toggleable__control sk-hidden--visually\" id=\"sk-estimator-id-7\" type=\"checkbox\" ><label for=\"sk-estimator-id-7\" class=\"sk-toggleable__label sk-toggleable__label-arrow\">FunctionTransformer</label><div class=\"sk-toggleable__content\"><pre>FunctionTransformer(func=&lt;function _custom_data_transform at 0x7fe1f6b328b0&gt;,\n",
       "                    kw_args={&#x27;cols2keep&#x27;: [&#x27;bedrooms_per_room&#x27;, &#x27;total_rooms&#x27;,\n",
       "                                           &#x27;housing_median_age&#x27;,\n",
       "                                           &#x27;ocean_proximity_NEAR BAY&#x27;,\n",
       "                                           &#x27;ocean_proximity_INLAND&#x27;,\n",
       "                                           &#x27;rooms_per_household&#x27;,\n",
       "                                           &#x27;ocean_proximity_ISLAND&#x27;,\n",
       "                                           &#x27;median_income&#x27;, &#x27;longitude&#x27;,\n",
       "                                           &#x27;population_per_household&#x27;,\n",
       "                                           &#x27;ocean_proximity_NEAR OCEAN&#x27;]})</pre></div></div></div><div class=\"sk-item\"><div class=\"sk-estimator sk-toggleable\"><input class=\"sk-toggleable__control sk-hidden--visually\" id=\"sk-estimator-id-8\" type=\"checkbox\" ><label for=\"sk-estimator-id-8\" class=\"sk-toggleable__label sk-toggleable__label-arrow\">XGBRegressor</label><div class=\"sk-toggleable__content\"><pre>XGBRegressor(base_score=0.5, booster=&#x27;gbtree&#x27;, colsample_bylevel=1,\n",
       "             colsample_bynode=1, colsample_bytree=1, enable_categorical=False,\n",
       "             gamma=0.03, gpu_id=-1, importance_type=None,\n",
       "             interaction_constraints=&#x27;&#x27;, learning_rate=0.1, max_delta_step=0,\n",
       "             max_depth=5, min_child_weight=8, missing=nan,\n",
       "             monotone_constraints=&#x27;()&#x27;, n_estimators=500, n_jobs=8,\n",
       "             num_parallel_tree=1, predictor=&#x27;auto&#x27;, random_state=0, reg_alpha=0,\n",
       "             reg_lambda=1, scale_pos_weight=1, subsample=1, tree_method=&#x27;exact&#x27;,\n",
       "             validate_parameters=1, verbosity=None)</pre></div></div></div></div></div></div></div>"
      ],
      "text/plain": [
       "Pipeline(steps=[('',\n",
       "                 FunctionTransformer(func=<function _custom_data_transform at 0x7fe1f6b328b0>,\n",
       "                                     kw_args={'cols2keep': ['bedrooms_per_room',\n",
       "                                                            'total_rooms',\n",
       "                                                            'housing_median_age',\n",
       "                                                            'ocean_proximity_NEAR '\n",
       "                                                            'BAY',\n",
       "                                                            'ocean_proximity_INLAND',\n",
       "                                                            'rooms_per_household',\n",
       "                                                            'ocean_proximity_ISLAND',\n",
       "                                                            'median_income',\n",
       "                                                            'longitude',\n",
       "                                                            'population_per_household',\n",
       "                                                            'ocean_proximity_NEAR '\n",
       "                                                            'O...\n",
       "                              gamma=0.03, gpu_id=-1, importance_type=None,\n",
       "                              interaction_constraints='', learning_rate=0.1,\n",
       "                              max_delta_step=0, max_depth=5, min_child_weight=8,\n",
       "                              missing=nan, monotone_constraints='()',\n",
       "                              n_estimators=500, n_jobs=8, num_parallel_tree=1,\n",
       "                              predictor='auto', random_state=0, reg_alpha=0,\n",
       "                              reg_lambda=1, scale_pos_weight=1, subsample=1,\n",
       "                              tree_method='exact', validate_parameters=1,\n",
       "                              verbosity=None))])"
      ]
     },
     "execution_count": 54,
     "metadata": {},
     "output_type": "execute_result"
    }
   ],
   "source": [
    "xgb_pipeline_final = Pipeline([\n",
    "    ('', FunctionTransformer(_custom_data_transform, kw_args={'cols2keep':imp_features})),\n",
    "    ('XGBoost', xgb_grid.best_estimator_)\n",
    "])\n",
    "xgb_pipeline_final.fit(train_X, train_y)"
   ]
  },
  {
   "cell_type": "code",
   "execution_count": 55,
   "metadata": {},
   "outputs": [],
   "source": [
    "reg_tree_report = RegressionReport(model=xgb_pipeline_final, x_train=train_X, y_train=train_y, x_test= test_X, y_test= test_y)\n",
    "reg_tree_report.get_report(include_shap=False, file_path='regression_tree_model_report')"
   ]
  },
  {
   "cell_type": "markdown",
   "metadata": {},
   "source": [
    "The Regression report containing the feature importances are available [here](https://drive.google.com/file/d/1JBfL3uxPcxBfl0amweXBFmLr7CSHFBUO/view?usp=sharing)"
   ]
  },
  {
   "cell_type": "markdown",
   "metadata": {},
   "source": [
    "# 5 Model Comparison"
   ]
  },
  {
   "cell_type": "markdown",
   "metadata": {},
   "source": [
    "Now, a comparison report of the  linear (vs) tree -based model  approach can be generated as follows.\n",
    "\n",
    "This code will not be part of the production code."
   ]
  },
  {
   "cell_type": "code",
   "execution_count": 61,
   "metadata": {},
   "outputs": [],
   "source": [
    "model_pipelines = [reg_ppln, xgb_pipeline_final]\n",
    "model_comparison_report = RegressionComparison(models=model_pipelines,x=train_X, y=train_y)\n",
    "#metrics = model_comparison_report.get_report(file_path='regression_comparison')"
   ]
  },
  {
   "cell_type": "code",
   "execution_count": 59,
   "metadata": {},
   "outputs": [
    {
     "data": {
      "text/plain": [
       "<tigerml.model_eval.comparison.RegressionComparison at 0x7fe1fd051940>"
      ]
     },
     "execution_count": 59,
     "metadata": {},
     "output_type": "execute_result"
    }
   ],
   "source": [
    "model_comparison_report."
   ]
  },
  {
   "cell_type": "code",
   "execution_count": 57,
   "metadata": {},
   "outputs": [
    {
     "data": {
      "text/html": [
       "<div>\n",
       "<style scoped>\n",
       "    .dataframe tbody tr th:only-of-type {\n",
       "        vertical-align: middle;\n",
       "    }\n",
       "\n",
       "    .dataframe tbody tr th {\n",
       "        vertical-align: top;\n",
       "    }\n",
       "\n",
       "    .dataframe thead th {\n",
       "        text-align: right;\n",
       "    }\n",
       "</style>\n",
       "<table border=\"1\" class=\"dataframe\">\n",
       "  <thead>\n",
       "    <tr style=\"text-align: right;\">\n",
       "      <th>metric</th>\n",
       "      <th>MAPE</th>\n",
       "      <th>WMAPE</th>\n",
       "      <th>MAE</th>\n",
       "      <th>RMSE</th>\n",
       "      <th>R^2</th>\n",
       "    </tr>\n",
       "  </thead>\n",
       "  <tbody>\n",
       "    <tr>\n",
       "      <th>, Linear Regression</th>\n",
       "      <td>0.2836</td>\n",
       "      <td>0.2357</td>\n",
       "      <td>48662.2028</td>\n",
       "      <td>67996.6501</td>\n",
       "      <td>0.6536</td>\n",
       "    </tr>\n",
       "    <tr>\n",
       "      <th>, XGBoost</th>\n",
       "      <td>0.1394</td>\n",
       "      <td>0.1205</td>\n",
       "      <td>24873.2947</td>\n",
       "      <td>35935.6940</td>\n",
       "      <td>0.9032</td>\n",
       "    </tr>\n",
       "  </tbody>\n",
       "</table>\n",
       "</div>"
      ],
      "text/plain": [
       "metric                 MAPE   WMAPE         MAE        RMSE     R^2\n",
       ", Linear Regression  0.2836  0.2357  48662.2028  67996.6501  0.6536\n",
       ", XGBoost            0.1394  0.1205  24873.2947  35935.6940  0.9032"
      ]
     },
     "execution_count": 57,
     "metadata": {},
     "output_type": "execute_result"
    }
   ],
   "source": [
    "model_comparison_report.performance_metrics"
   ]
  },
  {
   "cell_type": "markdown",
   "metadata": {},
   "source": [
    "A report comparing the performance, metrics between Linear model and Tree model are available [here](https://drive.google.com/file/d/1LDibiFap9K4DKME-Y0S0mtI_05lTdaJF/view?usp=sharing)"
   ]
  },
  {
   "cell_type": "markdown",
   "metadata": {},
   "source": [
    "**Dev NOTES**\n",
    "<details>\n",
    "\n",
    "the above metrics are absolute nos and not %ges"
   ]
  },
  {
   "cell_type": "markdown",
   "metadata": {},
   "source": [
    "In this example we are choosing LM model for pipelining. General criteria for choosing production models is:\n",
    "\n",
    "- Parametric models (aka whitebox models) such as Linear Regression are easier to explain to non-technical audience.\n",
    "- Generally these are accepted fast and adoption is quicker.\n",
    "- If the downstream calls for optimization using these models parametric models are easier to implement.\n",
    "- When accuracy is primary goal without explainability, the above two takes a backseat"
   ]
  },
  {
   "cell_type": "code",
   "execution_count": null,
   "metadata": {},
   "outputs": [],
   "source": []
  }
 ],
 "metadata": {
  "kernelspec": {
   "display_name": "Python 3 (ipykernel)",
   "language": "python",
   "name": "python3"
  },
  "language_info": {
   "codemirror_mode": {
    "name": "ipython",
    "version": 3
   },
   "file_extension": ".py",
   "mimetype": "text/x-python",
   "name": "python",
   "nbconvert_exporter": "python",
   "pygments_lexer": "ipython3",
   "version": "3.9.16"
  }
 },
 "nbformat": 4,
 "nbformat_minor": 4
}
